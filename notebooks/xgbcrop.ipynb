{
  "nbformat": 4,
  "nbformat_minor": 0,
  "metadata": {
    "colab": {
      "provenance": []
    },
    "kernelspec": {
      "name": "python3",
      "display_name": "Python 3"
    },
    "language_info": {
      "name": "python"
    }
  },
  "cells": [
    {
      "cell_type": "code",
      "execution_count": null,
      "metadata": {
        "id": "oti1pO06m7V0"
      },
      "outputs": [],
      "source": [
        "import pandas as pd\n",
        "import numpy as np\n",
        "import matplotlib.pyplot as pyplot\n",
        "import seaborn as sns\n",
        "from sklearn.metrics import classification_report\n",
        "from sklearn import metrics"
      ]
    },
    {
      "cell_type": "code",
      "source": [
        "df = pd.read_csv('Crop_recommendation.csv')\n"
      ],
      "metadata": {
        "id": "efvfurOGpqYA"
      },
      "execution_count": null,
      "outputs": []
    },
    {
      "cell_type": "code",
      "source": [
        "df.head()"
      ],
      "metadata": {
        "colab": {
          "base_uri": "https://localhost:8080/",
          "height": 206
        },
        "id": "5jfmAmKSqR57",
        "outputId": "bc8c0e48-d481-4d14-ba6c-73d338c6a747"
      },
      "execution_count": null,
      "outputs": [
        {
          "output_type": "execute_result",
          "data": {
            "text/plain": [
              "    N   P   K  temperature   humidity        ph    rainfall label\n",
              "0  90  42  43    20.879744  82.002744  6.502985  202.935536  rice\n",
              "1  85  58  41    21.770462  80.319644  7.038096  226.655537  rice\n",
              "2  60  55  44    23.004459  82.320763  7.840207  263.964248  rice\n",
              "3  74  35  40    26.491096  80.158363  6.980401  242.864034  rice\n",
              "4  78  42  42    20.130175  81.604873  7.628473  262.717340  rice"
            ],
            "text/html": [
              "\n",
              "  <div id=\"df-19845fcf-df40-4d7f-8132-f101d116c528\">\n",
              "    <div class=\"colab-df-container\">\n",
              "      <div>\n",
              "<style scoped>\n",
              "    .dataframe tbody tr th:only-of-type {\n",
              "        vertical-align: middle;\n",
              "    }\n",
              "\n",
              "    .dataframe tbody tr th {\n",
              "        vertical-align: top;\n",
              "    }\n",
              "\n",
              "    .dataframe thead th {\n",
              "        text-align: right;\n",
              "    }\n",
              "</style>\n",
              "<table border=\"1\" class=\"dataframe\">\n",
              "  <thead>\n",
              "    <tr style=\"text-align: right;\">\n",
              "      <th></th>\n",
              "      <th>N</th>\n",
              "      <th>P</th>\n",
              "      <th>K</th>\n",
              "      <th>temperature</th>\n",
              "      <th>humidity</th>\n",
              "      <th>ph</th>\n",
              "      <th>rainfall</th>\n",
              "      <th>label</th>\n",
              "    </tr>\n",
              "  </thead>\n",
              "  <tbody>\n",
              "    <tr>\n",
              "      <th>0</th>\n",
              "      <td>90</td>\n",
              "      <td>42</td>\n",
              "      <td>43</td>\n",
              "      <td>20.879744</td>\n",
              "      <td>82.002744</td>\n",
              "      <td>6.502985</td>\n",
              "      <td>202.935536</td>\n",
              "      <td>rice</td>\n",
              "    </tr>\n",
              "    <tr>\n",
              "      <th>1</th>\n",
              "      <td>85</td>\n",
              "      <td>58</td>\n",
              "      <td>41</td>\n",
              "      <td>21.770462</td>\n",
              "      <td>80.319644</td>\n",
              "      <td>7.038096</td>\n",
              "      <td>226.655537</td>\n",
              "      <td>rice</td>\n",
              "    </tr>\n",
              "    <tr>\n",
              "      <th>2</th>\n",
              "      <td>60</td>\n",
              "      <td>55</td>\n",
              "      <td>44</td>\n",
              "      <td>23.004459</td>\n",
              "      <td>82.320763</td>\n",
              "      <td>7.840207</td>\n",
              "      <td>263.964248</td>\n",
              "      <td>rice</td>\n",
              "    </tr>\n",
              "    <tr>\n",
              "      <th>3</th>\n",
              "      <td>74</td>\n",
              "      <td>35</td>\n",
              "      <td>40</td>\n",
              "      <td>26.491096</td>\n",
              "      <td>80.158363</td>\n",
              "      <td>6.980401</td>\n",
              "      <td>242.864034</td>\n",
              "      <td>rice</td>\n",
              "    </tr>\n",
              "    <tr>\n",
              "      <th>4</th>\n",
              "      <td>78</td>\n",
              "      <td>42</td>\n",
              "      <td>42</td>\n",
              "      <td>20.130175</td>\n",
              "      <td>81.604873</td>\n",
              "      <td>7.628473</td>\n",
              "      <td>262.717340</td>\n",
              "      <td>rice</td>\n",
              "    </tr>\n",
              "  </tbody>\n",
              "</table>\n",
              "</div>\n",
              "      <button class=\"colab-df-convert\" onclick=\"convertToInteractive('df-19845fcf-df40-4d7f-8132-f101d116c528')\"\n",
              "              title=\"Convert this dataframe to an interactive table.\"\n",
              "              style=\"display:none;\">\n",
              "        \n",
              "  <svg xmlns=\"http://www.w3.org/2000/svg\" height=\"24px\"viewBox=\"0 0 24 24\"\n",
              "       width=\"24px\">\n",
              "    <path d=\"M0 0h24v24H0V0z\" fill=\"none\"/>\n",
              "    <path d=\"M18.56 5.44l.94 2.06.94-2.06 2.06-.94-2.06-.94-.94-2.06-.94 2.06-2.06.94zm-11 1L8.5 8.5l.94-2.06 2.06-.94-2.06-.94L8.5 2.5l-.94 2.06-2.06.94zm10 10l.94 2.06.94-2.06 2.06-.94-2.06-.94-.94-2.06-.94 2.06-2.06.94z\"/><path d=\"M17.41 7.96l-1.37-1.37c-.4-.4-.92-.59-1.43-.59-.52 0-1.04.2-1.43.59L10.3 9.45l-7.72 7.72c-.78.78-.78 2.05 0 2.83L4 21.41c.39.39.9.59 1.41.59.51 0 1.02-.2 1.41-.59l7.78-7.78 2.81-2.81c.8-.78.8-2.07 0-2.86zM5.41 20L4 18.59l7.72-7.72 1.47 1.35L5.41 20z\"/>\n",
              "  </svg>\n",
              "      </button>\n",
              "      \n",
              "  <style>\n",
              "    .colab-df-container {\n",
              "      display:flex;\n",
              "      flex-wrap:wrap;\n",
              "      gap: 12px;\n",
              "    }\n",
              "\n",
              "    .colab-df-convert {\n",
              "      background-color: #E8F0FE;\n",
              "      border: none;\n",
              "      border-radius: 50%;\n",
              "      cursor: pointer;\n",
              "      display: none;\n",
              "      fill: #1967D2;\n",
              "      height: 32px;\n",
              "      padding: 0 0 0 0;\n",
              "      width: 32px;\n",
              "    }\n",
              "\n",
              "    .colab-df-convert:hover {\n",
              "      background-color: #E2EBFA;\n",
              "      box-shadow: 0px 1px 2px rgba(60, 64, 67, 0.3), 0px 1px 3px 1px rgba(60, 64, 67, 0.15);\n",
              "      fill: #174EA6;\n",
              "    }\n",
              "\n",
              "    [theme=dark] .colab-df-convert {\n",
              "      background-color: #3B4455;\n",
              "      fill: #D2E3FC;\n",
              "    }\n",
              "\n",
              "    [theme=dark] .colab-df-convert:hover {\n",
              "      background-color: #434B5C;\n",
              "      box-shadow: 0px 1px 3px 1px rgba(0, 0, 0, 0.15);\n",
              "      filter: drop-shadow(0px 1px 2px rgba(0, 0, 0, 0.3));\n",
              "      fill: #FFFFFF;\n",
              "    }\n",
              "  </style>\n",
              "\n",
              "      <script>\n",
              "        const buttonEl =\n",
              "          document.querySelector('#df-19845fcf-df40-4d7f-8132-f101d116c528 button.colab-df-convert');\n",
              "        buttonEl.style.display =\n",
              "          google.colab.kernel.accessAllowed ? 'block' : 'none';\n",
              "\n",
              "        async function convertToInteractive(key) {\n",
              "          const element = document.querySelector('#df-19845fcf-df40-4d7f-8132-f101d116c528');\n",
              "          const dataTable =\n",
              "            await google.colab.kernel.invokeFunction('convertToInteractive',\n",
              "                                                     [key], {});\n",
              "          if (!dataTable) return;\n",
              "\n",
              "          const docLinkHtml = 'Like what you see? Visit the ' +\n",
              "            '<a target=\"_blank\" href=https://colab.research.google.com/notebooks/data_table.ipynb>data table notebook</a>'\n",
              "            + ' to learn more about interactive tables.';\n",
              "          element.innerHTML = '';\n",
              "          dataTable['output_type'] = 'display_data';\n",
              "          await google.colab.output.renderOutput(dataTable, element);\n",
              "          const docLink = document.createElement('div');\n",
              "          docLink.innerHTML = docLinkHtml;\n",
              "          element.appendChild(docLink);\n",
              "        }\n",
              "      </script>\n",
              "    </div>\n",
              "  </div>\n",
              "  "
            ]
          },
          "metadata": {},
          "execution_count": 4
        }
      ]
    },
    {
      "cell_type": "code",
      "source": [
        "print(sorted(df['label'].unique()))"
      ],
      "metadata": {
        "colab": {
          "base_uri": "https://localhost:8080/"
        },
        "id": "NV5pBUzSqcKS",
        "outputId": "4c0cea48-578f-445b-84b1-0d4f9d47aaf7"
      },
      "execution_count": null,
      "outputs": [
        {
          "output_type": "stream",
          "name": "stdout",
          "text": [
            "['apple', 'banana', 'blackgram', 'chickpea', 'coconut', 'coffee', 'cotton', 'grapes', 'jute', 'kidneybeans', 'lentil', 'maize', 'mango', 'mothbeans', 'mungbean', 'muskmelon', 'orange', 'papaya', 'pigeonpeas', 'pomegranate', 'rice', 'watermelon']\n"
          ]
        }
      ]
    },
    {
      "cell_type": "code",
      "source": [
        "sns.heatmap(df.corr(),annot=True)"
      ],
      "metadata": {
        "colab": {
          "base_uri": "https://localhost:8080/",
          "height": 340
        },
        "id": "aIqqkXFZqjPn",
        "outputId": "b4f03cd0-9161-442f-e906-800a0f3c89fc"
      },
      "execution_count": null,
      "outputs": [
        {
          "output_type": "execute_result",
          "data": {
            "text/plain": [
              "<matplotlib.axes._subplots.AxesSubplot at 0x7fa26780b6d0>"
            ]
          },
          "metadata": {},
          "execution_count": 7
        },
        {
          "output_type": "display_data",
          "data": {
            "text/plain": [
              "<Figure size 432x288 with 2 Axes>"
            ],
            "image/png": "[encoded data removed]"
          },
          "metadata": {
            "needs_background": "light"
          }
        }
      ]
    },
    {
      "cell_type": "code",
      "source": [
        "features = df[['N', 'P','K','temperature', 'humidity', 'ph', 'rainfall']]\n",
        "target = df['label']"
      ],
      "metadata": {
        "id": "kyvHvUVMqxpq"
      },
      "execution_count": null,
      "outputs": []
    },
    {
      "cell_type": "code",
      "source": [
        "from sklearn.model_selection import train_test_split\n",
        "Xtrain, Xtest, Ytrain, Ytest = train_test_split(features,target,test_size = 0.2,random_state =5)"
      ],
      "metadata": {
        "id": "qrUeXoL2q-8S"
      },
      "execution_count": null,
      "outputs": []
    },
    {
      "cell_type": "code",
      "source": [
        "import xgboost as xgb\n",
        "XB = xgb.XGBClassifier(eval_metric = \"mlogloss\")\n",
        "eval_s = [(Xtrain,Ytrain),(Xtest,Ytest)]\n",
        "XB.fit(Xtrain,Ytrain,eval_metric=[\"merror\",\"mlogloss\"],eval_set=eval_s,early_stopping_rounds=15)"
      ],
      "metadata": {
        "colab": {
          "base_uri": "https://localhost:8080/"
        },
        "id": "vPQdwc-VrESE",
        "outputId": "5febc4d5-6cbc-4f53-ecdf-b22c84bc973b"
      },
      "execution_count": null,
      "outputs": [
        {
          "output_type": "stream",
          "name": "stdout",
          "text": [
            "[0]\tvalidation_0-merror:0.061932\tvalidation_0-mlogloss:2.32505\tvalidation_1-merror:0.065909\tvalidation_1-mlogloss:2.32598\n",
            "Multiple eval metrics have been passed: 'validation_1-mlogloss' will be used for early stopping.\n",
            "\n",
            "Will train until validation_1-mlogloss hasn't improved in 15 rounds.\n",
            "[1]\tvalidation_0-merror:0.030682\tvalidation_0-mlogloss:1.93893\tvalidation_1-merror:0.031818\tvalidation_1-mlogloss:1.94866\n",
            "[2]\tvalidation_0-merror:0.020455\tvalidation_0-mlogloss:1.65846\tvalidation_1-merror:0.022727\tvalidation_1-mlogloss:1.67188\n",
            "[3]\tvalidation_0-merror:0.018182\tvalidation_0-mlogloss:1.44258\tvalidation_1-merror:0.020455\tvalidation_1-mlogloss:1.45934\n",
            "[4]\tvalidation_0-merror:0.015909\tvalidation_0-mlogloss:1.27147\tvalidation_1-merror:0.013636\tvalidation_1-mlogloss:1.28955\n",
            "[5]\tvalidation_0-merror:0.014205\tvalidation_0-mlogloss:1.1293\tvalidation_1-merror:0.015909\tvalidation_1-mlogloss:1.14875\n",
            "[6]\tvalidation_0-merror:0.013068\tvalidation_0-mlogloss:1.00951\tvalidation_1-merror:0.011364\tvalidation_1-mlogloss:1.02953\n",
            "[7]\tvalidation_0-merror:0.0125\tvalidation_0-mlogloss:0.906765\tvalidation_1-merror:0.011364\tvalidation_1-mlogloss:0.927036\n",
            "[8]\tvalidation_0-merror:0.007386\tvalidation_0-mlogloss:0.817507\tvalidation_1-merror:0.011364\tvalidation_1-mlogloss:0.83803\n",
            "[9]\tvalidation_0-merror:0.007386\tvalidation_0-mlogloss:0.739031\tvalidation_1-merror:0.011364\tvalidation_1-mlogloss:0.759123\n",
            "[10]\tvalidation_0-merror:0.006818\tvalidation_0-mlogloss:0.669107\tvalidation_1-merror:0.011364\tvalidation_1-mlogloss:0.689206\n",
            "[11]\tvalidation_0-merror:0.00625\tvalidation_0-mlogloss:0.606962\tvalidation_1-merror:0.011364\tvalidation_1-mlogloss:0.626717\n",
            "[12]\tvalidation_0-merror:0.00625\tvalidation_0-mlogloss:0.551788\tvalidation_1-merror:0.011364\tvalidation_1-mlogloss:0.571585\n",
            "[13]\tvalidation_0-merror:0.005682\tvalidation_0-mlogloss:0.502624\tvalidation_1-merror:0.011364\tvalidation_1-mlogloss:0.522304\n",
            "[14]\tvalidation_0-merror:0.003409\tvalidation_0-mlogloss:0.458195\tvalidation_1-merror:0.011364\tvalidation_1-mlogloss:0.477684\n",
            "[15]\tvalidation_0-merror:0.003409\tvalidation_0-mlogloss:0.418036\tvalidation_1-merror:0.011364\tvalidation_1-mlogloss:0.437172\n",
            "[16]\tvalidation_0-merror:0.003409\tvalidation_0-mlogloss:0.382044\tvalidation_1-merror:0.009091\tvalidation_1-mlogloss:0.400981\n",
            "[17]\tvalidation_0-merror:0.004545\tvalidation_0-mlogloss:0.34934\tvalidation_1-merror:0.002273\tvalidation_1-mlogloss:0.367712\n",
            "[18]\tvalidation_0-merror:0.004545\tvalidation_0-mlogloss:0.319837\tvalidation_1-merror:0.002273\tvalidation_1-mlogloss:0.337786\n",
            "[19]\tvalidation_0-merror:0.004545\tvalidation_0-mlogloss:0.292829\tvalidation_1-merror:0.002273\tvalidation_1-mlogloss:0.310246\n",
            "[20]\tvalidation_0-merror:0.004545\tvalidation_0-mlogloss:0.268512\tvalidation_1-merror:0.002273\tvalidation_1-mlogloss:0.285418\n",
            "[21]\tvalidation_0-merror:0.004545\tvalidation_0-mlogloss:0.246426\tvalidation_1-merror:0.002273\tvalidation_1-mlogloss:0.263019\n",
            "[22]\tvalidation_0-merror:0.004545\tvalidation_0-mlogloss:0.226316\tvalidation_1-merror:0.002273\tvalidation_1-mlogloss:0.242491\n",
            "[23]\tvalidation_0-merror:0.004545\tvalidation_0-mlogloss:0.208015\tvalidation_1-merror:0.002273\tvalidation_1-mlogloss:0.223794\n",
            "[24]\tvalidation_0-merror:0.004545\tvalidation_0-mlogloss:0.191455\tvalidation_1-merror:0.002273\tvalidation_1-mlogloss:0.206787\n",
            "[25]\tvalidation_0-merror:0.004545\tvalidation_0-mlogloss:0.176405\tvalidation_1-merror:0.002273\tvalidation_1-mlogloss:0.191141\n",
            "[26]\tvalidation_0-merror:0.001136\tvalidation_0-mlogloss:0.16254\tvalidation_1-merror:0.002273\tvalidation_1-mlogloss:0.176833\n",
            "[27]\tvalidation_0-merror:0.004545\tvalidation_0-mlogloss:0.149927\tvalidation_1-merror:0.002273\tvalidation_1-mlogloss:0.163771\n",
            "[28]\tvalidation_0-merror:0.001136\tvalidation_0-mlogloss:0.138384\tvalidation_1-merror:0.002273\tvalidation_1-mlogloss:0.152048\n",
            "[29]\tvalidation_0-merror:0.001136\tvalidation_0-mlogloss:0.127766\tvalidation_1-merror:0.002273\tvalidation_1-mlogloss:0.141327\n",
            "[30]\tvalidation_0-merror:0.001136\tvalidation_0-mlogloss:0.118274\tvalidation_1-merror:0.002273\tvalidation_1-mlogloss:0.131386\n",
            "[31]\tvalidation_0-merror:0.000568\tvalidation_0-mlogloss:0.109506\tvalidation_1-merror:0.002273\tvalidation_1-mlogloss:0.122251\n",
            "[32]\tvalidation_0-merror:0.000568\tvalidation_0-mlogloss:0.101559\tvalidation_1-merror:0.002273\tvalidation_1-mlogloss:0.113972\n",
            "[33]\tvalidation_0-merror:0.000568\tvalidation_0-mlogloss:0.094282\tvalidation_1-merror:0.002273\tvalidation_1-mlogloss:0.106494\n",
            "[34]\tvalidation_0-merror:0.000568\tvalidation_0-mlogloss:0.087596\tvalidation_1-merror:0.002273\tvalidation_1-mlogloss:0.099537\n",
            "[35]\tvalidation_0-merror:0.000568\tvalidation_0-mlogloss:0.081498\tvalidation_1-merror:0.002273\tvalidation_1-mlogloss:0.093157\n",
            "[36]\tvalidation_0-merror:0.000568\tvalidation_0-mlogloss:0.075897\tvalidation_1-merror:0.002273\tvalidation_1-mlogloss:0.087454\n",
            "[37]\tvalidation_0-merror:0.000568\tvalidation_0-mlogloss:0.070801\tvalidation_1-merror:0.002273\tvalidation_1-mlogloss:0.082198\n",
            "[38]\tvalidation_0-merror:0.000568\tvalidation_0-mlogloss:0.066123\tvalidation_1-merror:0.002273\tvalidation_1-mlogloss:0.077431\n",
            "[39]\tvalidation_0-merror:0\tvalidation_0-mlogloss:0.061838\tvalidation_1-merror:0.002273\tvalidation_1-mlogloss:0.073077\n",
            "[40]\tvalidation_0-merror:0.000568\tvalidation_0-mlogloss:0.057864\tvalidation_1-merror:0.002273\tvalidation_1-mlogloss:0.068872\n",
            "[41]\tvalidation_0-merror:0\tvalidation_0-mlogloss:0.054279\tvalidation_1-merror:0.002273\tvalidation_1-mlogloss:0.065102\n",
            "[42]\tvalidation_0-merror:0\tvalidation_0-mlogloss:0.050948\tvalidation_1-merror:0.002273\tvalidation_1-mlogloss:0.061767\n",
            "[43]\tvalidation_0-merror:0\tvalidation_0-mlogloss:0.047939\tvalidation_1-merror:0.002273\tvalidation_1-mlogloss:0.058668\n",
            "[44]\tvalidation_0-merror:0\tvalidation_0-mlogloss:0.045134\tvalidation_1-merror:0.002273\tvalidation_1-mlogloss:0.055729\n",
            "[45]\tvalidation_0-merror:0\tvalidation_0-mlogloss:0.042531\tvalidation_1-merror:0.002273\tvalidation_1-mlogloss:0.053009\n",
            "[46]\tvalidation_0-merror:0\tvalidation_0-mlogloss:0.040153\tvalidation_1-merror:0.002273\tvalidation_1-mlogloss:0.050455\n",
            "[47]\tvalidation_0-merror:0\tvalidation_0-mlogloss:0.037995\tvalidation_1-merror:0.002273\tvalidation_1-mlogloss:0.04815\n",
            "[48]\tvalidation_0-merror:0\tvalidation_0-mlogloss:0.035929\tvalidation_1-merror:0.002273\tvalidation_1-mlogloss:0.045953\n",
            "[49]\tvalidation_0-merror:0\tvalidation_0-mlogloss:0.034017\tvalidation_1-merror:0.002273\tvalidation_1-mlogloss:0.044012\n",
            "[50]\tvalidation_0-merror:0\tvalidation_0-mlogloss:0.032303\tvalidation_1-merror:0.002273\tvalidation_1-mlogloss:0.042129\n",
            "[51]\tvalidation_0-merror:0\tvalidation_0-mlogloss:0.030738\tvalidation_1-merror:0.002273\tvalidation_1-mlogloss:0.04046\n",
            "[52]\tvalidation_0-merror:0\tvalidation_0-mlogloss:0.029231\tvalidation_1-merror:0.002273\tvalidation_1-mlogloss:0.038976\n",
            "[53]\tvalidation_0-merror:0\tvalidation_0-mlogloss:0.027898\tvalidation_1-merror:0.002273\tvalidation_1-mlogloss:0.037618\n",
            "[54]\tvalidation_0-merror:0\tvalidation_0-mlogloss:0.026647\tvalidation_1-merror:0.002273\tvalidation_1-mlogloss:0.036378\n",
            "[55]\tvalidation_0-merror:0\tvalidation_0-mlogloss:0.025466\tvalidation_1-merror:0.002273\tvalidation_1-mlogloss:0.03515\n",
            "[56]\tvalidation_0-merror:0\tvalidation_0-mlogloss:0.024392\tvalidation_1-merror:0.002273\tvalidation_1-mlogloss:0.033902\n",
            "[57]\tvalidation_0-merror:0\tvalidation_0-mlogloss:0.023363\tvalidation_1-merror:0.002273\tvalidation_1-mlogloss:0.032914\n",
            "[58]\tvalidation_0-merror:0\tvalidation_0-mlogloss:0.022419\tvalidation_1-merror:0.002273\tvalidation_1-mlogloss:0.031958\n",
            "[59]\tvalidation_0-merror:0\tvalidation_0-mlogloss:0.021564\tvalidation_1-merror:0.002273\tvalidation_1-mlogloss:0.03107\n",
            "[60]\tvalidation_0-merror:0\tvalidation_0-mlogloss:0.020738\tvalidation_1-merror:0.002273\tvalidation_1-mlogloss:0.030447\n",
            "[61]\tvalidation_0-merror:0\tvalidation_0-mlogloss:0.019963\tvalidation_1-merror:0.002273\tvalidation_1-mlogloss:0.02965\n",
            "[62]\tvalidation_0-merror:0\tvalidation_0-mlogloss:0.01924\tvalidation_1-merror:0.002273\tvalidation_1-mlogloss:0.029094\n",
            "[63]\tvalidation_0-merror:0\tvalidation_0-mlogloss:0.01854\tvalidation_1-merror:0.002273\tvalidation_1-mlogloss:0.028407\n",
            "[64]\tvalidation_0-merror:0\tvalidation_0-mlogloss:0.017911\tvalidation_1-merror:0.002273\tvalidation_1-mlogloss:0.027693\n",
            "[65]\tvalidation_0-merror:0\tvalidation_0-mlogloss:0.017323\tvalidation_1-merror:0.002273\tvalidation_1-mlogloss:0.027109\n",
            "[66]\tvalidation_0-merror:0\tvalidation_0-mlogloss:0.016762\tvalidation_1-merror:0.002273\tvalidation_1-mlogloss:0.026531\n",
            "[67]\tvalidation_0-merror:0\tvalidation_0-mlogloss:0.016232\tvalidation_1-merror:0.002273\tvalidation_1-mlogloss:0.025902\n",
            "[68]\tvalidation_0-merror:0\tvalidation_0-mlogloss:0.015733\tvalidation_1-merror:0.002273\tvalidation_1-mlogloss:0.02531\n",
            "[69]\tvalidation_0-merror:0\tvalidation_0-mlogloss:0.01527\tvalidation_1-merror:0.002273\tvalidation_1-mlogloss:0.024743\n",
            "[70]\tvalidation_0-merror:0\tvalidation_0-mlogloss:0.014821\tvalidation_1-merror:0.002273\tvalidation_1-mlogloss:0.024218\n",
            "[71]\tvalidation_0-merror:0\tvalidation_0-mlogloss:0.014401\tvalidation_1-merror:0.002273\tvalidation_1-mlogloss:0.023824\n",
            "[72]\tvalidation_0-merror:0\tvalidation_0-mlogloss:0.014008\tvalidation_1-merror:0.002273\tvalidation_1-mlogloss:0.023347\n",
            "[73]\tvalidation_0-merror:0\tvalidation_0-mlogloss:0.013622\tvalidation_1-merror:0.002273\tvalidation_1-mlogloss:0.022914\n",
            "[74]\tvalidation_0-merror:0\tvalidation_0-mlogloss:0.01327\tvalidation_1-merror:0.002273\tvalidation_1-mlogloss:0.022406\n",
            "[75]\tvalidation_0-merror:0\tvalidation_0-mlogloss:0.012938\tvalidation_1-merror:0.002273\tvalidation_1-mlogloss:0.021997\n",
            "[76]\tvalidation_0-merror:0\tvalidation_0-mlogloss:0.012643\tvalidation_1-merror:0.002273\tvalidation_1-mlogloss:0.021723\n",
            "[77]\tvalidation_0-merror:0\tvalidation_0-mlogloss:0.012358\tvalidation_1-merror:0.002273\tvalidation_1-mlogloss:0.02141\n",
            "[78]\tvalidation_0-merror:0\tvalidation_0-mlogloss:0.012096\tvalidation_1-merror:0.002273\tvalidation_1-mlogloss:0.021194\n",
            "[79]\tvalidation_0-merror:0\tvalidation_0-mlogloss:0.011856\tvalidation_1-merror:0.004545\tvalidation_1-mlogloss:0.020931\n",
            "[80]\tvalidation_0-merror:0\tvalidation_0-mlogloss:0.011628\tvalidation_1-merror:0.004545\tvalidation_1-mlogloss:0.020763\n",
            "[81]\tvalidation_0-merror:0\tvalidation_0-mlogloss:0.01141\tvalidation_1-merror:0.004545\tvalidation_1-mlogloss:0.020498\n",
            "[82]\tvalidation_0-merror:0\tvalidation_0-mlogloss:0.011183\tvalidation_1-merror:0.004545\tvalidation_1-mlogloss:0.02031\n",
            "[83]\tvalidation_0-merror:0\tvalidation_0-mlogloss:0.010997\tvalidation_1-merror:0.004545\tvalidation_1-mlogloss:0.020045\n",
            "[84]\tvalidation_0-merror:0\tvalidation_0-mlogloss:0.010831\tvalidation_1-merror:0.004545\tvalidation_1-mlogloss:0.01994\n",
            "[85]\tvalidation_0-merror:0\tvalidation_0-mlogloss:0.010654\tvalidation_1-merror:0.004545\tvalidation_1-mlogloss:0.019823\n",
            "[86]\tvalidation_0-merror:0\tvalidation_0-mlogloss:0.010499\tvalidation_1-merror:0.002273\tvalidation_1-mlogloss:0.019771\n",
            "[87]\tvalidation_0-merror:0\tvalidation_0-mlogloss:0.010366\tvalidation_1-merror:0.002273\tvalidation_1-mlogloss:0.019666\n",
            "[88]\tvalidation_0-merror:0\tvalidation_0-mlogloss:0.01024\tvalidation_1-merror:0.002273\tvalidation_1-mlogloss:0.019589\n",
            "[89]\tvalidation_0-merror:0\tvalidation_0-mlogloss:0.010115\tvalidation_1-merror:0.002273\tvalidation_1-mlogloss:0.019489\n",
            "[90]\tvalidation_0-merror:0\tvalidation_0-mlogloss:0.009998\tvalidation_1-merror:0.002273\tvalidation_1-mlogloss:0.019355\n",
            "[91]\tvalidation_0-merror:0\tvalidation_0-mlogloss:0.009892\tvalidation_1-merror:0.002273\tvalidation_1-mlogloss:0.019286\n",
            "[92]\tvalidation_0-merror:0\tvalidation_0-mlogloss:0.009791\tvalidation_1-merror:0.002273\tvalidation_1-mlogloss:0.019166\n",
            "[93]\tvalidation_0-merror:0\tvalidation_0-mlogloss:0.009688\tvalidation_1-merror:0.002273\tvalidation_1-mlogloss:0.019148\n",
            "[94]\tvalidation_0-merror:0\tvalidation_0-mlogloss:0.009585\tvalidation_1-merror:0.002273\tvalidation_1-mlogloss:0.019062\n",
            "[95]\tvalidation_0-merror:0\tvalidation_0-mlogloss:0.009502\tvalidation_1-merror:0.002273\tvalidation_1-mlogloss:0.019029\n",
            "[96]\tvalidation_0-merror:0\tvalidation_0-mlogloss:0.009422\tvalidation_1-merror:0.002273\tvalidation_1-mlogloss:0.01897\n",
            "[97]\tvalidation_0-merror:0\tvalidation_0-mlogloss:0.009329\tvalidation_1-merror:0.002273\tvalidation_1-mlogloss:0.018946\n",
            "[98]\tvalidation_0-merror:0\tvalidation_0-mlogloss:0.009258\tvalidation_1-merror:0.002273\tvalidation_1-mlogloss:0.018835\n",
            "[99]\tvalidation_0-merror:0\tvalidation_0-mlogloss:0.009175\tvalidation_1-merror:0.002273\tvalidation_1-mlogloss:0.018809\n"
          ]
        },
        {
          "output_type": "execute_result",
          "data": {
            "text/plain": [
              "XGBClassifier(eval_metric='mlogloss', objective='multi:softprob')"
            ]
          },
          "metadata": {},
          "execution_count": 10
        }
      ]
    },
    {
      "cell_type": "code",
      "source": [
        "predicted_values =XB.predict(Xtest)\n",
        "print(XB.predict(Xtest[7:15]))\n",
        "print(XB.predict_proba(Xtest[7:15]))\n",
        "print(max(XB.predict_proba(Xtest[7:15])[0]))\n",
        "print(Xtest[7:15])\n",
        "print(XB.predict(Xtest[7:15]))\n",
        "x = metrics.accuracy_score(Ytest, predicted_values)\n",
        "print(\"XGBoost's Accuracy is: \", x)"
      ],
      "metadata": {
        "colab": {
          "base_uri": "https://localhost:8080/"
        },
        "id": "7KM1FIA4r8jQ",
        "outputId": "9df18fa9-25e3-4796-d8f8-75fc8aedef62"
      },
      "execution_count": null,
      "outputs": [
        {
          "output_type": "stream",
          "name": "stdout",
          "text": [
            "['pomegranate' 'pigeonpeas' 'apple' 'coconut' 'papaya' 'pomegranate'\n",
            " 'maize' 'blackgram']\n",
            "[[6.45039196e-04 6.90314511e-04 4.78543923e-04 7.03593483e-04\n",
            "  9.51319875e-04 8.21144320e-04 6.31359406e-04 6.76897413e-04\n",
            "  5.55619830e-04 1.09090633e-03 5.62872097e-04 1.00385817e-03\n",
            "  8.24152958e-04 7.44240009e-04 7.15462491e-04 8.44374183e-04\n",
            "  8.14831816e-04 5.81848843e-04 5.50072873e-04 9.84139681e-01\n",
            "  7.18750933e-04 1.25512143e-03]\n",
            " [2.71813566e-04 5.32135426e-04 3.36984522e-04 2.96487706e-04\n",
            "  3.11926909e-04 5.29716432e-04 3.02224129e-04 2.85238231e-04\n",
            "  1.97510541e-04 4.59697709e-04 3.28330992e-04 8.40825553e-04\n",
            "  5.02126757e-04 5.14482148e-04 2.53976701e-04 3.55811382e-04\n",
            "  3.00213287e-04 2.51033809e-04 9.92249966e-01 3.34320473e-04\n",
            "  3.06405214e-04 2.38804831e-04]\n",
            " [9.94115233e-01 2.69048731e-04 7.59828181e-05 2.63321999e-04\n",
            "  2.40161084e-04 1.12878566e-04 9.41573744e-05 1.57632900e-03\n",
            "  8.14724335e-05 1.62691693e-04 1.02104379e-04 1.19203403e-04\n",
            "  8.54092505e-05 1.06132073e-04 1.06700092e-04 1.25925260e-04\n",
            "  1.80887277e-04 1.08944159e-03 4.46865539e-04 3.51576455e-04\n",
            "  1.45410231e-04 1.49059124e-04]\n",
            " [3.19486600e-04 1.74567394e-04 1.21014702e-04 1.77925394e-04\n",
            "  9.93393362e-01 3.11123760e-04 1.59658681e-04 1.71174455e-04\n",
            "  1.63981807e-04 2.75869446e-04 1.42339617e-04 1.70416402e-04\n",
            "  2.08412603e-04 1.99442657e-04 1.80926829e-04 2.13526146e-04\n",
            "  3.30654293e-04 5.54931466e-04 1.80504067e-04 3.43432475e-04\n",
            "  1.97430933e-03 2.32925828e-04]\n",
            " [1.57413931e-04 1.11979309e-04 1.95445740e-04 8.76653648e-05\n",
            "  1.60326177e-04 9.21824976e-05 7.86652818e-05 8.43391972e-05\n",
            "  1.19781049e-04 7.56648660e-05 7.01319586e-05 7.93383078e-05\n",
            "  9.74064678e-05 6.63389583e-05 1.14838782e-04 1.05206258e-04\n",
            "  1.51125147e-04 9.97765303e-01 6.74279436e-05 1.07151005e-04\n",
            "  8.77963030e-05 1.24533690e-04]\n",
            " [6.25059300e-04 3.41532228e-04 2.36759122e-04 3.48101981e-04\n",
            "  1.08230184e-03 4.06260107e-04 3.12364136e-04 3.34894139e-04\n",
            "  4.40243835e-04 3.00450338e-04 2.78480235e-04 3.95453506e-04\n",
            "  4.07748681e-04 2.78203399e-04 3.53974174e-04 4.17753065e-04\n",
            "  6.70404697e-04 7.00010452e-04 2.66018033e-04 9.90969241e-01\n",
            "  2.89969379e-04 5.44777373e-04]\n",
            " [1.00701429e-04 1.07769731e-04 9.01708700e-05 1.09842797e-04\n",
            "  9.43109917e-05 9.79869583e-05 1.11968031e-04 1.05675092e-04\n",
            "  4.29309439e-04 1.70308864e-04 1.10458168e-04 9.97114062e-01\n",
            "  8.94081677e-05 2.85722490e-04 1.14693474e-04 1.31821042e-04\n",
            "  1.11222944e-04 9.08364091e-05 1.41998229e-04 9.07044014e-05\n",
            "  2.12579733e-04 8.84724432e-05]\n",
            " [2.27284254e-04 2.43237242e-04 9.94585335e-01 2.47916440e-04\n",
            "  2.12860963e-04 2.21157665e-04 2.22464107e-04 2.55698833e-04\n",
            "  2.39469853e-04 2.13978972e-04 3.59305850e-04 2.80658336e-04\n",
            "  2.65152426e-04 2.47310003e-04 2.55985273e-04 2.97521299e-04\n",
            "  2.51031423e-04 2.10117199e-04 5.56246436e-04 2.04720855e-04\n",
            "  2.02881434e-04 1.99683098e-04]]\n",
            "0.9841397\n",
            "       N    P    K  temperature   humidity        ph    rainfall\n",
            "994   32   25   35    18.099032  85.707863  5.892914  107.005098\n",
            "424   16   71   24    18.331248  38.409755  4.946370  139.648332\n",
            "1532  11  143  197    22.984589  93.320449  5.875719  122.195248\n",
            "1868   8   26   26    25.547599  91.641948  5.702485  212.867626\n",
            "1702  45   47   55    38.419163  91.142204  6.751453  119.265388\n",
            "975    0    5   36    24.351938  90.886124  6.152907  105.529185\n",
            "183   71   52   18    25.107874  55.977328  5.790770   78.160777\n",
            "711   57   67   25    32.347440  66.614528  7.551364   64.558823\n",
            "['pomegranate' 'pigeonpeas' 'apple' 'coconut' 'papaya' 'pomegranate'\n",
            " 'maize' 'blackgram']\n",
            "XGBoost's Accuracy is:  0.9977272727272727\n"
          ]
        }
      ]
    },
    {
      "cell_type": "code",
      "source": [],
      "metadata": {
        "id": "-KZ5xW3rHefz"
      },
      "execution_count": null,
      "outputs": []
    },
    {
      "cell_type": "code",
      "source": [
        "results = XB.evals_result()"
      ],
      "metadata": {
        "id": "vISySbgvsG-5"
      },
      "execution_count": null,
      "outputs": []
    },
    {
      "cell_type": "code",
      "source": [
        "# retrieve performance metrics\n",
        "epochs = len(results['validation_0']['merror'])\n",
        "x_axis = range(0, epochs)\n",
        "# plot log loss\n",
        "fig, ax = pyplot.subplots()\n",
        "ax.plot(x_axis, results['validation_0']['mlogloss'], label='Train')\n",
        "ax.plot(x_axis, results['validation_1']['mlogloss'], label='Test')\n",
        "ax.legend()\n",
        "pyplot.ylabel('Log Loss')\n",
        "pyplot.title('XGBoost Log Loss')\n",
        "pyplot.show()\n",
        "# plot classification error\n",
        "fig, ax = pyplot.subplots()\n",
        "ax.plot(x_axis, results['validation_0']['merror'], label='Train')\n",
        "ax.plot(x_axis, results['validation_1']['merror'], label='Test')\n",
        "ax.legend()\n",
        "pyplot.ylabel('Classification Error')\n",
        "pyplot.title('XGBoost Classification Error')\n",
        "pyplot.show()"
      ],
      "metadata": {
        "colab": {
          "base_uri": "https://localhost:8080/",
          "height": 545
        },
        "id": "dZ3QV33f3p8f",
        "outputId": "cdba06a2-8193-4963-e9a5-09dbaa0b8e4b"
      },
      "execution_count": null,
      "outputs": [
        {
          "output_type": "display_data",
          "data": {
            "text/plain": [
              "<Figure size 432x288 with 1 Axes>"
            ],
            "image/png": "[encoded data removed]"
          },
          "metadata": {
            "needs_background": "light"
          }
        },
        {
          "output_type": "display_data",
          "data": {
            "text/plain": [
              "<Figure size 432x288 with 1 Axes>"
            ],
            "image/png": "[encoded data removed]"
          },
          "metadata": {
            "needs_background": "light"
          }
        }
      ]
    },
    {
      "cell_type": "code",
      "source": [
        "import pickle\n",
        "filename = \"xgbcrop.pickle\"\n",
        "pickle.dump(XB, open(filename, \"wb\"))\n"
      ],
      "metadata": {
        "id": "Ap3XMPDi5L1w"
      },
      "execution_count": null,
      "outputs": []
    },
    {
      "cell_type": "code",
      "source": [
        "XBf = 'XGBoost.pkl'\n",
        "XB_Model_pkl = open(XBf, 'wb')\n",
        "pickle.dump(XB, XB_Model_pkl)\n",
        "XB_Model_pkl.close()"
      ],
      "metadata": {
        "id": "O2c7nrOefrax"
      },
      "execution_count": null,
      "outputs": []
    },
    {
      "cell_type": "code",
      "source": [
        "loaded_model = pickle.load(open(filename, \"rb\"))\n",
        "print(loaded_model.predict(Xtest[8:9]))\n",
        "print(loaded_model.predict_proba(Xtest[8:9]))\n",
        "print(Xtest[8:9])\n",
        "print(Ytest[8:9])"
      ],
      "metadata": {
        "id": "6f2X1atN-wjc",
        "colab": {
          "base_uri": "https://localhost:8080/"
        },
        "outputId": "0f1bc4f5-0af4-4028-df77-4ce860529d92"
      },
      "execution_count": null,
      "outputs": [
        {
          "output_type": "stream",
          "name": "stdout",
          "text": [
            "['pigeonpeas']\n",
            "[[2.7181357e-04 5.3213543e-04 3.3698452e-04 2.9648771e-04 3.1192691e-04\n",
            "  5.2971643e-04 3.0222413e-04 2.8523823e-04 1.9751054e-04 4.5969771e-04\n",
            "  3.2833099e-04 8.4082555e-04 5.0212676e-04 5.1448215e-04 2.5397670e-04\n",
            "  3.5581138e-04 3.0021329e-04 2.5103381e-04 9.9224997e-01 3.3432047e-04\n",
            "  3.0640521e-04 2.3880483e-04]]\n",
            "      N   P   K  temperature   humidity       ph    rainfall\n",
            "424  16  71  24    18.331248  38.409755  4.94637  139.648332\n",
            "424    pigeonpeas\n",
            "Name: label, dtype: object\n"
          ]
        }
      ]
    },
    {
      "cell_type": "code",
      "source": [
        "ef=pd.read_csv(\"cost.csv\")"
      ],
      "metadata": {
        "id": "gQc_cMD4B6Gv"
      },
      "execution_count": null,
      "outputs": []
    },
    {
      "cell_type": "code",
      "source": [
        "ef[200:400]"
      ],
      "metadata": {
        "colab": {
          "base_uri": "https://localhost:8080/",
          "height": 423
        },
        "id": "jE2S_k1REI4c",
        "outputId": "2b9fd4cf-62c2-4613-dec5-27209ed8ee47"
      },
      "execution_count": null,
      "outputs": [
        {
          "output_type": "execute_result",
          "data": {
            "text/plain": [
              "    commodity_name          state      district               market  \\\n",
              "200          Apple  Uttar Pradesh          Agra             Samsabad   \n",
              "201          Apple  Uttar Pradesh        Hardoi  Shahabad(New Mandi)   \n",
              "202          Apple  Uttar Pradesh       Jaunpur             Shahganj   \n",
              "203          Apple  Uttar Pradesh  Shahjahanpur         Shahjahanpur   \n",
              "204          Apple  Uttar Pradesh     Firozabad            Sirsaganj   \n",
              "..             ...            ...           ...                  ...   \n",
              "395         Banana         Punjab     Jalandhar              Adampur   \n",
              "396         Banana         Punjab      Bhatinda       Bhagta Bhai Ka   \n",
              "397         Banana         Punjab      Faridkot             Faridkot   \n",
              "398         Banana         Punjab      Ferozpur       Firozepur City   \n",
              "399         Banana         Punjab     Gurdaspur            Gurdaspur   \n",
              "\n",
              "     min_price  max_price  modal_price       date  \n",
              "200       56.0       60.0         57.5  5/22/2019  \n",
              "201       78.3       79.2         78.7  5/22/2019  \n",
              "202       74.0       76.0         75.0  5/22/2019  \n",
              "203        0.0        0.0         56.0  5/22/2019  \n",
              "204       71.0       73.0         72.0  5/22/2019  \n",
              "..         ...        ...          ...        ...  \n",
              "395       21.0       22.0         22.0  5/22/2019  \n",
              "396       35.0       37.0         36.1  5/22/2019  \n",
              "397       15.0       20.0         20.0  5/22/2019  \n",
              "398       15.0       20.0         17.5  5/22/2019  \n",
              "399       23.0       25.0         24.0  5/22/2019  \n",
              "\n",
              "[200 rows x 8 columns]"
            ],
            "text/html": [
              "\n",
              "  <div id=\"df-19b9a89f-2219-4cb4-aef7-4d3a4924d5ea\">\n",
              "    <div class=\"colab-df-container\">\n",
              "      <div>\n",
              "<style scoped>\n",
              "    .dataframe tbody tr th:only-of-type {\n",
              "        vertical-align: middle;\n",
              "    }\n",
              "\n",
              "    .dataframe tbody tr th {\n",
              "        vertical-align: top;\n",
              "    }\n",
              "\n",
              "    .dataframe thead th {\n",
              "        text-align: right;\n",
              "    }\n",
              "</style>\n",
              "<table border=\"1\" class=\"dataframe\">\n",
              "  <thead>\n",
              "    <tr style=\"text-align: right;\">\n",
              "      <th></th>\n",
              "      <th>commodity_name</th>\n",
              "      <th>state</th>\n",
              "      <th>district</th>\n",
              "      <th>market</th>\n",
              "      <th>min_price</th>\n",
              "      <th>max_price</th>\n",
              "      <th>modal_price</th>\n",
              "      <th>date</th>\n",
              "    </tr>\n",
              "  </thead>\n",
              "  <tbody>\n",
              "    <tr>\n",
              "      <th>200</th>\n",
              "      <td>Apple</td>\n",
              "      <td>Uttar Pradesh</td>\n",
              "      <td>Agra</td>\n",
              "      <td>Samsabad</td>\n",
              "      <td>56.0</td>\n",
              "      <td>60.0</td>\n",
              "      <td>57.5</td>\n",
              "      <td>5/22/2019</td>\n",
              "    </tr>\n",
              "    <tr>\n",
              "      <th>201</th>\n",
              "      <td>Apple</td>\n",
              "      <td>Uttar Pradesh</td>\n",
              "      <td>Hardoi</td>\n",
              "      <td>Shahabad(New Mandi)</td>\n",
              "      <td>78.3</td>\n",
              "      <td>79.2</td>\n",
              "      <td>78.7</td>\n",
              "      <td>5/22/2019</td>\n",
              "    </tr>\n",
              "    <tr>\n",
              "      <th>202</th>\n",
              "      <td>Apple</td>\n",
              "      <td>Uttar Pradesh</td>\n",
              "      <td>Jaunpur</td>\n",
              "      <td>Shahganj</td>\n",
              "      <td>74.0</td>\n",
              "      <td>76.0</td>\n",
              "      <td>75.0</td>\n",
              "      <td>5/22/2019</td>\n",
              "    </tr>\n",
              "    <tr>\n",
              "      <th>203</th>\n",
              "      <td>Apple</td>\n",
              "      <td>Uttar Pradesh</td>\n",
              "      <td>Shahjahanpur</td>\n",
              "      <td>Shahjahanpur</td>\n",
              "      <td>0.0</td>\n",
              "      <td>0.0</td>\n",
              "      <td>56.0</td>\n",
              "      <td>5/22/2019</td>\n",
              "    </tr>\n",
              "    <tr>\n",
              "      <th>204</th>\n",
              "      <td>Apple</td>\n",
              "      <td>Uttar Pradesh</td>\n",
              "      <td>Firozabad</td>\n",
              "      <td>Sirsaganj</td>\n",
              "      <td>71.0</td>\n",
              "      <td>73.0</td>\n",
              "      <td>72.0</td>\n",
              "      <td>5/22/2019</td>\n",
              "    </tr>\n",
              "    <tr>\n",
              "      <th>...</th>\n",
              "      <td>...</td>\n",
              "      <td>...</td>\n",
              "      <td>...</td>\n",
              "      <td>...</td>\n",
              "      <td>...</td>\n",
              "      <td>...</td>\n",
              "      <td>...</td>\n",
              "      <td>...</td>\n",
              "    </tr>\n",
              "    <tr>\n",
              "      <th>395</th>\n",
              "      <td>Banana</td>\n",
              "      <td>Punjab</td>\n",
              "      <td>Jalandhar</td>\n",
              "      <td>Adampur</td>\n",
              "      <td>21.0</td>\n",
              "      <td>22.0</td>\n",
              "      <td>22.0</td>\n",
              "      <td>5/22/2019</td>\n",
              "    </tr>\n",
              "    <tr>\n",
              "      <th>396</th>\n",
              "      <td>Banana</td>\n",
              "      <td>Punjab</td>\n",
              "      <td>Bhatinda</td>\n",
              "      <td>Bhagta Bhai Ka</td>\n",
              "      <td>35.0</td>\n",
              "      <td>37.0</td>\n",
              "      <td>36.1</td>\n",
              "      <td>5/22/2019</td>\n",
              "    </tr>\n",
              "    <tr>\n",
              "      <th>397</th>\n",
              "      <td>Banana</td>\n",
              "      <td>Punjab</td>\n",
              "      <td>Faridkot</td>\n",
              "      <td>Faridkot</td>\n",
              "      <td>15.0</td>\n",
              "      <td>20.0</td>\n",
              "      <td>20.0</td>\n",
              "      <td>5/22/2019</td>\n",
              "    </tr>\n",
              "    <tr>\n",
              "      <th>398</th>\n",
              "      <td>Banana</td>\n",
              "      <td>Punjab</td>\n",
              "      <td>Ferozpur</td>\n",
              "      <td>Firozepur City</td>\n",
              "      <td>15.0</td>\n",
              "      <td>20.0</td>\n",
              "      <td>17.5</td>\n",
              "      <td>5/22/2019</td>\n",
              "    </tr>\n",
              "    <tr>\n",
              "      <th>399</th>\n",
              "      <td>Banana</td>\n",
              "      <td>Punjab</td>\n",
              "      <td>Gurdaspur</td>\n",
              "      <td>Gurdaspur</td>\n",
              "      <td>23.0</td>\n",
              "      <td>25.0</td>\n",
              "      <td>24.0</td>\n",
              "      <td>5/22/2019</td>\n",
              "    </tr>\n",
              "  </tbody>\n",
              "</table>\n",
              "<p>200 rows × 8 columns</p>\n",
              "</div>\n",
              "      <button class=\"colab-df-convert\" onclick=\"convertToInteractive('df-19b9a89f-2219-4cb4-aef7-4d3a4924d5ea')\"\n",
              "              title=\"Convert this dataframe to an interactive table.\"\n",
              "              style=\"display:none;\">\n",
              "        \n",
              "  <svg xmlns=\"http://www.w3.org/2000/svg\" height=\"24px\"viewBox=\"0 0 24 24\"\n",
              "       width=\"24px\">\n",
              "    <path d=\"M0 0h24v24H0V0z\" fill=\"none\"/>\n",
              "    <path d=\"M18.56 5.44l.94 2.06.94-2.06 2.06-.94-2.06-.94-.94-2.06-.94 2.06-2.06.94zm-11 1L8.5 8.5l.94-2.06 2.06-.94-2.06-.94L8.5 2.5l-.94 2.06-2.06.94zm10 10l.94 2.06.94-2.06 2.06-.94-2.06-.94-.94-2.06-.94 2.06-2.06.94z\"/><path d=\"M17.41 7.96l-1.37-1.37c-.4-.4-.92-.59-1.43-.59-.52 0-1.04.2-1.43.59L10.3 9.45l-7.72 7.72c-.78.78-.78 2.05 0 2.83L4 21.41c.39.39.9.59 1.41.59.51 0 1.02-.2 1.41-.59l7.78-7.78 2.81-2.81c.8-.78.8-2.07 0-2.86zM5.41 20L4 18.59l7.72-7.72 1.47 1.35L5.41 20z\"/>\n",
              "  </svg>\n",
              "      </button>\n",
              "      \n",
              "  <style>\n",
              "    .colab-df-container {\n",
              "      display:flex;\n",
              "      flex-wrap:wrap;\n",
              "      gap: 12px;\n",
              "    }\n",
              "\n",
              "    .colab-df-convert {\n",
              "      background-color: #E8F0FE;\n",
              "      border: none;\n",
              "      border-radius: 50%;\n",
              "      cursor: pointer;\n",
              "      display: none;\n",
              "      fill: #1967D2;\n",
              "      height: 32px;\n",
              "      padding: 0 0 0 0;\n",
              "      width: 32px;\n",
              "    }\n",
              "\n",
              "    .colab-df-convert:hover {\n",
              "      background-color: #E2EBFA;\n",
              "      box-shadow: 0px 1px 2px rgba(60, 64, 67, 0.3), 0px 1px 3px 1px rgba(60, 64, 67, 0.15);\n",
              "      fill: #174EA6;\n",
              "    }\n",
              "\n",
              "    [theme=dark] .colab-df-convert {\n",
              "      background-color: #3B4455;\n",
              "      fill: #D2E3FC;\n",
              "    }\n",
              "\n",
              "    [theme=dark] .colab-df-convert:hover {\n",
              "      background-color: #434B5C;\n",
              "      box-shadow: 0px 1px 3px 1px rgba(0, 0, 0, 0.15);\n",
              "      filter: drop-shadow(0px 1px 2px rgba(0, 0, 0, 0.3));\n",
              "      fill: #FFFFFF;\n",
              "    }\n",
              "  </style>\n",
              "\n",
              "      <script>\n",
              "        const buttonEl =\n",
              "          document.querySelector('#df-19b9a89f-2219-4cb4-aef7-4d3a4924d5ea button.colab-df-convert');\n",
              "        buttonEl.style.display =\n",
              "          google.colab.kernel.accessAllowed ? 'block' : 'none';\n",
              "\n",
              "        async function convertToInteractive(key) {\n",
              "          const element = document.querySelector('#df-19b9a89f-2219-4cb4-aef7-4d3a4924d5ea');\n",
              "          const dataTable =\n",
              "            await google.colab.kernel.invokeFunction('convertToInteractive',\n",
              "                                                     [key], {});\n",
              "          if (!dataTable) return;\n",
              "\n",
              "          const docLinkHtml = 'Like what you see? Visit the ' +\n",
              "            '<a target=\"_blank\" href=https://colab.research.google.com/notebooks/data_table.ipynb>data table notebook</a>'\n",
              "            + ' to learn more about interactive tables.';\n",
              "          element.innerHTML = '';\n",
              "          dataTable['output_type'] = 'display_data';\n",
              "          await google.colab.output.renderOutput(dataTable, element);\n",
              "          const docLink = document.createElement('div');\n",
              "          docLink.innerHTML = docLinkHtml;\n",
              "          element.appendChild(docLink);\n",
              "        }\n",
              "      </script>\n",
              "    </div>\n",
              "  </div>\n",
              "  "
            ]
          },
          "metadata": {},
          "execution_count": 6
        }
      ]
    },
    {
      "cell_type": "code",
      "source": [
        "sorted(ef[\"commodity_name\"].unique())"
      ],
      "metadata": {
        "colab": {
          "base_uri": "https://localhost:8080/"
        },
        "id": "--Ya0uF3ESaw",
        "outputId": "4a36461a-fdf7-4a32-c2fa-9b3c976d0cd8"
      },
      "execution_count": null,
      "outputs": [
        {
          "output_type": "execute_result",
          "data": {
            "text/plain": [
              "['Ajwan',\n",
              " 'Alasande Gram',\n",
              " 'Alasande+Gram',\n",
              " 'Almond(Badam)',\n",
              " 'Alsandikai',\n",
              " 'Amaranthus',\n",
              " 'Ambada+Seed',\n",
              " 'Amla(Nelli Kai)',\n",
              " 'Amla(Nelli+Kai)',\n",
              " 'Amphophalus',\n",
              " 'Antawala',\n",
              " 'Anthorium',\n",
              " 'Apple',\n",
              " 'Arecanut(Betelnut/Supari)',\n",
              " 'Arhar (Tur/Red Gram)(Whole)',\n",
              " 'Arhar+Dal(Tur+Dal)',\n",
              " 'Ashgourd',\n",
              " 'Avare+Dal',\n",
              " 'Balekai',\n",
              " 'Bamboo',\n",
              " 'Banana',\n",
              " 'Banana+-+Green',\n",
              " 'Barley+(Jau)',\n",
              " 'Beans',\n",
              " 'Beaten+Rice',\n",
              " 'Beetroot',\n",
              " 'Betal+Leaves',\n",
              " 'Bitter+gourd',\n",
              " 'Black+pepper',\n",
              " 'Bottle+gourd',\n",
              " 'Bran',\n",
              " 'Brinjal',\n",
              " 'Broken+Rice',\n",
              " 'Bull',\n",
              " 'Bunch+Beans',\n",
              " 'Butter',\n",
              " 'Cabbage',\n",
              " 'Calf',\n",
              " 'Capsicum',\n",
              " 'Cardamoms',\n",
              " 'Carrot',\n",
              " 'Cashewnuts',\n",
              " 'Castor+Seed',\n",
              " 'Cauliflower',\n",
              " 'Chapparad+Avare',\n",
              " 'Chennangi+Dal',\n",
              " 'Cherry',\n",
              " 'Chikoos(Sapota)',\n",
              " 'Chili+Red',\n",
              " 'Chilly+Capsicum',\n",
              " 'Chow+Chow',\n",
              " 'Chrysanthemum(Loose)',\n",
              " 'Cloves',\n",
              " 'Cluster+beans',\n",
              " 'Coca',\n",
              " 'Cock',\n",
              " 'Cocoa',\n",
              " 'Coconut',\n",
              " 'Coconut+Oil',\n",
              " 'Coconut+Seed',\n",
              " 'Coffee',\n",
              " 'Colacasia',\n",
              " 'Copra',\n",
              " 'Coriander(Leaves)',\n",
              " 'Corriander+seed',\n",
              " 'Cotton',\n",
              " 'Cotton+Seed',\n",
              " 'Cow',\n",
              " 'Cowpea(Veg)',\n",
              " 'Cucumbar(Kheera)',\n",
              " 'Cummin+Seed(Jeera)',\n",
              " 'Dalda',\n",
              " 'Dhaincha',\n",
              " 'Drumstick',\n",
              " 'Dry+Chillies',\n",
              " 'Dry+Fodder',\n",
              " 'Dry+Grapes',\n",
              " 'Duck',\n",
              " 'Duster+Beans',\n",
              " 'Egg',\n",
              " 'Elephant+Yam+(Suran)',\n",
              " 'Field+Pea',\n",
              " 'Firewood',\n",
              " 'Fish',\n",
              " 'Galgal(Lemon)',\n",
              " 'Garlic',\n",
              " 'Ghee',\n",
              " 'Gingelly+Oil',\n",
              " 'Ginger(Dry)',\n",
              " 'Ginger(Green)',\n",
              " 'Goat',\n",
              " 'Gram+Raw(Chholia)',\n",
              " 'Gramflour',\n",
              " 'Grapes',\n",
              " 'Green+Avare+(W)',\n",
              " 'Green+Chilli',\n",
              " 'Green+Fodder',\n",
              " 'Green+Peas',\n",
              " 'Ground+Nut+Seed',\n",
              " 'Groundnut',\n",
              " 'Groundnut+(Split)',\n",
              " 'Groundnut+pods+(raw)',\n",
              " 'Guar',\n",
              " 'Guava',\n",
              " 'Gur(Jaggery)',\n",
              " 'Gurellu',\n",
              " 'He+Buffalo',\n",
              " 'Hen',\n",
              " 'Hippe+Seed',\n",
              " 'Honge+seed',\n",
              " 'Hybrid+Cumbu',\n",
              " 'Indian+Beans+(Seam)',\n",
              " 'Indian+Colza(Sarson)',\n",
              " 'Isabgul+(Psyllium)',\n",
              " 'Jack+Fruit',\n",
              " 'Jamun(Narale+Hannu)',\n",
              " 'Jasmine',\n",
              " 'Jowar(Sorghum)',\n",
              " 'Jute',\n",
              " 'Karbuja(Musk+Melon)',\n",
              " 'Kartali+(Kantola)',\n",
              " 'Khoya',\n",
              " 'Kinnow',\n",
              " 'Knool+Khol',\n",
              " 'Kodo+Millet(Varagu)',\n",
              " 'Kulthi(Horse+Gram)',\n",
              " 'Lak(Teora)',\n",
              " 'Leafy+Vegetable',\n",
              " 'Lemon',\n",
              " 'Lime',\n",
              " 'Linseed',\n",
              " 'Lint',\n",
              " 'Litchi',\n",
              " 'Long+Melon(Kakri)',\n",
              " 'Lotus+Sticks',\n",
              " 'Lukad',\n",
              " 'Mace',\n",
              " 'Mahedi',\n",
              " 'Mahua',\n",
              " 'Maida+Atta',\n",
              " 'Maize',\n",
              " 'Mango',\n",
              " 'Mango+(Raw-Ripe)',\n",
              " 'Marigold(Calcutta)',\n",
              " 'Marigold(loose)',\n",
              " 'Mashrooms',\n",
              " 'Masur+Dal',\n",
              " 'Mataki',\n",
              " 'Methi(Leaves)',\n",
              " 'Methi+Seeds',\n",
              " 'Millets',\n",
              " 'Mint(Pudina)',\n",
              " 'Moath+Dal',\n",
              " 'Mousambi(Sweet+Lime)',\n",
              " 'Mustard',\n",
              " 'Mustard+Oil',\n",
              " 'Myrobolan(Harad)',\n",
              " 'Neem+Seed',\n",
              " 'Niger+Seed+(Ramtil)',\n",
              " 'Nutmeg',\n",
              " 'Onion',\n",
              " 'Onion+Green',\n",
              " 'Orange',\n",
              " 'Other+Pulses',\n",
              " 'Ox',\n",
              " 'Paddy(Dhan)(Basmati)',\n",
              " 'Paddy(Dhan)(Common)',\n",
              " 'Papaya',\n",
              " 'Papaya+(Raw)',\n",
              " 'Peach',\n",
              " 'Pear(Marasebu)',\n",
              " 'Peas(Dry)',\n",
              " 'Peas+Wet',\n",
              " 'Peas+cod',\n",
              " 'Pepper+garbled',\n",
              " 'Pepper+ungarbled',\n",
              " 'Persimon(Japani+Fal)',\n",
              " 'Pigs',\n",
              " 'Pineapple',\n",
              " 'Plum',\n",
              " 'Pomegranate',\n",
              " 'Potato',\n",
              " 'Pumpkin',\n",
              " 'Raddish',\n",
              " 'Ragi+(Finger+Millet)',\n",
              " 'Rajgir',\n",
              " 'Ram',\n",
              " 'Rice',\n",
              " 'Ridge+gourd(Tori)',\n",
              " 'Ridgeguard(Tori)',\n",
              " 'Rose(Local)',\n",
              " 'Rose(Loose)',\n",
              " 'Round+gourd',\n",
              " 'Rubber',\n",
              " 'Sabu+Dan',\n",
              " 'Sabu+Dana',\n",
              " 'Safflower',\n",
              " 'Sajje',\n",
              " 'Same/Savi',\n",
              " 'Season+Leaves',\n",
              " 'Seemebadnekai',\n",
              " 'Seetafal',\n",
              " 'Seetapal',\n",
              " 'She+Buffalo',\n",
              " 'She+Goat',\n",
              " 'Sheep',\n",
              " 'Siddota',\n",
              " 'Snake+gourd',\n",
              " 'Snakeguard',\n",
              " 'Soanf',\n",
              " 'Soji',\n",
              " 'Soyabean',\n",
              " 'Spinach',\n",
              " 'Sponge+gourd',\n",
              " 'Sugar',\n",
              " 'Sugarcane',\n",
              " 'Sunflower',\n",
              " 'Sunhemp',\n",
              " 'Surat+Beans+(Papadi)',\n",
              " 'Suva+(Dill+Seed)',\n",
              " 'Suvarna+Gadde',\n",
              " 'Sweet+Potato',\n",
              " 'Sweet+Pumpkin',\n",
              " 'T.V.+Cumbu',\n",
              " 'Tamarind+Fruit',\n",
              " 'Tamarind+Seed',\n",
              " 'Tapioca',\n",
              " 'Taramira',\n",
              " 'Tender+Coconut',\n",
              " 'Thogrikai',\n",
              " 'Thondekai',\n",
              " 'Tinda',\n",
              " 'Tobacco',\n",
              " 'Tomato',\n",
              " 'Toria',\n",
              " 'Tube+Rose(Loose)',\n",
              " 'Turmeric',\n",
              " 'Turmeric+(raw)',\n",
              " 'Turnip',\n",
              " 'Walnut',\n",
              " 'Water+Melon',\n",
              " 'Wheat',\n",
              " 'Wheat+Atta',\n",
              " 'White+Peas',\n",
              " 'White+Pumpkin',\n",
              " 'Wood',\n",
              " 'Yam',\n",
              " 'Yam+(Ratalu)',\n",
              " 'its',\n",
              " '�\\x02�x�\\x7f�Apple']"
            ]
          },
          "metadata": {},
          "execution_count": 7
        }
      ]
    },
    {
      "cell_type": "code",
      "source": [
        "data=ef[(ef[\"commodity_name\"] =='Gram+Raw(Chholia)')|(ef[\"commodity_name\"]=='Water+Melon') |(ef[\"commodity_name\"]=='Apple')|(ef[\"commodity_name\"]=='Banana')|(ef[\"commodity_name\"]=='Alasande+Gram')|(ef[\"commodity_name\"]=='Coconut')|(ef[\"commodity_name\"]=='Coffee')|(ef[\"commodity_name\"]=='Grapes' )|(ef[\"commodity_name\"]=='Jute')|(ef[\"commodity_name\"]=='Maize')| (ef[\"commodity_name\"]=='Mango')| (ef[\"commodity_name\"]=='Orange')|(ef[\"commodity_name\"]=='Papaya')| (ef[\"commodity_name\"]=='Pomegranate')|( ef[\"commodity_name\"]=='Rice')]"
      ],
      "metadata": {
        "id": "5_7FpGUUFyxr"
      },
      "execution_count": null,
      "outputs": []
    },
    {
      "cell_type": "code",
      "source": [
        "data[\"commodity_name\"].unique()"
      ],
      "metadata": {
        "colab": {
          "base_uri": "https://localhost:8080/"
        },
        "id": "1MaoPMymQznf",
        "outputId": "f18b3d95-3734-4d0f-feab-878d06ee897e"
      },
      "execution_count": null,
      "outputs": [
        {
          "output_type": "execute_result",
          "data": {
            "text/plain": [
              "array(['Alasande+Gram', 'Apple', 'Banana', 'Coconut', 'Coffee', 'Grapes',\n",
              "       'Jute', 'Maize', 'Mango', 'Orange', 'Papaya', 'Pomegranate',\n",
              "       'Rice', 'Water+Melon', 'Gram+Raw(Chholia)'], dtype=object)"
            ]
          },
          "metadata": {},
          "execution_count": 16
        }
      ]
    },
    {
      "cell_type": "code",
      "source": [
        "data.to_json(r'cost15.json')\n"
      ],
      "metadata": {
        "id": "B4ox6rQ7Tv65"
      },
      "execution_count": null,
      "outputs": []
    },
    {
      "cell_type": "code",
      "source": [
        "data.to_csv(r'cost15.csv')\n"
      ],
      "metadata": {
        "id": "Ok_jj6cLUU-7"
      },
      "execution_count": null,
      "outputs": []
    },
    {
      "cell_type": "code",
      "source": [
        "data\n"
      ],
      "metadata": {
        "colab": {
          "base_uri": "https://localhost:8080/",
          "height": 423
        },
        "id": "BBQXnc2gUxEV",
        "outputId": "5a3e2477-0262-4116-e6aa-6894f86b6e4b"
      },
      "execution_count": null,
      "outputs": [
        {
          "output_type": "execute_result",
          "data": {
            "text/plain": [
              "       commodity_name           state         district      market  min_price  \\\n",
              "8       Alasande+Gram       Karnataka         Bagalkot   Bagalakot      46.01   \n",
              "9       Alasande+Gram       Karnataka        Bangalore   Bangalore      48.00   \n",
              "10      Alasande+Gram       Karnataka            Gadag  Laxmeshwar      22.15   \n",
              "11      Alasande+Gram  Madhya Pradesh            Panna    Ajaygarh      41.00   \n",
              "75              Apple     Chattisgarh             Durg        Durg      60.00   \n",
              "...               ...             ...              ...         ...        ...   \n",
              "834491          Apple      Uttrakhand         Haridwar     Roorkee    1500.00   \n",
              "834492          Apple      Uttrakhand  UdhamSinghNagar    Rudrapur    2000.00   \n",
              "834493          Apple     West Bengal          Kolkata      Mechua    7200.00   \n",
              "834494          Apple     West Bengal          Kolkata      Mechua    8300.00   \n",
              "834495          Apple     West Bengal          Kolkata      Mechua    6300.00   \n",
              "\n",
              "        max_price  modal_price        date  \n",
              "8           46.50        46.46   5/22/2019  \n",
              "9           53.00        50.50   5/22/2019  \n",
              "10          46.41        36.54   5/22/2019  \n",
              "11          46.20        42.00   5/22/2019  \n",
              "75          80.00        70.00   5/22/2019  \n",
              "...           ...          ...         ...  \n",
              "834491    3500.00      2800.00  10/12/2021  \n",
              "834492    4000.00      3000.00  10/12/2021  \n",
              "834493    9400.00      8500.00  10/12/2021  \n",
              "834494    7400.00         0.00  10/12/2021  \n",
              "834495    5500.00         0.00  10/12/2021  \n",
              "\n",
              "[118770 rows x 8 columns]"
            ],
            "text/html": [
              "\n",
              "  <div id=\"df-0a0a5518-0496-4c3b-a75c-cfdbd649adbc\">\n",
              "    <div class=\"colab-df-container\">\n",
              "      <div>\n",
              "<style scoped>\n",
              "    .dataframe tbody tr th:only-of-type {\n",
              "        vertical-align: middle;\n",
              "    }\n",
              "\n",
              "    .dataframe tbody tr th {\n",
              "        vertical-align: top;\n",
              "    }\n",
              "\n",
              "    .dataframe thead th {\n",
              "        text-align: right;\n",
              "    }\n",
              "</style>\n",
              "<table border=\"1\" class=\"dataframe\">\n",
              "  <thead>\n",
              "    <tr style=\"text-align: right;\">\n",
              "      <th></th>\n",
              "      <th>commodity_name</th>\n",
              "      <th>state</th>\n",
              "      <th>district</th>\n",
              "      <th>market</th>\n",
              "      <th>min_price</th>\n",
              "      <th>max_price</th>\n",
              "      <th>modal_price</th>\n",
              "      <th>date</th>\n",
              "    </tr>\n",
              "  </thead>\n",
              "  <tbody>\n",
              "    <tr>\n",
              "      <th>8</th>\n",
              "      <td>Alasande+Gram</td>\n",
              "      <td>Karnataka</td>\n",
              "      <td>Bagalkot</td>\n",
              "      <td>Bagalakot</td>\n",
              "      <td>46.01</td>\n",
              "      <td>46.50</td>\n",
              "      <td>46.46</td>\n",
              "      <td>5/22/2019</td>\n",
              "    </tr>\n",
              "    <tr>\n",
              "      <th>9</th>\n",
              "      <td>Alasande+Gram</td>\n",
              "      <td>Karnataka</td>\n",
              "      <td>Bangalore</td>\n",
              "      <td>Bangalore</td>\n",
              "      <td>48.00</td>\n",
              "      <td>53.00</td>\n",
              "      <td>50.50</td>\n",
              "      <td>5/22/2019</td>\n",
              "    </tr>\n",
              "    <tr>\n",
              "      <th>10</th>\n",
              "      <td>Alasande+Gram</td>\n",
              "      <td>Karnataka</td>\n",
              "      <td>Gadag</td>\n",
              "      <td>Laxmeshwar</td>\n",
              "      <td>22.15</td>\n",
              "      <td>46.41</td>\n",
              "      <td>36.54</td>\n",
              "      <td>5/22/2019</td>\n",
              "    </tr>\n",
              "    <tr>\n",
              "      <th>11</th>\n",
              "      <td>Alasande+Gram</td>\n",
              "      <td>Madhya Pradesh</td>\n",
              "      <td>Panna</td>\n",
              "      <td>Ajaygarh</td>\n",
              "      <td>41.00</td>\n",
              "      <td>46.20</td>\n",
              "      <td>42.00</td>\n",
              "      <td>5/22/2019</td>\n",
              "    </tr>\n",
              "    <tr>\n",
              "      <th>75</th>\n",
              "      <td>Apple</td>\n",
              "      <td>Chattisgarh</td>\n",
              "      <td>Durg</td>\n",
              "      <td>Durg</td>\n",
              "      <td>60.00</td>\n",
              "      <td>80.00</td>\n",
              "      <td>70.00</td>\n",
              "      <td>5/22/2019</td>\n",
              "    </tr>\n",
              "    <tr>\n",
              "      <th>...</th>\n",
              "      <td>...</td>\n",
              "      <td>...</td>\n",
              "      <td>...</td>\n",
              "      <td>...</td>\n",
              "      <td>...</td>\n",
              "      <td>...</td>\n",
              "      <td>...</td>\n",
              "      <td>...</td>\n",
              "    </tr>\n",
              "    <tr>\n",
              "      <th>834491</th>\n",
              "      <td>Apple</td>\n",
              "      <td>Uttrakhand</td>\n",
              "      <td>Haridwar</td>\n",
              "      <td>Roorkee</td>\n",
              "      <td>1500.00</td>\n",
              "      <td>3500.00</td>\n",
              "      <td>2800.00</td>\n",
              "      <td>10/12/2021</td>\n",
              "    </tr>\n",
              "    <tr>\n",
              "      <th>834492</th>\n",
              "      <td>Apple</td>\n",
              "      <td>Uttrakhand</td>\n",
              "      <td>UdhamSinghNagar</td>\n",
              "      <td>Rudrapur</td>\n",
              "      <td>2000.00</td>\n",
              "      <td>4000.00</td>\n",
              "      <td>3000.00</td>\n",
              "      <td>10/12/2021</td>\n",
              "    </tr>\n",
              "    <tr>\n",
              "      <th>834493</th>\n",
              "      <td>Apple</td>\n",
              "      <td>West Bengal</td>\n",
              "      <td>Kolkata</td>\n",
              "      <td>Mechua</td>\n",
              "      <td>7200.00</td>\n",
              "      <td>9400.00</td>\n",
              "      <td>8500.00</td>\n",
              "      <td>10/12/2021</td>\n",
              "    </tr>\n",
              "    <tr>\n",
              "      <th>834494</th>\n",
              "      <td>Apple</td>\n",
              "      <td>West Bengal</td>\n",
              "      <td>Kolkata</td>\n",
              "      <td>Mechua</td>\n",
              "      <td>8300.00</td>\n",
              "      <td>7400.00</td>\n",
              "      <td>0.00</td>\n",
              "      <td>10/12/2021</td>\n",
              "    </tr>\n",
              "    <tr>\n",
              "      <th>834495</th>\n",
              "      <td>Apple</td>\n",
              "      <td>West Bengal</td>\n",
              "      <td>Kolkata</td>\n",
              "      <td>Mechua</td>\n",
              "      <td>6300.00</td>\n",
              "      <td>5500.00</td>\n",
              "      <td>0.00</td>\n",
              "      <td>10/12/2021</td>\n",
              "    </tr>\n",
              "  </tbody>\n",
              "</table>\n",
              "<p>118770 rows × 8 columns</p>\n",
              "</div>\n",
              "      <button class=\"colab-df-convert\" onclick=\"convertToInteractive('df-0a0a5518-0496-4c3b-a75c-cfdbd649adbc')\"\n",
              "              title=\"Convert this dataframe to an interactive table.\"\n",
              "              style=\"display:none;\">\n",
              "        \n",
              "  <svg xmlns=\"http://www.w3.org/2000/svg\" height=\"24px\"viewBox=\"0 0 24 24\"\n",
              "       width=\"24px\">\n",
              "    <path d=\"M0 0h24v24H0V0z\" fill=\"none\"/>\n",
              "    <path d=\"M18.56 5.44l.94 2.06.94-2.06 2.06-.94-2.06-.94-.94-2.06-.94 2.06-2.06.94zm-11 1L8.5 8.5l.94-2.06 2.06-.94-2.06-.94L8.5 2.5l-.94 2.06-2.06.94zm10 10l.94 2.06.94-2.06 2.06-.94-2.06-.94-.94-2.06-.94 2.06-2.06.94z\"/><path d=\"M17.41 7.96l-1.37-1.37c-.4-.4-.92-.59-1.43-.59-.52 0-1.04.2-1.43.59L10.3 9.45l-7.72 7.72c-.78.78-.78 2.05 0 2.83L4 21.41c.39.39.9.59 1.41.59.51 0 1.02-.2 1.41-.59l7.78-7.78 2.81-2.81c.8-.78.8-2.07 0-2.86zM5.41 20L4 18.59l7.72-7.72 1.47 1.35L5.41 20z\"/>\n",
              "  </svg>\n",
              "      </button>\n",
              "      \n",
              "  <style>\n",
              "    .colab-df-container {\n",
              "      display:flex;\n",
              "      flex-wrap:wrap;\n",
              "      gap: 12px;\n",
              "    }\n",
              "\n",
              "    .colab-df-convert {\n",
              "      background-color: #E8F0FE;\n",
              "      border: none;\n",
              "      border-radius: 50%;\n",
              "      cursor: pointer;\n",
              "      display: none;\n",
              "      fill: #1967D2;\n",
              "      height: 32px;\n",
              "      padding: 0 0 0 0;\n",
              "      width: 32px;\n",
              "    }\n",
              "\n",
              "    .colab-df-convert:hover {\n",
              "      background-color: #E2EBFA;\n",
              "      box-shadow: 0px 1px 2px rgba(60, 64, 67, 0.3), 0px 1px 3px 1px rgba(60, 64, 67, 0.15);\n",
              "      fill: #174EA6;\n",
              "    }\n",
              "\n",
              "    [theme=dark] .colab-df-convert {\n",
              "      background-color: #3B4455;\n",
              "      fill: #D2E3FC;\n",
              "    }\n",
              "\n",
              "    [theme=dark] .colab-df-convert:hover {\n",
              "      background-color: #434B5C;\n",
              "      box-shadow: 0px 1px 3px 1px rgba(0, 0, 0, 0.15);\n",
              "      filter: drop-shadow(0px 1px 2px rgba(0, 0, 0, 0.3));\n",
              "      fill: #FFFFFF;\n",
              "    }\n",
              "  </style>\n",
              "\n",
              "      <script>\n",
              "        const buttonEl =\n",
              "          document.querySelector('#df-0a0a5518-0496-4c3b-a75c-cfdbd649adbc button.colab-df-convert');\n",
              "        buttonEl.style.display =\n",
              "          google.colab.kernel.accessAllowed ? 'block' : 'none';\n",
              "\n",
              "        async function convertToInteractive(key) {\n",
              "          const element = document.querySelector('#df-0a0a5518-0496-4c3b-a75c-cfdbd649adbc');\n",
              "          const dataTable =\n",
              "            await google.colab.kernel.invokeFunction('convertToInteractive',\n",
              "                                                     [key], {});\n",
              "          if (!dataTable) return;\n",
              "\n",
              "          const docLinkHtml = 'Like what you see? Visit the ' +\n",
              "            '<a target=\"_blank\" href=https://colab.research.google.com/notebooks/data_table.ipynb>data table notebook</a>'\n",
              "            + ' to learn more about interactive tables.';\n",
              "          element.innerHTML = '';\n",
              "          dataTable['output_type'] = 'display_data';\n",
              "          await google.colab.output.renderOutput(dataTable, element);\n",
              "          const docLink = document.createElement('div');\n",
              "          docLink.innerHTML = docLinkHtml;\n",
              "          element.appendChild(docLink);\n",
              "        }\n",
              "      </script>\n",
              "    </div>\n",
              "  </div>\n",
              "  "
            ]
          },
          "metadata": {},
          "execution_count": 57
        }
      ]
    },
    {
      "cell_type": "code",
      "source": [
        "datadest=data[(data[\"commodity_name\"]==\"Apple\")&(data[\"district\"]==\"Durg\")] "
      ],
      "metadata": {
        "id": "_HsFyCd6U_5a"
      },
      "execution_count": null,
      "outputs": []
    },
    {
      "cell_type": "markdown",
      "source": [],
      "metadata": {
        "id": "_VtycoUmPARN"
      }
    },
    {
      "cell_type": "code",
      "source": [
        "data[data[\"district\"]==\"Durg\"].shape[0]>0 and data[data[\"commodity_name\"]==\"Alasande+Gram\"].shape[0]>0"
      ],
      "metadata": {
        "colab": {
          "base_uri": "https://localhost:8080/"
        },
        "id": "kNrgLZWwOmmH",
        "outputId": "25ac04b7-9f98-429a-d042-850737770f63"
      },
      "execution_count": null,
      "outputs": [
        {
          "output_type": "execute_result",
          "data": {
            "text/plain": [
              "True"
            ]
          },
          "metadata": {},
          "execution_count": 105
        }
      ]
    },
    {
      "cell_type": "code",
      "source": [
        "datadest[\"date\"].str[-2:]"
      ],
      "metadata": {
        "id": "IisTnALzgt1j"
      },
      "execution_count": null,
      "outputs": []
    },
    {
      "cell_type": "code",
      "source": [
        "yearset=set(datadest[\"date\"].str[-2:])\n",
        "print(yearset)"
      ],
      "metadata": {
        "colab": {
          "base_uri": "https://localhost:8080/"
        },
        "id": "LYpIEH470zEB",
        "outputId": "e3125839-26d6-4d39-b0d8-8dcd689a4fa2"
      },
      "execution_count": null,
      "outputs": [
        {
          "output_type": "stream",
          "name": "stdout",
          "text": [
            "{'19', '21'}\n"
          ]
        }
      ]
    },
    {
      "cell_type": "code",
      "source": [
        "for y in yearset:\n",
        "  datay=datadest[datadest[\"date\"].str[-2:]==y]\n",
        "  monthset=set(datay[\"date\"].str[:2])\n",
        "  for m in monthset:\n",
        "    cost=datay[datay[\"date\"].str[:2]==m]\n",
        "    print(y,m)\n",
        "    ma=cost[\"modal_price\"].max()\n",
        "    mi=cost[\"modal_price\"].min()\n",
        "    av=cost[\"modal_price\"].mean()\n",
        "    if ma<500 and mi<500 and av<500:\n",
        "      print(m,y)\n",
        "      print(ma,mi,av)\n"
      ],
      "metadata": {
        "colab": {
          "base_uri": "https://localhost:8080/"
        },
        "id": "5dZE4kQ51MiD",
        "outputId": "df39a50c-7901-452b-9292-094f81728d1c"
      },
      "execution_count": null,
      "outputs": [
        {
          "output_type": "stream",
          "name": "stdout",
          "text": [
            "19 6/\n",
            "6/ 19\n",
            "90.0 75.0 81.66666666666667\n",
            "19 10\n",
            "10 19\n",
            "60.0 60.0 60.0\n",
            "19 9/\n",
            "9/ 19\n",
            "85.0 85.0 85.0\n",
            "19 12\n",
            "12 19\n",
            "105.0 105.0 105.0\n",
            "19 7/\n",
            "7/ 19\n",
            "150.0 100.0 127.5\n",
            "19 11\n",
            "11 19\n",
            "95.0 65.0 80.0\n",
            "19 5/\n",
            "5/ 19\n",
            "140.0 70.0 100.0\n",
            "21 5/\n",
            "5/ 21\n",
            "195.0 120.0 170.625\n",
            "21 10\n"
          ]
        }
      ]
    },
    {
      "cell_type": "code",
      "source": [
        "datay=datadest[datadest[\"date\"].str[-2:]=='19']"
      ],
      "metadata": {
        "id": "iW76BOusbY5D"
      },
      "execution_count": null,
      "outputs": []
    },
    {
      "cell_type": "code",
      "source": [
        "monthset=set(datay[\"date\"].str[:2])"
      ],
      "metadata": {
        "id": "ohpRkis9v2P1"
      },
      "execution_count": null,
      "outputs": []
    },
    {
      "cell_type": "code",
      "source": [
        "print(monthset)"
      ],
      "metadata": {
        "colab": {
          "base_uri": "https://localhost:8080/"
        },
        "id": "1wT9vVQRwhJA",
        "outputId": "1b512d74-fa25-43c2-ba2e-849f5ea4c8f6"
      },
      "execution_count": null,
      "outputs": [
        {
          "output_type": "stream",
          "name": "stdout",
          "text": [
            "{'6/', '10', '9/', '12', '7/', '11', '5/'}\n"
          ]
        }
      ]
    },
    {
      "cell_type": "code",
      "source": [
        "for i in monthset:\n",
        "  cost=datay[datay[\"date\"].str[:2]==i]\n",
        "  print(i)\n",
        "  print(cost[\"modal_price\"].max(),cost[\"modal_price\"].min())\n"
      ],
      "metadata": {
        "colab": {
          "base_uri": "https://localhost:8080/"
        },
        "id": "IHkvRKNfzfQw",
        "outputId": "85ed04c0-91e9-4042-83e0-31a55f78d551"
      },
      "execution_count": null,
      "outputs": [
        {
          "output_type": "stream",
          "name": "stdout",
          "text": [
            "6/\n",
            "90.0 75.0\n",
            "10\n",
            "60.0 60.0\n",
            "9/\n",
            "85.0 85.0\n",
            "12\n",
            "105.0 105.0\n",
            "7/\n",
            "150.0 100.0\n",
            "11\n",
            "95.0 65.0\n",
            "5/\n",
            "140.0 70.0\n"
          ]
        }
      ]
    },
    {
      "cell_type": "code",
      "source": [
        "data[\"date\"].str[:1]"
      ],
      "metadata": {
        "colab": {
          "base_uri": "https://localhost:8080/"
        },
        "id": "A0iDlsR2V7ly",
        "outputId": "e7e1874f-77e4-4d44-f49b-56c8affed388"
      },
      "execution_count": null,
      "outputs": [
        {
          "output_type": "execute_result",
          "data": {
            "text/plain": [
              "8         5\n",
              "9         5\n",
              "10        5\n",
              "11        5\n",
              "75        5\n",
              "         ..\n",
              "834491    1\n",
              "834492    1\n",
              "834493    1\n",
              "834494    1\n",
              "834495    1\n",
              "Name: date, Length: 118770, dtype: object"
            ]
          },
          "metadata": {},
          "execution_count": 33
        }
      ]
    },
    {
      "cell_type": "code",
      "source": [],
      "metadata": {
        "id": "F2h5fxtP1ehd"
      },
      "execution_count": null,
      "outputs": []
    }
  ]
}