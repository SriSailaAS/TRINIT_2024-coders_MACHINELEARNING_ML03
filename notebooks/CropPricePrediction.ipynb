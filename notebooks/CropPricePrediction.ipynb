{
  "nbformat": 4,
  "nbformat_minor": 0,
  "metadata": {
    "colab": {
      "provenance": []
    },
    "kernelspec": {
      "name": "python3",
      "display_name": "Python 3"
    },
    "language_info": {
      "name": "python"
    }
  },
  "cells": [
    {
      "cell_type": "code",
      "execution_count": null,
      "metadata": {
        "id": "WZ-n5z9dnzfk"
      },
      "outputs": [],
      "source": [
        "import numpy as np\n",
        "import seaborn as sns\n",
        "import pandas as pd"
      ]
    },
    {
      "cell_type": "code",
      "source": [
        "df=pd.read_csv(\"agridata_csv_202110311352.csv\")\n",
        "df"
      ],
      "metadata": {
        "colab": {
          "base_uri": "https://localhost:8080/",
          "height": 423
        },
        "id": "RrtM_f2JrBwP",
        "outputId": "be343cb4-2eef-426e-d0a6-d35fbdf35b23"
      },
      "execution_count": null,
      "outputs": [
        {
          "output_type": "execute_result",
          "data": {
            "text/plain": [
              "                     commodity_name    state    district           market  \\\n",
              "0                             Ajwan  Gujarat      Amreli           Amreli   \n",
              "1                             Ajwan  Gujarat  Banaskanth          Dhanera   \n",
              "2                             Ajwan  Gujarat    Jamnagar         Jamnagar   \n",
              "3                             Ajwan  Gujarat     Mehsana             Kadi   \n",
              "4                             Ajwan  Gujarat     Mehsana            Unjha   \n",
              "...                             ...      ...         ...              ...   \n",
              "836972  Arhar (Tur/Red Gram)(Whole)  Gujarat     Bharuch  Jambusar(Kaavi)   \n",
              "836973  Arhar (Tur/Red Gram)(Whole)  Gujarat      Rajkot           Jasdan   \n",
              "836974  Arhar (Tur/Red Gram)(Whole)  Gujarat      Rajkot           Rajkot   \n",
              "836975  Arhar (Tur/Red Gram)(Whole)  Gujarat    Junagarh        Visavadar   \n",
              "836976  Arhar (Tur/Red Gram)(Whole)   Kerala    Kasargod      Neeleswaram   \n",
              "\n",
              "        min_price  max_price  modal_price         date  \n",
              "0           63.25      79.55        79.55   2019-05-22  \n",
              "1           80.05      80.05        80.05   2019-05-22  \n",
              "2           90.00     155.00       122.50   2019-05-22  \n",
              "3           94.50     112.50       107.00   2019-05-22  \n",
              "4           21.25     148.50        99.75   2019-05-22  \n",
              "...           ...        ...          ...          ...  \n",
              "836972    5100.00    5500.00      5300.00  06 Oct 2021  \n",
              "836973    3500.00    5500.00      5000.00  06 Oct 2021  \n",
              "836974    5300.00    6225.00      5650.00  06 Oct 2021  \n",
              "836975    4750.00    5750.00      5250.00  06 Oct 2021  \n",
              "836976   10500.00   11500.00     11000.00  06 Oct 2021  \n",
              "\n",
              "[836977 rows x 8 columns]"
            ],
            "text/html": [
              "\n",
              "  <div id=\"df-0c280fb3-95c5-4908-9887-04d3a7df5f12\">\n",
              "    <div class=\"colab-df-container\">\n",
              "      <div>\n",
              "<style scoped>\n",
              "    .dataframe tbody tr th:only-of-type {\n",
              "        vertical-align: middle;\n",
              "    }\n",
              "\n",
              "    .dataframe tbody tr th {\n",
              "        vertical-align: top;\n",
              "    }\n",
              "\n",
              "    .dataframe thead th {\n",
              "        text-align: right;\n",
              "    }\n",
              "</style>\n",
              "<table border=\"1\" class=\"dataframe\">\n",
              "  <thead>\n",
              "    <tr style=\"text-align: right;\">\n",
              "      <th></th>\n",
              "      <th>commodity_name</th>\n",
              "      <th>state</th>\n",
              "      <th>district</th>\n",
              "      <th>market</th>\n",
              "      <th>min_price</th>\n",
              "      <th>max_price</th>\n",
              "      <th>modal_price</th>\n",
              "      <th>date</th>\n",
              "    </tr>\n",
              "  </thead>\n",
              "  <tbody>\n",
              "    <tr>\n",
              "      <th>0</th>\n",
              "      <td>Ajwan</td>\n",
              "      <td>Gujarat</td>\n",
              "      <td>Amreli</td>\n",
              "      <td>Amreli</td>\n",
              "      <td>63.25</td>\n",
              "      <td>79.55</td>\n",
              "      <td>79.55</td>\n",
              "      <td>2019-05-22</td>\n",
              "    </tr>\n",
              "    <tr>\n",
              "      <th>1</th>\n",
              "      <td>Ajwan</td>\n",
              "      <td>Gujarat</td>\n",
              "      <td>Banaskanth</td>\n",
              "      <td>Dhanera</td>\n",
              "      <td>80.05</td>\n",
              "      <td>80.05</td>\n",
              "      <td>80.05</td>\n",
              "      <td>2019-05-22</td>\n",
              "    </tr>\n",
              "    <tr>\n",
              "      <th>2</th>\n",
              "      <td>Ajwan</td>\n",
              "      <td>Gujarat</td>\n",
              "      <td>Jamnagar</td>\n",
              "      <td>Jamnagar</td>\n",
              "      <td>90.00</td>\n",
              "      <td>155.00</td>\n",
              "      <td>122.50</td>\n",
              "      <td>2019-05-22</td>\n",
              "    </tr>\n",
              "    <tr>\n",
              "      <th>3</th>\n",
              "      <td>Ajwan</td>\n",
              "      <td>Gujarat</td>\n",
              "      <td>Mehsana</td>\n",
              "      <td>Kadi</td>\n",
              "      <td>94.50</td>\n",
              "      <td>112.50</td>\n",
              "      <td>107.00</td>\n",
              "      <td>2019-05-22</td>\n",
              "    </tr>\n",
              "    <tr>\n",
              "      <th>4</th>\n",
              "      <td>Ajwan</td>\n",
              "      <td>Gujarat</td>\n",
              "      <td>Mehsana</td>\n",
              "      <td>Unjha</td>\n",
              "      <td>21.25</td>\n",
              "      <td>148.50</td>\n",
              "      <td>99.75</td>\n",
              "      <td>2019-05-22</td>\n",
              "    </tr>\n",
              "    <tr>\n",
              "      <th>...</th>\n",
              "      <td>...</td>\n",
              "      <td>...</td>\n",
              "      <td>...</td>\n",
              "      <td>...</td>\n",
              "      <td>...</td>\n",
              "      <td>...</td>\n",
              "      <td>...</td>\n",
              "      <td>...</td>\n",
              "    </tr>\n",
              "    <tr>\n",
              "      <th>836972</th>\n",
              "      <td>Arhar (Tur/Red Gram)(Whole)</td>\n",
              "      <td>Gujarat</td>\n",
              "      <td>Bharuch</td>\n",
              "      <td>Jambusar(Kaavi)</td>\n",
              "      <td>5100.00</td>\n",
              "      <td>5500.00</td>\n",
              "      <td>5300.00</td>\n",
              "      <td>06 Oct 2021</td>\n",
              "    </tr>\n",
              "    <tr>\n",
              "      <th>836973</th>\n",
              "      <td>Arhar (Tur/Red Gram)(Whole)</td>\n",
              "      <td>Gujarat</td>\n",
              "      <td>Rajkot</td>\n",
              "      <td>Jasdan</td>\n",
              "      <td>3500.00</td>\n",
              "      <td>5500.00</td>\n",
              "      <td>5000.00</td>\n",
              "      <td>06 Oct 2021</td>\n",
              "    </tr>\n",
              "    <tr>\n",
              "      <th>836974</th>\n",
              "      <td>Arhar (Tur/Red Gram)(Whole)</td>\n",
              "      <td>Gujarat</td>\n",
              "      <td>Rajkot</td>\n",
              "      <td>Rajkot</td>\n",
              "      <td>5300.00</td>\n",
              "      <td>6225.00</td>\n",
              "      <td>5650.00</td>\n",
              "      <td>06 Oct 2021</td>\n",
              "    </tr>\n",
              "    <tr>\n",
              "      <th>836975</th>\n",
              "      <td>Arhar (Tur/Red Gram)(Whole)</td>\n",
              "      <td>Gujarat</td>\n",
              "      <td>Junagarh</td>\n",
              "      <td>Visavadar</td>\n",
              "      <td>4750.00</td>\n",
              "      <td>5750.00</td>\n",
              "      <td>5250.00</td>\n",
              "      <td>06 Oct 2021</td>\n",
              "    </tr>\n",
              "    <tr>\n",
              "      <th>836976</th>\n",
              "      <td>Arhar (Tur/Red Gram)(Whole)</td>\n",
              "      <td>Kerala</td>\n",
              "      <td>Kasargod</td>\n",
              "      <td>Neeleswaram</td>\n",
              "      <td>10500.00</td>\n",
              "      <td>11500.00</td>\n",
              "      <td>11000.00</td>\n",
              "      <td>06 Oct 2021</td>\n",
              "    </tr>\n",
              "  </tbody>\n",
              "</table>\n",
              "<p>836977 rows × 8 columns</p>\n",
              "</div>\n",
              "      <button class=\"colab-df-convert\" onclick=\"convertToInteractive('df-0c280fb3-95c5-4908-9887-04d3a7df5f12')\"\n",
              "              title=\"Convert this dataframe to an interactive table.\"\n",
              "              style=\"display:none;\">\n",
              "        \n",
              "  <svg xmlns=\"http://www.w3.org/2000/svg\" height=\"24px\"viewBox=\"0 0 24 24\"\n",
              "       width=\"24px\">\n",
              "    <path d=\"M0 0h24v24H0V0z\" fill=\"none\"/>\n",
              "    <path d=\"M18.56 5.44l.94 2.06.94-2.06 2.06-.94-2.06-.94-.94-2.06-.94 2.06-2.06.94zm-11 1L8.5 8.5l.94-2.06 2.06-.94-2.06-.94L8.5 2.5l-.94 2.06-2.06.94zm10 10l.94 2.06.94-2.06 2.06-.94-2.06-.94-.94-2.06-.94 2.06-2.06.94z\"/><path d=\"M17.41 7.96l-1.37-1.37c-.4-.4-.92-.59-1.43-.59-.52 0-1.04.2-1.43.59L10.3 9.45l-7.72 7.72c-.78.78-.78 2.05 0 2.83L4 21.41c.39.39.9.59 1.41.59.51 0 1.02-.2 1.41-.59l7.78-7.78 2.81-2.81c.8-.78.8-2.07 0-2.86zM5.41 20L4 18.59l7.72-7.72 1.47 1.35L5.41 20z\"/>\n",
              "  </svg>\n",
              "      </button>\n",
              "      \n",
              "  <style>\n",
              "    .colab-df-container {\n",
              "      display:flex;\n",
              "      flex-wrap:wrap;\n",
              "      gap: 12px;\n",
              "    }\n",
              "\n",
              "    .colab-df-convert {\n",
              "      background-color: #E8F0FE;\n",
              "      border: none;\n",
              "      border-radius: 50%;\n",
              "      cursor: pointer;\n",
              "      display: none;\n",
              "      fill: #1967D2;\n",
              "      height: 32px;\n",
              "      padding: 0 0 0 0;\n",
              "      width: 32px;\n",
              "    }\n",
              "\n",
              "    .colab-df-convert:hover {\n",
              "      background-color: #E2EBFA;\n",
              "      box-shadow: 0px 1px 2px rgba(60, 64, 67, 0.3), 0px 1px 3px 1px rgba(60, 64, 67, 0.15);\n",
              "      fill: #174EA6;\n",
              "    }\n",
              "\n",
              "    [theme=dark] .colab-df-convert {\n",
              "      background-color: #3B4455;\n",
              "      fill: #D2E3FC;\n",
              "    }\n",
              "\n",
              "    [theme=dark] .colab-df-convert:hover {\n",
              "      background-color: #434B5C;\n",
              "      box-shadow: 0px 1px 3px 1px rgba(0, 0, 0, 0.15);\n",
              "      filter: drop-shadow(0px 1px 2px rgba(0, 0, 0, 0.3));\n",
              "      fill: #FFFFFF;\n",
              "    }\n",
              "  </style>\n",
              "\n",
              "      <script>\n",
              "        const buttonEl =\n",
              "          document.querySelector('#df-0c280fb3-95c5-4908-9887-04d3a7df5f12 button.colab-df-convert');\n",
              "        buttonEl.style.display =\n",
              "          google.colab.kernel.accessAllowed ? 'block' : 'none';\n",
              "\n",
              "        async function convertToInteractive(key) {\n",
              "          const element = document.querySelector('#df-0c280fb3-95c5-4908-9887-04d3a7df5f12');\n",
              "          const dataTable =\n",
              "            await google.colab.kernel.invokeFunction('convertToInteractive',\n",
              "                                                     [key], {});\n",
              "          if (!dataTable) return;\n",
              "\n",
              "          const docLinkHtml = 'Like what you see? Visit the ' +\n",
              "            '<a target=\"_blank\" href=https://colab.research.google.com/notebooks/data_table.ipynb>data table notebook</a>'\n",
              "            + ' to learn more about interactive tables.';\n",
              "          element.innerHTML = '';\n",
              "          dataTable['output_type'] = 'display_data';\n",
              "          await google.colab.output.renderOutput(dataTable, element);\n",
              "          const docLink = document.createElement('div');\n",
              "          docLink.innerHTML = docLinkHtml;\n",
              "          element.appendChild(docLink);\n",
              "        }\n",
              "      </script>\n",
              "    </div>\n",
              "  </div>\n",
              "  "
            ]
          },
          "metadata": {},
          "execution_count": 16
        }
      ]
    },
    {
      "cell_type": "code",
      "source": [
        "df.info()"
      ],
      "metadata": {
        "colab": {
          "base_uri": "https://localhost:8080/"
        },
        "id": "1T-Z3RwfrVyB",
        "outputId": "c8481b45-9540-40f3-dcb4-9f6db3e7b772"
      },
      "execution_count": null,
      "outputs": [
        {
          "output_type": "stream",
          "name": "stdout",
          "text": [
            "<class 'pandas.core.frame.DataFrame'>\n",
            "RangeIndex: 836977 entries, 0 to 836976\n",
            "Data columns (total 8 columns):\n",
            " #   Column          Non-Null Count   Dtype  \n",
            "---  ------          --------------   -----  \n",
            " 0   commodity_name  836976 non-null  object \n",
            " 1   state           836977 non-null  object \n",
            " 2   district        836977 non-null  object \n",
            " 3   market          836977 non-null  object \n",
            " 4   min_price       836976 non-null  float64\n",
            " 5   max_price       836976 non-null  float64\n",
            " 6   modal_price     836976 non-null  float64\n",
            " 7   date            836976 non-null  object \n",
            "dtypes: float64(3), object(5)\n",
            "memory usage: 51.1+ MB\n"
          ]
        }
      ]
    },
    {
      "cell_type": "code",
      "source": [
        "df.isnull().sum()"
      ],
      "metadata": {
        "colab": {
          "base_uri": "https://localhost:8080/"
        },
        "id": "gaN05gxMrb5l",
        "outputId": "b5078b0d-189f-40e2-b0ae-3323c16a0285"
      },
      "execution_count": null,
      "outputs": [
        {
          "output_type": "execute_result",
          "data": {
            "text/plain": [
              "commodity_name    1\n",
              "state             0\n",
              "district          0\n",
              "market            0\n",
              "min_price         1\n",
              "max_price         1\n",
              "modal_price       1\n",
              "date              1\n",
              "dtype: int64"
            ]
          },
          "metadata": {},
          "execution_count": 18
        }
      ]
    },
    {
      "cell_type": "code",
      "source": [
        "data2=df.copy()"
      ],
      "metadata": {
        "id": "IROAOHWKrhcW"
      },
      "execution_count": null,
      "outputs": []
    },
    {
      "cell_type": "code",
      "source": [
        "data2=data2.dropna()"
      ],
      "metadata": {
        "id": "2QMCA6amvrK4"
      },
      "execution_count": null,
      "outputs": []
    },
    {
      "cell_type": "code",
      "source": [
        "data2.head()"
      ],
      "metadata": {
        "colab": {
          "base_uri": "https://localhost:8080/",
          "height": 206
        },
        "id": "x8WHhlA1v2Vd",
        "outputId": "1eebbe31-1001-4dc4-8646-c5040e38a457"
      },
      "execution_count": null,
      "outputs": [
        {
          "output_type": "execute_result",
          "data": {
            "text/plain": [
              "  commodity_name    state    district    market  min_price  max_price  \\\n",
              "0          Ajwan  Gujarat      Amreli    Amreli      63.25      79.55   \n",
              "1          Ajwan  Gujarat  Banaskanth   Dhanera      80.05      80.05   \n",
              "2          Ajwan  Gujarat    Jamnagar  Jamnagar      90.00     155.00   \n",
              "3          Ajwan  Gujarat     Mehsana      Kadi      94.50     112.50   \n",
              "4          Ajwan  Gujarat     Mehsana     Unjha      21.25     148.50   \n",
              "\n",
              "   modal_price        date  \n",
              "0        79.55  2019-05-22  \n",
              "1        80.05  2019-05-22  \n",
              "2       122.50  2019-05-22  \n",
              "3       107.00  2019-05-22  \n",
              "4        99.75  2019-05-22  "
            ],
            "text/html": [
              "\n",
              "  <div id=\"df-683c837b-f2b5-4807-bb5c-5ab3c545b78e\">\n",
              "    <div class=\"colab-df-container\">\n",
              "      <div>\n",
              "<style scoped>\n",
              "    .dataframe tbody tr th:only-of-type {\n",
              "        vertical-align: middle;\n",
              "    }\n",
              "\n",
              "    .dataframe tbody tr th {\n",
              "        vertical-align: top;\n",
              "    }\n",
              "\n",
              "    .dataframe thead th {\n",
              "        text-align: right;\n",
              "    }\n",
              "</style>\n",
              "<table border=\"1\" class=\"dataframe\">\n",
              "  <thead>\n",
              "    <tr style=\"text-align: right;\">\n",
              "      <th></th>\n",
              "      <th>commodity_name</th>\n",
              "      <th>state</th>\n",
              "      <th>district</th>\n",
              "      <th>market</th>\n",
              "      <th>min_price</th>\n",
              "      <th>max_price</th>\n",
              "      <th>modal_price</th>\n",
              "      <th>date</th>\n",
              "    </tr>\n",
              "  </thead>\n",
              "  <tbody>\n",
              "    <tr>\n",
              "      <th>0</th>\n",
              "      <td>Ajwan</td>\n",
              "      <td>Gujarat</td>\n",
              "      <td>Amreli</td>\n",
              "      <td>Amreli</td>\n",
              "      <td>63.25</td>\n",
              "      <td>79.55</td>\n",
              "      <td>79.55</td>\n",
              "      <td>2019-05-22</td>\n",
              "    </tr>\n",
              "    <tr>\n",
              "      <th>1</th>\n",
              "      <td>Ajwan</td>\n",
              "      <td>Gujarat</td>\n",
              "      <td>Banaskanth</td>\n",
              "      <td>Dhanera</td>\n",
              "      <td>80.05</td>\n",
              "      <td>80.05</td>\n",
              "      <td>80.05</td>\n",
              "      <td>2019-05-22</td>\n",
              "    </tr>\n",
              "    <tr>\n",
              "      <th>2</th>\n",
              "      <td>Ajwan</td>\n",
              "      <td>Gujarat</td>\n",
              "      <td>Jamnagar</td>\n",
              "      <td>Jamnagar</td>\n",
              "      <td>90.00</td>\n",
              "      <td>155.00</td>\n",
              "      <td>122.50</td>\n",
              "      <td>2019-05-22</td>\n",
              "    </tr>\n",
              "    <tr>\n",
              "      <th>3</th>\n",
              "      <td>Ajwan</td>\n",
              "      <td>Gujarat</td>\n",
              "      <td>Mehsana</td>\n",
              "      <td>Kadi</td>\n",
              "      <td>94.50</td>\n",
              "      <td>112.50</td>\n",
              "      <td>107.00</td>\n",
              "      <td>2019-05-22</td>\n",
              "    </tr>\n",
              "    <tr>\n",
              "      <th>4</th>\n",
              "      <td>Ajwan</td>\n",
              "      <td>Gujarat</td>\n",
              "      <td>Mehsana</td>\n",
              "      <td>Unjha</td>\n",
              "      <td>21.25</td>\n",
              "      <td>148.50</td>\n",
              "      <td>99.75</td>\n",
              "      <td>2019-05-22</td>\n",
              "    </tr>\n",
              "  </tbody>\n",
              "</table>\n",
              "</div>\n",
              "      <button class=\"colab-df-convert\" onclick=\"convertToInteractive('df-683c837b-f2b5-4807-bb5c-5ab3c545b78e')\"\n",
              "              title=\"Convert this dataframe to an interactive table.\"\n",
              "              style=\"display:none;\">\n",
              "        \n",
              "  <svg xmlns=\"http://www.w3.org/2000/svg\" height=\"24px\"viewBox=\"0 0 24 24\"\n",
              "       width=\"24px\">\n",
              "    <path d=\"M0 0h24v24H0V0z\" fill=\"none\"/>\n",
              "    <path d=\"M18.56 5.44l.94 2.06.94-2.06 2.06-.94-2.06-.94-.94-2.06-.94 2.06-2.06.94zm-11 1L8.5 8.5l.94-2.06 2.06-.94-2.06-.94L8.5 2.5l-.94 2.06-2.06.94zm10 10l.94 2.06.94-2.06 2.06-.94-2.06-.94-.94-2.06-.94 2.06-2.06.94z\"/><path d=\"M17.41 7.96l-1.37-1.37c-.4-.4-.92-.59-1.43-.59-.52 0-1.04.2-1.43.59L10.3 9.45l-7.72 7.72c-.78.78-.78 2.05 0 2.83L4 21.41c.39.39.9.59 1.41.59.51 0 1.02-.2 1.41-.59l7.78-7.78 2.81-2.81c.8-.78.8-2.07 0-2.86zM5.41 20L4 18.59l7.72-7.72 1.47 1.35L5.41 20z\"/>\n",
              "  </svg>\n",
              "      </button>\n",
              "      \n",
              "  <style>\n",
              "    .colab-df-container {\n",
              "      display:flex;\n",
              "      flex-wrap:wrap;\n",
              "      gap: 12px;\n",
              "    }\n",
              "\n",
              "    .colab-df-convert {\n",
              "      background-color: #E8F0FE;\n",
              "      border: none;\n",
              "      border-radius: 50%;\n",
              "      cursor: pointer;\n",
              "      display: none;\n",
              "      fill: #1967D2;\n",
              "      height: 32px;\n",
              "      padding: 0 0 0 0;\n",
              "      width: 32px;\n",
              "    }\n",
              "\n",
              "    .colab-df-convert:hover {\n",
              "      background-color: #E2EBFA;\n",
              "      box-shadow: 0px 1px 2px rgba(60, 64, 67, 0.3), 0px 1px 3px 1px rgba(60, 64, 67, 0.15);\n",
              "      fill: #174EA6;\n",
              "    }\n",
              "\n",
              "    [theme=dark] .colab-df-convert {\n",
              "      background-color: #3B4455;\n",
              "      fill: #D2E3FC;\n",
              "    }\n",
              "\n",
              "    [theme=dark] .colab-df-convert:hover {\n",
              "      background-color: #434B5C;\n",
              "      box-shadow: 0px 1px 3px 1px rgba(0, 0, 0, 0.15);\n",
              "      filter: drop-shadow(0px 1px 2px rgba(0, 0, 0, 0.3));\n",
              "      fill: #FFFFFF;\n",
              "    }\n",
              "  </style>\n",
              "\n",
              "      <script>\n",
              "        const buttonEl =\n",
              "          document.querySelector('#df-683c837b-f2b5-4807-bb5c-5ab3c545b78e button.colab-df-convert');\n",
              "        buttonEl.style.display =\n",
              "          google.colab.kernel.accessAllowed ? 'block' : 'none';\n",
              "\n",
              "        async function convertToInteractive(key) {\n",
              "          const element = document.querySelector('#df-683c837b-f2b5-4807-bb5c-5ab3c545b78e');\n",
              "          const dataTable =\n",
              "            await google.colab.kernel.invokeFunction('convertToInteractive',\n",
              "                                                     [key], {});\n",
              "          if (!dataTable) return;\n",
              "\n",
              "          const docLinkHtml = 'Like what you see? Visit the ' +\n",
              "            '<a target=\"_blank\" href=https://colab.research.google.com/notebooks/data_table.ipynb>data table notebook</a>'\n",
              "            + ' to learn more about interactive tables.';\n",
              "          element.innerHTML = '';\n",
              "          dataTable['output_type'] = 'display_data';\n",
              "          await google.colab.output.renderOutput(dataTable, element);\n",
              "          const docLink = document.createElement('div');\n",
              "          docLink.innerHTML = docLinkHtml;\n",
              "          element.appendChild(docLink);\n",
              "        }\n",
              "      </script>\n",
              "    </div>\n",
              "  </div>\n",
              "  "
            ]
          },
          "metadata": {},
          "execution_count": 22
        }
      ]
    },
    {
      "cell_type": "code",
      "source": [
        "data2.isnull().sum()"
      ],
      "metadata": {
        "colab": {
          "base_uri": "https://localhost:8080/"
        },
        "id": "r2z1zvBbv5WK",
        "outputId": "8f19ee55-760d-43e1-b507-96662233ab9d"
      },
      "execution_count": null,
      "outputs": [
        {
          "output_type": "execute_result",
          "data": {
            "text/plain": [
              "commodity_name    0\n",
              "state             0\n",
              "district          0\n",
              "market            0\n",
              "min_price         0\n",
              "max_price         0\n",
              "modal_price       0\n",
              "date              0\n",
              "dtype: int64"
            ]
          },
          "metadata": {},
          "execution_count": 24
        }
      ]
    },
    {
      "cell_type": "code",
      "source": [
        "data2=data2.head(800000)"
      ],
      "metadata": {
        "id": "3Jx9ALBgv-mB"
      },
      "execution_count": null,
      "outputs": []
    },
    {
      "cell_type": "code",
      "source": [
        "data2[\"date\"][20]"
      ],
      "metadata": {
        "colab": {
          "base_uri": "https://localhost:8080/",
          "height": 36
        },
        "id": "6sYZICYnwJp0",
        "outputId": "3002c7b2-b915-44c8-cce1-5fc9b470b43a"
      },
      "execution_count": null,
      "outputs": [
        {
          "output_type": "execute_result",
          "data": {
            "text/plain": [
              "'2019-05-22'"
            ],
            "application/vnd.google.colaboratory.intrinsic+json": {
              "type": "string"
            }
          },
          "metadata": {},
          "execution_count": 26
        }
      ]
    },
    {
      "cell_type": "code",
      "source": [
        "str = data2[\"date\"][1]\n",
        "str2 = str.split('-')\n",
        "print(str)\n",
        "print(str2)\n",
        "print(str2[1])"
      ],
      "metadata": {
        "colab": {
          "base_uri": "https://localhost:8080/"
        },
        "id": "nuvi7ClMwMCT",
        "outputId": "efe88f77-1ddd-46b3-9751-26e1c80470c6"
      },
      "execution_count": null,
      "outputs": [
        {
          "output_type": "stream",
          "name": "stdout",
          "text": [
            "2019-05-22\n",
            "['2019', '05', '22']\n",
            "05\n"
          ]
        }
      ]
    },
    {
      "cell_type": "code",
      "source": [
        "Dict={1:\"January\",2:\"February\",3:\"March\",4:\"April\",5:\"May\",6:\"June\",7:\"July\",8:\"August\",9:\"September\",10:\"October\",11:\"November\",12:\"December\"}"
      ],
      "metadata": {
        "id": "9BWN8zmMwe0h"
      },
      "execution_count": null,
      "outputs": []
    },
    {
      "cell_type": "code",
      "source": [
        "print(Dict)"
      ],
      "metadata": {
        "colab": {
          "base_uri": "https://localhost:8080/"
        },
        "id": "DAFSX571wkFB",
        "outputId": "f2e85347-e3cc-4c00-8808-3e2eee1a946b"
      },
      "execution_count": null,
      "outputs": [
        {
          "output_type": "stream",
          "name": "stdout",
          "text": [
            "{1: 'January', 2: 'February', 3: 'March', 4: 'April', 5: 'May', 6: 'June', 7: 'July', 8: 'August', 9: 'September', 10: 'October', 11: 'November', 12: 'December'}\n"
          ]
        }
      ]
    },
    {
      "cell_type": "code",
      "source": [
        "month_column=[]"
      ],
      "metadata": {
        "id": "w5YHDqyGwvO8"
      },
      "execution_count": null,
      "outputs": []
    },
    {
      "cell_type": "code",
      "source": [
        "for rr in data2[\"date\"]:\n",
        "  str=rr\n",
        "  str2 = str.split('-')\n",
        "  month_column.append(Dict[int(str2[1])])"
      ],
      "metadata": {
        "id": "Q9NEJa9LwzO6"
      },
      "execution_count": null,
      "outputs": []
    },
    {
      "cell_type": "code",
      "source": [
        "len(month_column)"
      ],
      "metadata": {
        "colab": {
          "base_uri": "https://localhost:8080/"
        },
        "id": "SB2nQxeQxEmL",
        "outputId": "44b22b6e-07a6-4b7d-e196-f1e3de748cb2"
      },
      "execution_count": null,
      "outputs": [
        {
          "output_type": "execute_result",
          "data": {
            "text/plain": [
              "800000"
            ]
          },
          "metadata": {},
          "execution_count": 40
        }
      ]
    },
    {
      "cell_type": "code",
      "source": [
        "data2[\"month_column\"] = month_column"
      ],
      "metadata": {
        "id": "-X-UHjQoxYDX"
      },
      "execution_count": null,
      "outputs": []
    },
    {
      "cell_type": "code",
      "source": [
        "data2[\"month_column\"] "
      ],
      "metadata": {
        "colab": {
          "base_uri": "https://localhost:8080/"
        },
        "id": "T6KTD-lzxdRS",
        "outputId": "439c8fc3-16f6-42e6-9da4-682763443b9e"
      },
      "execution_count": null,
      "outputs": [
        {
          "output_type": "execute_result",
          "data": {
            "text/plain": [
              "0          May\n",
              "1          May\n",
              "2          May\n",
              "3          May\n",
              "4          May\n",
              "          ... \n",
              "799995    July\n",
              "799996    July\n",
              "799997    July\n",
              "799998    July\n",
              "799999    July\n",
              "Name: month_column, Length: 800000, dtype: object"
            ]
          },
          "metadata": {},
          "execution_count": 42
        }
      ]
    },
    {
      "cell_type": "code",
      "source": [
        "data2[\"month_column\"].unique()"
      ],
      "metadata": {
        "colab": {
          "base_uri": "https://localhost:8080/"
        },
        "id": "vKw8eF11xf-5",
        "outputId": "061b5be1-dc42-406f-8162-a923af6cc511"
      },
      "execution_count": null,
      "outputs": [
        {
          "output_type": "execute_result",
          "data": {
            "text/plain": [
              "array(['May', 'June', 'July', 'August', 'September', 'October',\n",
              "       'November', 'December', 'March', 'April'], dtype=object)"
            ]
          },
          "metadata": {},
          "execution_count": 43
        }
      ]
    },
    {
      "cell_type": "code",
      "source": [
        "season_names=[]"
      ],
      "metadata": {
        "id": "JuXNvqtfxmmH"
      },
      "execution_count": null,
      "outputs": []
    },
    {
      "cell_type": "code",
      "source": [
        "for tt in data2[\"month_column\"]:\n",
        "  if tt=='January' or tt=='Feburary':\n",
        "    season_names.append(\"Jan-Feb\")\n",
        "  elif tt=='March' or tt=='April' or tt=='May':\n",
        "    season_names.append(\"Mar-May\")\n",
        "  elif tt=='June' or tt=='July' or tt=='August' or tt=='September':\n",
        "    season_names.append(\"Jun-Sep\")\n",
        "  elif tt=='October'or tt=='November' or tt=='December':\n",
        "    season_names.append(\"Oct-Dec\")"
      ],
      "metadata": {
        "id": "cfdI_KK0xqgt"
      },
      "execution_count": null,
      "outputs": []
    },
    {
      "cell_type": "code",
      "source": [
        "data2[\"season_names\"]=season_names\n"
      ],
      "metadata": {
        "id": "KXM9toG6x3Zt"
      },
      "execution_count": null,
      "outputs": []
    },
    {
      "cell_type": "code",
      "source": [
        "data2.head()"
      ],
      "metadata": {
        "colab": {
          "base_uri": "https://localhost:8080/",
          "height": 206
        },
        "id": "M4gJtyk6yNj3",
        "outputId": "ad7fb543-5abc-4051-a4db-6ff96b92b925"
      },
      "execution_count": null,
      "outputs": [
        {
          "output_type": "execute_result",
          "data": {
            "text/plain": [
              "  commodity_name    state    district    market  min_price  max_price  \\\n",
              "0          Ajwan  Gujarat      Amreli    Amreli      63.25      79.55   \n",
              "1          Ajwan  Gujarat  Banaskanth   Dhanera      80.05      80.05   \n",
              "2          Ajwan  Gujarat    Jamnagar  Jamnagar      90.00     155.00   \n",
              "3          Ajwan  Gujarat     Mehsana      Kadi      94.50     112.50   \n",
              "4          Ajwan  Gujarat     Mehsana     Unjha      21.25     148.50   \n",
              "\n",
              "   modal_price        date month_column season_names  \n",
              "0        79.55  2019-05-22          May      Mar-May  \n",
              "1        80.05  2019-05-22          May      Mar-May  \n",
              "2       122.50  2019-05-22          May      Mar-May  \n",
              "3       107.00  2019-05-22          May      Mar-May  \n",
              "4        99.75  2019-05-22          May      Mar-May  "
            ],
            "text/html": [
              "\n",
              "  <div id=\"df-fe7166fe-906f-4dc7-bc47-ea486dedf0cc\">\n",
              "    <div class=\"colab-df-container\">\n",
              "      <div>\n",
              "<style scoped>\n",
              "    .dataframe tbody tr th:only-of-type {\n",
              "        vertical-align: middle;\n",
              "    }\n",
              "\n",
              "    .dataframe tbody tr th {\n",
              "        vertical-align: top;\n",
              "    }\n",
              "\n",
              "    .dataframe thead th {\n",
              "        text-align: right;\n",
              "    }\n",
              "</style>\n",
              "<table border=\"1\" class=\"dataframe\">\n",
              "  <thead>\n",
              "    <tr style=\"text-align: right;\">\n",
              "      <th></th>\n",
              "      <th>commodity_name</th>\n",
              "      <th>state</th>\n",
              "      <th>district</th>\n",
              "      <th>market</th>\n",
              "      <th>min_price</th>\n",
              "      <th>max_price</th>\n",
              "      <th>modal_price</th>\n",
              "      <th>date</th>\n",
              "      <th>month_column</th>\n",
              "      <th>season_names</th>\n",
              "    </tr>\n",
              "  </thead>\n",
              "  <tbody>\n",
              "    <tr>\n",
              "      <th>0</th>\n",
              "      <td>Ajwan</td>\n",
              "      <td>Gujarat</td>\n",
              "      <td>Amreli</td>\n",
              "      <td>Amreli</td>\n",
              "      <td>63.25</td>\n",
              "      <td>79.55</td>\n",
              "      <td>79.55</td>\n",
              "      <td>2019-05-22</td>\n",
              "      <td>May</td>\n",
              "      <td>Mar-May</td>\n",
              "    </tr>\n",
              "    <tr>\n",
              "      <th>1</th>\n",
              "      <td>Ajwan</td>\n",
              "      <td>Gujarat</td>\n",
              "      <td>Banaskanth</td>\n",
              "      <td>Dhanera</td>\n",
              "      <td>80.05</td>\n",
              "      <td>80.05</td>\n",
              "      <td>80.05</td>\n",
              "      <td>2019-05-22</td>\n",
              "      <td>May</td>\n",
              "      <td>Mar-May</td>\n",
              "    </tr>\n",
              "    <tr>\n",
              "      <th>2</th>\n",
              "      <td>Ajwan</td>\n",
              "      <td>Gujarat</td>\n",
              "      <td>Jamnagar</td>\n",
              "      <td>Jamnagar</td>\n",
              "      <td>90.00</td>\n",
              "      <td>155.00</td>\n",
              "      <td>122.50</td>\n",
              "      <td>2019-05-22</td>\n",
              "      <td>May</td>\n",
              "      <td>Mar-May</td>\n",
              "    </tr>\n",
              "    <tr>\n",
              "      <th>3</th>\n",
              "      <td>Ajwan</td>\n",
              "      <td>Gujarat</td>\n",
              "      <td>Mehsana</td>\n",
              "      <td>Kadi</td>\n",
              "      <td>94.50</td>\n",
              "      <td>112.50</td>\n",
              "      <td>107.00</td>\n",
              "      <td>2019-05-22</td>\n",
              "      <td>May</td>\n",
              "      <td>Mar-May</td>\n",
              "    </tr>\n",
              "    <tr>\n",
              "      <th>4</th>\n",
              "      <td>Ajwan</td>\n",
              "      <td>Gujarat</td>\n",
              "      <td>Mehsana</td>\n",
              "      <td>Unjha</td>\n",
              "      <td>21.25</td>\n",
              "      <td>148.50</td>\n",
              "      <td>99.75</td>\n",
              "      <td>2019-05-22</td>\n",
              "      <td>May</td>\n",
              "      <td>Mar-May</td>\n",
              "    </tr>\n",
              "  </tbody>\n",
              "</table>\n",
              "</div>\n",
              "      <button class=\"colab-df-convert\" onclick=\"convertToInteractive('df-fe7166fe-906f-4dc7-bc47-ea486dedf0cc')\"\n",
              "              title=\"Convert this dataframe to an interactive table.\"\n",
              "              style=\"display:none;\">\n",
              "        \n",
              "  <svg xmlns=\"http://www.w3.org/2000/svg\" height=\"24px\"viewBox=\"0 0 24 24\"\n",
              "       width=\"24px\">\n",
              "    <path d=\"M0 0h24v24H0V0z\" fill=\"none\"/>\n",
              "    <path d=\"M18.56 5.44l.94 2.06.94-2.06 2.06-.94-2.06-.94-.94-2.06-.94 2.06-2.06.94zm-11 1L8.5 8.5l.94-2.06 2.06-.94-2.06-.94L8.5 2.5l-.94 2.06-2.06.94zm10 10l.94 2.06.94-2.06 2.06-.94-2.06-.94-.94-2.06-.94 2.06-2.06.94z\"/><path d=\"M17.41 7.96l-1.37-1.37c-.4-.4-.92-.59-1.43-.59-.52 0-1.04.2-1.43.59L10.3 9.45l-7.72 7.72c-.78.78-.78 2.05 0 2.83L4 21.41c.39.39.9.59 1.41.59.51 0 1.02-.2 1.41-.59l7.78-7.78 2.81-2.81c.8-.78.8-2.07 0-2.86zM5.41 20L4 18.59l7.72-7.72 1.47 1.35L5.41 20z\"/>\n",
              "  </svg>\n",
              "      </button>\n",
              "      \n",
              "  <style>\n",
              "    .colab-df-container {\n",
              "      display:flex;\n",
              "      flex-wrap:wrap;\n",
              "      gap: 12px;\n",
              "    }\n",
              "\n",
              "    .colab-df-convert {\n",
              "      background-color: #E8F0FE;\n",
              "      border: none;\n",
              "      border-radius: 50%;\n",
              "      cursor: pointer;\n",
              "      display: none;\n",
              "      fill: #1967D2;\n",
              "      height: 32px;\n",
              "      padding: 0 0 0 0;\n",
              "      width: 32px;\n",
              "    }\n",
              "\n",
              "    .colab-df-convert:hover {\n",
              "      background-color: #E2EBFA;\n",
              "      box-shadow: 0px 1px 2px rgba(60, 64, 67, 0.3), 0px 1px 3px 1px rgba(60, 64, 67, 0.15);\n",
              "      fill: #174EA6;\n",
              "    }\n",
              "\n",
              "    [theme=dark] .colab-df-convert {\n",
              "      background-color: #3B4455;\n",
              "      fill: #D2E3FC;\n",
              "    }\n",
              "\n",
              "    [theme=dark] .colab-df-convert:hover {\n",
              "      background-color: #434B5C;\n",
              "      box-shadow: 0px 1px 3px 1px rgba(0, 0, 0, 0.15);\n",
              "      filter: drop-shadow(0px 1px 2px rgba(0, 0, 0, 0.3));\n",
              "      fill: #FFFFFF;\n",
              "    }\n",
              "  </style>\n",
              "\n",
              "      <script>\n",
              "        const buttonEl =\n",
              "          document.querySelector('#df-fe7166fe-906f-4dc7-bc47-ea486dedf0cc button.colab-df-convert');\n",
              "        buttonEl.style.display =\n",
              "          google.colab.kernel.accessAllowed ? 'block' : 'none';\n",
              "\n",
              "        async function convertToInteractive(key) {\n",
              "          const element = document.querySelector('#df-fe7166fe-906f-4dc7-bc47-ea486dedf0cc');\n",
              "          const dataTable =\n",
              "            await google.colab.kernel.invokeFunction('convertToInteractive',\n",
              "                                                     [key], {});\n",
              "          if (!dataTable) return;\n",
              "\n",
              "          const docLinkHtml = 'Like what you see? Visit the ' +\n",
              "            '<a target=\"_blank\" href=https://colab.research.google.com/notebooks/data_table.ipynb>data table notebook</a>'\n",
              "            + ' to learn more about interactive tables.';\n",
              "          element.innerHTML = '';\n",
              "          dataTable['output_type'] = 'display_data';\n",
              "          await google.colab.output.renderOutput(dataTable, element);\n",
              "          const docLink = document.createElement('div');\n",
              "          docLink.innerHTML = docLinkHtml;\n",
              "          element.appendChild(docLink);\n",
              "        }\n",
              "      </script>\n",
              "    </div>\n",
              "  </div>\n",
              "  "
            ]
          },
          "metadata": {},
          "execution_count": 47
        }
      ]
    },
    {
      "cell_type": "code",
      "source": [
        "df = pd.Timestamp(\"2019-04-12\")\n",
        "print(df.dayofweek)"
      ],
      "metadata": {
        "colab": {
          "base_uri": "https://localhost:8080/"
        },
        "id": "ILGCwDomyP4-",
        "outputId": "a40f40ce-44f8-4496-a2cb-86754fdba6e7"
      },
      "execution_count": null,
      "outputs": [
        {
          "output_type": "stream",
          "name": "stdout",
          "text": [
            "4\n"
          ]
        }
      ]
    },
    {
      "cell_type": "code",
      "source": [
        "day_of_week=[]"
      ],
      "metadata": {
        "id": "sN5ZYJl-yhhW"
      },
      "execution_count": null,
      "outputs": []
    },
    {
      "cell_type": "code",
      "source": [
        "for rr in data2[\"date\"]:\n",
        "  df=pd.Timestamp(rr)\n",
        "  day=df.dayofweek\n",
        "  day_of_week.append(day)"
      ],
      "metadata": {
        "id": "GLFq1onyykjW"
      },
      "execution_count": null,
      "outputs": []
    },
    {
      "cell_type": "code",
      "source": [
        "len(day_of_week)"
      ],
      "metadata": {
        "colab": {
          "base_uri": "https://localhost:8080/"
        },
        "id": "i3HPjgE_ytJ-",
        "outputId": "85bab842-89b3-45a9-dc4f-a8a3042e126d"
      },
      "execution_count": null,
      "outputs": [
        {
          "output_type": "execute_result",
          "data": {
            "text/plain": [
              "800000"
            ]
          },
          "metadata": {},
          "execution_count": 51
        }
      ]
    },
    {
      "cell_type": "code",
      "source": [
        "data2[\"day\"]=day_of_week"
      ],
      "metadata": {
        "id": "tdhsn0yeyxZ2"
      },
      "execution_count": null,
      "outputs": []
    },
    {
      "cell_type": "code",
      "source": [
        "data2=data2.drop('date',1)"
      ],
      "metadata": {
        "colab": {
          "base_uri": "https://localhost:8080/"
        },
        "id": "yjFRaemay2T3",
        "outputId": "6f665c59-e16d-42fc-976e-9427ba051aa7"
      },
      "execution_count": null,
      "outputs": [
        {
          "output_type": "stream",
          "name": "stderr",
          "text": [
            "<ipython-input-53-a12a3d5fe87f>:1: FutureWarning: In a future version of pandas all arguments of DataFrame.drop except for the argument 'labels' will be keyword-only\n",
            "  data2=data2.drop('date',1)\n"
          ]
        }
      ]
    },
    {
      "cell_type": "code",
      "source": [
        "data2.columns"
      ],
      "metadata": {
        "colab": {
          "base_uri": "https://localhost:8080/"
        },
        "id": "NLxgzPoDy7uk",
        "outputId": "a38d399f-7269-4deb-c973-7a2a14833c71"
      },
      "execution_count": null,
      "outputs": [
        {
          "output_type": "execute_result",
          "data": {
            "text/plain": [
              "Index(['commodity_name', 'state', 'district', 'market', 'min_price',\n",
              "       'max_price', 'modal_price', 'month_column', 'season_names', 'day'],\n",
              "      dtype='object')"
            ]
          },
          "metadata": {},
          "execution_count": 54
        }
      ]
    },
    {
      "cell_type": "code",
      "source": [
        "data2=data2.head(100000)"
      ],
      "metadata": {
        "id": "KLtTXvLfy-iO"
      },
      "execution_count": null,
      "outputs": []
    },
    {
      "cell_type": "code",
      "source": [
        "sns.boxplot(data2['modal_price'])"
      ],
      "metadata": {
        "colab": {
          "base_uri": "https://localhost:8080/",
          "height": 352
        },
        "id": "5BioqJF_zDtL",
        "outputId": "24527dd4-2e1f-463a-d2fc-b89e72c939a2"
      },
      "execution_count": null,
      "outputs": [
        {
          "output_type": "stream",
          "name": "stderr",
          "text": [
            "/usr/local/lib/python3.8/dist-packages/seaborn/_decorators.py:36: FutureWarning: Pass the following variable as a keyword arg: x. From version 0.12, the only valid positional argument will be `data`, and passing other arguments without an explicit keyword will result in an error or misinterpretation.\n",
            "  warnings.warn(\n"
          ]
        },
        {
          "output_type": "execute_result",
          "data": {
            "text/plain": [
              "<matplotlib.axes._subplots.AxesSubplot at 0x7f55dee03c70>"
            ]
          },
          "metadata": {},
          "execution_count": 56
        },
        {
          "output_type": "display_data",
          "data": {
            "text/plain": [
              "<Figure size 432x288 with 1 Axes>"
            ],
            "image/png": "[encoded data removed]"
          },
          "metadata": {
            "needs_background": "light"
          }
        }
      ]
    },
    {
      "cell_type": "code",
      "source": [
        "data2.shape"
      ],
      "metadata": {
        "colab": {
          "base_uri": "https://localhost:8080/"
        },
        "id": "q-J2-pEPzM59",
        "outputId": "562aa077-1299-44c4-84fb-8f9ce86b0a6b"
      },
      "execution_count": null,
      "outputs": [
        {
          "output_type": "execute_result",
          "data": {
            "text/plain": [
              "(100000, 10)"
            ]
          },
          "metadata": {},
          "execution_count": 57
        }
      ]
    },
    {
      "cell_type": "code",
      "source": [
        "q1 = np.percentile(data2['modal_price'],25,interpolation=\"midpoint\")\n",
        "q3 = np.percentile(data2['modal_price'],75,interpolation=\"midpoint\")\n",
        "iqr = q3-q1"
      ],
      "metadata": {
        "id": "QVG4O88RzUF1"
      },
      "execution_count": null,
      "outputs": []
    },
    {
      "cell_type": "code",
      "source": [
        "upp = np.where(data2['modal_price']>=(q3 + 1.5 * iqr))\n",
        "loww = np.where(data2['modal_price']<=(q1 - 1.5 * iqr))"
      ],
      "metadata": {
        "id": "BNZMV8qRzprH"
      },
      "execution_count": null,
      "outputs": []
    },
    {
      "cell_type": "code",
      "source": [
        "print(upp[0],loww[0])"
      ],
      "metadata": {
        "colab": {
          "base_uri": "https://localhost:8080/"
        },
        "id": "Lf_EynJa0IWP",
        "outputId": "f37bd87b-88ef-47a7-daa0-0f2ea4bdbcf6"
      },
      "execution_count": null,
      "outputs": [
        {
          "output_type": "stream",
          "name": "stdout",
          "text": [
            "[    0     1     2 ... 99986 99987 99999] []\n"
          ]
        }
      ]
    },
    {
      "cell_type": "code",
      "source": [
        "data2.drop(upp[0],inplace=True)\n",
        "data2.drop(loww[0],inplace=True)"
      ],
      "metadata": {
        "id": "Lx2GjZI60MdG"
      },
      "execution_count": null,
      "outputs": []
    },
    {
      "cell_type": "code",
      "source": [
        "print(data2.shape)"
      ],
      "metadata": {
        "colab": {
          "base_uri": "https://localhost:8080/"
        },
        "id": "ZptpujUK0Tos",
        "outputId": "5cb81935-9eb6-46a3-a600-7b9de21c7648"
      },
      "execution_count": null,
      "outputs": [
        {
          "output_type": "stream",
          "name": "stdout",
          "text": [
            "(94494, 10)\n"
          ]
        }
      ]
    },
    {
      "cell_type": "code",
      "source": [
        "df = data2.copy()"
      ],
      "metadata": {
        "id": "qPGH37Zz0YmW"
      },
      "execution_count": null,
      "outputs": []
    },
    {
      "cell_type": "code",
      "source": [
        "data2.columns"
      ],
      "metadata": {
        "colab": {
          "base_uri": "https://localhost:8080/"
        },
        "id": "Dh7Zm7va01IX",
        "outputId": "bd4c9415-d7ed-453e-8104-e8ed8dff7648"
      },
      "execution_count": null,
      "outputs": [
        {
          "output_type": "execute_result",
          "data": {
            "text/plain": [
              "Index(['commodity_name', 'state', 'district', 'market', 'min_price',\n",
              "       'max_price', 'modal_price', 'month_column', 'season_names', 'day'],\n",
              "      dtype='object')"
            ]
          },
          "metadata": {},
          "execution_count": 66
        }
      ]
    },
    {
      "cell_type": "code",
      "source": [
        "data2.info()"
      ],
      "metadata": {
        "colab": {
          "base_uri": "https://localhost:8080/"
        },
        "id": "3aDRDlHq029u",
        "outputId": "dfc7d912-69b5-4d9e-a7f6-d9f2545b93fa"
      },
      "execution_count": null,
      "outputs": [
        {
          "output_type": "stream",
          "name": "stdout",
          "text": [
            "<class 'pandas.core.frame.DataFrame'>\n",
            "Int64Index: 94494 entries, 6 to 99998\n",
            "Data columns (total 10 columns):\n",
            " #   Column          Non-Null Count  Dtype  \n",
            "---  ------          --------------  -----  \n",
            " 0   commodity_name  94494 non-null  object \n",
            " 1   state           94494 non-null  object \n",
            " 2   district        94494 non-null  object \n",
            " 3   market          94494 non-null  object \n",
            " 4   min_price       94494 non-null  float64\n",
            " 5   max_price       94494 non-null  float64\n",
            " 6   modal_price     94494 non-null  float64\n",
            " 7   month_column    94494 non-null  object \n",
            " 8   season_names    94494 non-null  object \n",
            " 9   day             94494 non-null  int64  \n",
            "dtypes: float64(3), int64(1), object(6)\n",
            "memory usage: 9.9+ MB\n"
          ]
        }
      ]
    },
    {
      "cell_type": "code",
      "source": [
        "dist=(data2['commodity_name'])\n",
        "distset=set(dist)\n",
        "dd=list(distset)\n",
        "dictofwords={dd[i]: i for i in range(0,len(dd))}\n",
        "print(dictofwords)\n",
        "data2['commodity_name']=data2['commodity_name'].map(dictofwords)"
      ],
      "metadata": {
        "colab": {
          "base_uri": "https://localhost:8080/"
        },
        "id": "belx7B-i1D93",
        "outputId": "a56701fb-3163-4833-c970-96438affab0b"
      },
      "execution_count": null,
      "outputs": [
        {
          "output_type": "stream",
          "name": "stdout",
          "text": [
            "{'Maize': 0, 'Round+gourd': 1, 'Tinda': 2, 'Masur+Dal': 3, 'Dry+Fodder': 4, 'Gur(Jaggery)': 5, 'Rice': 6, 'Sweet+Potato': 7, 'Thondekai': 8, 'Cocoa': 9, 'Mahua': 10, 'Honge+seed': 11, 'Jowar(Sorghum)': 12, 'Duck': 13, 'Bran': 14, 'Elephant+Yam+(Suran)': 15, 'Pumpkin': 16, 'Ground+Nut+Seed': 17, 'Chennangi+Dal': 18, 'Field+Pea': 19, 'Kulthi(Horse+Gram)': 20, 'Turmeric': 21, 'Tamarind+Fruit': 22, 'Ridgeguard(Tori)': 23, 'Hen': 24, 'Peas(Dry)': 25, 'Castor+Seed': 26, 'Carrot': 27, 'Papaya+(Raw)': 28, 'Tapioca': 29, 'Green+Fodder': 30, 'Chow+Chow': 31, 'Myrobolan(Harad)': 32, 'Pineapple': 33, 'Betal+Leaves': 34, 'Groundnut+(Split)': 35, 'Paddy(Dhan)(Common)': 36, 'Brinjal': 37, 'Lime': 38, 'Moath+Dal': 39, 'Jute': 40, 'Dry+Grapes': 41, 'Tender+Coconut': 42, 'Sunflower': 43, 'Bamboo': 44, 'Paddy(Dhan)(Basmati)': 45, 'Cabbage': 46, 'Karbuja(Musk+Melon)': 47, 'Groundnut+pods+(raw)': 48, 'Isabgul+(Psyllium)': 49, 'Toria': 50, 'Soji': 51, 'Ragi+(Finger+Millet)': 52, 'Coconut+Seed': 53, 'Soyabean': 54, 'Yam+(Ratalu)': 55, 'Galgal(Lemon)': 56, 'Tobacco': 57, 'Amaranthus': 58, 'Yam': 59, 'Lotus+Sticks': 60, 'Hippe+Seed': 61, 'Pomegranate': 62, 'Arhar+Dal(Tur+Dal)': 63, 'Seetapal': 64, 'Copra': 65, 'Cucumbar(Kheera)': 66, 'She+Goat': 67, 'Coffee': 68, 'Gram+Raw(Chholia)': 69, 'Corriander+seed': 70, 'Other+Pulses': 71, 'Banana': 72, 'Fish': 73, 'Mint(Pudina)': 74, 'Beans': 75, 'Bitter+gourd': 76, 'Grapes': 77, 'Firewood': 78, 'Spinach': 79, 'Ram': 80, 'Cherry': 81, 'Snakeguard': 82, 'Lak(Teora)': 83, 'Suva+(Dill+Seed)': 84, 'Water+Melon': 85, 'Season+Leaves': 86, 'Cluster+beans': 87, 'Amphophalus': 88, 'White+Peas': 89, 'Niger+Seed+(Ramtil)': 90, 'Rajgir': 91, 'Wheat': 92, 'Capsicum': 93, 'Avare+Dal': 94, 'Hybrid+Cumbu': 95, 'Millets': 96, 'Cauliflower': 97, 'Amla(Nelli+Kai)': 98, 'T.V.+Cumbu': 99, 'Coca': 100, 'Knool+Khol': 101, 'Lemon': 102, 'Guava': 103, 'Soanf': 104, 'Alasande+Gram': 105, 'Linseed': 106, 'Papaya': 107, 'Beaten+Rice': 108, 'Sheep': 109, 'Taramira': 110, 'Kodo+Millet(Varagu)': 111, 'Pear(Marasebu)': 112, 'Peach': 113, 'Potato': 114, 'Pigs': 115, 'Green+Peas': 116, 'Turnip': 117, 'Chili+Red': 118, 'Green+Chilli': 119, 'Methi(Leaves)': 120, 'Jamun(Narale+Hannu)': 121, 'Jack+Fruit': 122, 'Peas+cod': 123, 'Drumstick': 124, 'Orange': 125, 'Sugarcane': 126, 'Groundnut': 127, 'Bottle+gourd': 128, 'Dry+Chillies': 129, 'Sugar': 130, 'Wheat+Atta': 131, 'Thogrikai': 132, 'Guar': 133, 'Ginger(Dry)': 134, 'Raddish': 135, 'Broken+Rice': 136, 'Suvarna+Gadde': 137, 'Mango': 138, 'Litchi': 139, 'Wood': 140, 'Leafy+Vegetable': 141, 'Mango+(Raw-Ripe)': 142, 'Cotton': 143, 'Cashewnuts': 144, 'Turmeric+(raw)': 145, 'Goat': 146, 'Gingelly+Oil': 147, 'Ginger(Green)': 148, 'Colacasia': 149, 'Kartali+(Kantola)': 150, 'Cowpea(Veg)': 151, 'Onion': 152, 'Mustard+Oil': 153, 'Mousambi(Sweet+Lime)': 154, 'Garlic': 155, 'Sponge+gourd': 156, 'Rubber': 157, 'Dhaincha': 158, 'Barley+(Jau)': 159, 'Duster+Beans': 160, 'Surat+Beans+(Papadi)': 161, 'Coriander(Leaves)': 162, 'Same/Savi': 163, 'Ashgourd': 164, 'Green+Avare+(W)': 165, 'Methi+Seeds': 166, 'Apple': 167, 'Beetroot': 168, 'Egg': 169, 'White+Pumpkin': 170, 'Safflower': 171, 'Cock': 172, 'Banana+-+Green': 173, 'Cummin+Seed(Jeera)': 174, 'Long+Melon(Kakri)': 175, 'Alsandikai': 176, 'Antawala': 177, 'Peas+Wet': 178, 'Chilly+Capsicum': 179, 'Plum': 180, 'Mustard': 181, 'Tamarind+Seed': 182, 'Chikoos(Sapota)': 183, 'Sweet+Pumpkin': 184, 'Chapparad+Avare': 185, 'Ajwan': 186, 'Coconut': 187, 'Indian+Beans+(Seam)': 188, 'Onion+Green': 189, 'Tomato': 190, 'Neem+Seed': 191, 'Balekai': 192, 'Maida+Atta': 193}\n"
          ]
        }
      ]
    },
    {
      "cell_type": "code",
      "source": [
        "dist=(data2['state'])\n",
        "distset=set(dist)\n",
        "dd=list(distset)\n",
        "dictofwords={dd[i]: i for i in range(0,len(dd))}\n",
        "print(dictofwords)\n",
        "data2['state']=data2['state'].map(dictofwords)"
      ],
      "metadata": {
        "colab": {
          "base_uri": "https://localhost:8080/"
        },
        "id": "VjZrAPqc1N3s",
        "outputId": "ec1b3f99-1ee5-4430-a304-381bff588aaf"
      },
      "execution_count": null,
      "outputs": [
        {
          "output_type": "stream",
          "name": "stdout",
          "text": [
            "{'Assam': 0, 'Punjab': 1, 'Chattisgarh': 2, 'Jharkhand': 3, 'Odisha': 4, 'Kerala': 5, 'Andaman and Nicobar': 6, 'Rajasthan': 7, 'Mizoram': 8, 'Uttrakhand': 9, 'Tripura': 10, 'Gujarat': 11, 'Maharashtra': 12, 'Meghalaya': 13, 'West Bengal': 14, 'Karnataka': 15, 'Telangana': 16, 'Manipur': 17, 'Nagaland': 18, 'NCT of Delhi': 19, 'Andhra Pradesh': 20, 'Uttar Pradesh': 21, 'Pondicherry': 22, 'Himachal Pradesh': 23, 'Tamil Nadu': 24, 'Jammu and Kashmir': 25, 'Madhya Pradesh': 26, 'Haryana': 27}\n"
          ]
        }
      ]
    },
    {
      "cell_type": "code",
      "source": [
        "dist=(data2['district'])\n",
        "distset=set(dist)\n",
        "dd=list(distset)\n",
        "dictofwords={dd[i]: i for i in range(0,len(dd))}\n",
        "print(dictofwords)\n",
        "data2['district']=data2['district'].map(dictofwords)"
      ],
      "metadata": {
        "colab": {
          "base_uri": "https://localhost:8080/"
        },
        "id": "Yc_qzbMK1SaQ",
        "outputId": "6563d859-25f9-496a-bdaa-56230d0f12a2"
      },
      "execution_count": null,
      "outputs": [
        {
          "output_type": "stream",
          "name": "stdout",
          "text": [
            "{'Dhalai': 0, 'Goalpara': 1, 'Mysore': 2, 'Puruliya': 3, 'Ballia': 4, 'East Jaintia Hills': 5, 'Jhansi': 6, 'Bhind': 7, 'Narayanpur': 8, 'Sirmore': 9, 'Gadchiroli': 10, 'Dimapur': 11, 'Madurai': 12, 'Chhatarpur': 13, 'Alirajpur': 14, 'Sehore': 15, 'Fatehabad': 16, 'Nawanshahr': 17, 'Khammam': 18, 'Churu': 19, 'Davangere': 20, 'Kanker': 21, 'Ganganagar': 22, 'Kullu': 23, 'Sounth 24 Parganas': 24, 'Murshidabad': 25, 'Porbandar': 26, 'Bijapur': 27, 'Nowarangpur': 28, 'Hoshiarpur': 29, 'Auraiya': 30, 'Kancheepuram': 31, 'Bahraich': 32, 'Peren': 33, 'Kabirdham': 34, 'Akola': 35, 'Mungeli': 36, 'Badaun': 37, 'Jalaun (Orai)': 38, 'Durg': 39, 'Mainpuri': 40, 'Chitrakut': 41, 'Barabanki': 42, 'Nuapada': 43, 'Sheopur': 44, 'Aizawl': 45, 'North 24 Parganas': 46, 'Balod': 47, 'Birbhum': 48, 'Muktsar': 49, 'Badwani': 50, 'Koderma': 51, 'Pathanamthitta': 52, 'Mandi': 53, 'Jind': 54, 'Nandurbar': 55, 'Mahbubnagar': 56, 'Pune': 57, 'Swai Madhopur': 58, 'Adilabad': 59, 'UdhamSinghNagar': 60, 'Dahod': 61, 'Garhwa': 62, 'Surat': 63, 'Burhanpur': 64, 'Osmanabad': 65, 'Panchkula': 66, 'Lakhimpur': 67, 'Guna': 68, 'Bhandara': 69, 'Mahendragarh-Narnaul': 70, 'West District': 71, 'Hissar': 72, 'Panna': 73, 'Panipat': 74, 'Surendranagar': 75, 'Kendrapara': 76, 'Rajnandgaon': 77, 'Nalbari': 78, 'Sultanpur': 79, 'Mumbai': 80, 'Korba': 81, 'Botad': 82, 'Ratnagiri': 83, 'Kasargod': 84, 'Raigad': 85, 'Gondiya': 86, 'Damoh': 87, 'Delhi': 88, 'Banaskanth': 89, 'Wayanad': 90, 'Rajgarh': 91, 'Rayagada': 92, 'Khowai': 93, 'Burdwan': 94, 'Shimla': 95, 'Koppal': 96, 'Jabalpur': 97, 'Lucknow': 98, 'Cuddapah': 99, 'Cuttack': 100, 'Aurangabad': 101, 'Fazilka': 102, 'Dhar': 103, 'Vadodara(Baroda)': 104, 'Jaunpur': 105, 'Valsad': 106, 'Dhule': 107, 'Kaithal': 108, 'Janjgir': 109, 'Kondagaon': 110, 'Banda': 111, 'Bhiwani': 112, 'Neemuch': 113, 'Shajapur': 114, 'Nashik': 115, 'Hamirpur': 116, 'Gajapati': 117, 'Dhenkanal': 118, 'Jajpur': 119, 'Yavatmal': 120, 'Bharatpur': 121, 'Pratapgarh': 122, 'Thiruvannamalai': 123, 'Gorakhpur': 124, 'Kota': 125, 'Jashpur': 126, 'Tumkur': 127, 'Mandla': 128, 'Bikaner': 129, 'Ganjam': 130, 'Parbhani': 131, 'Kamrup': 132, 'Ludhiana': 133, 'Dharmapuri': 134, 'Pondicherry': 135, 'Dewas': 136, 'Bhavnagar': 137, 'Kaushambi': 138, 'Bishnupur': 139, 'Rohtak': 140, 'Seoni': 141, 'Junagarh': 142, 'Muzaffarnagar': 143, 'Mewat': 144, 'Nadia': 145, 'Maharajganj': 146, 'Balaghat': 147, 'Srinagar': 148, 'Tarntaran': 149, 'Hyderabad': 150, 'Patiala': 151, 'Belgaum': 152, 'Sonipat': 153, 'Puri': 154, 'Namakkal': 155, 'Gandhinagar': 156, 'Cachar': 157, 'Jaipur': 158, 'Kannur': 159, 'Jyotiba Phule Nagar': 160, 'Raebarelli': 161, 'Vashim': 162, 'Hathras': 163, 'Jammu': 164, 'Nalgonda': 165, 'Hingoli': 166, 'Dehradoon': 167, 'Mandsaur': 168, 'Hardoi': 169, 'Amreli': 170, 'Alappuzha': 171, 'Warangal': 172, 'Howrah': 173, 'Ajmer': 174, 'Morena': 175, 'Mahoba': 176, 'Narmada': 177, 'Anand': 178, 'Satna': 179, 'Jhajar': 180, 'Gautam Budh Nagar': 181, 'Navsari': 182, 'Karimnagar': 183, 'Balasore': 184, 'Dindori': 185, 'Allahabad': 186, 'Aligarh': 187, 'Nagaon': 188, 'Nicobar': 189, 'Etah': 190, 'Jalpaiguri': 191, 'Sagar': 192, 'Coochbehar': 193, 'Bareilly': 194, 'Bargarh': 195, 'Malkangiri': 196, 'Hailakandi': 197, 'Dausa': 198, 'Sirsa': 199, 'Bilaspur': 200, 'Jalore': 201, 'Nanital': 202, 'Firozabad': 203, 'Shahjahanpur': 204, 'Ambala': 205, 'Chandel': 206, 'Sambalpur': 207, 'Virudhunagar': 208, 'Sundergarh': 209, 'Bundi': 210, 'Sepahijala': 211, 'Meerut': 212, 'East Khasi Hills': 213, 'Dhubri': 214, 'Thane': 215, 'Kheda': 216, 'Agra': 217, 'Gulbarga': 218, 'Rajasamand': 219, 'Karwar(Uttar Kannad)': 220, 'Boudh': 221, 'Bharuch': 222, 'Guntur': 223, 'Baramulla': 224, 'Khurda': 225, 'Ujjain': 226, 'Fatehgarh': 227, 'Tikamgarh': 228, 'Mirzapur': 229, 'Champawat': 230, 'Mokokchung': 231, 'Chandrapur': 232, 'Chamba': 233, 'Sangrur': 234, 'Sabarkantha': 235, 'Nayagarh': 236, 'Visakhapatnam': 237, 'Palakad': 238, 'Dindigul': 239, 'Rewa': 240, 'Azamgarh': 241, 'Hanumangarh': 242, 'Surajpur': 243, 'Rampur': 244, 'Bhilwara': 245, 'Giridih': 246, 'Sitapur': 247, 'Sonepur': 248, 'Sant Kabir Nagar': 249, 'Ropar (Rupnagar)': 250, 'Kolar': 251, 'Udaipur': 252, 'Mathura': 253, 'Koria': 254, 'Kachchh': 255, 'Vidisha': 256, 'Pillibhit': 257, 'kapurthala': 258, 'Gwalior': 259, 'Panchmahals': 260, 'Gurgaon': 261, 'Villupuram': 262, 'Pulwama': 263, 'Nagaur': 264, 'Khiri (Lakhimpur)': 265, 'Ghazipur': 266, 'Haveri': 267, 'Imphal West': 268, 'Deoria': 269, 'Harda': 270, 'Shravasti': 271, 'Kalahandi': 272, 'Jhabua': 273, 'Uttar Dinajpur': 274, 'Shimoga': 275, 'Faridabad': 276, 'Nongpoh (R-Bhoi)': 277, 'Malappuram': 278, 'Medinipur(W)': 279, 'Latur': 280, 'Thiruvananthapuram': 281, 'Jalgaon': 282, 'Coimbatore': 283, 'Thoubal': 284, 'Anupur': 285, 'East Godavari': 286, 'Betul': 287, 'Etawah': 288, 'Bangalore': 289, 'Narsinghpur': 290, 'Gurdaspur': 291, 'Chandauli': 292, 'Satara': 293, 'Koraput': 294, 'Solan': 295, 'Idukki': 296, 'Sholapur': 297, 'Padrauna(Kusinagar)': 298, 'Basti': 299, 'Kurukshetra': 300, 'Medinipur(E)': 301, 'Baghpat': 302, 'Rajkot': 303, 'Shivpuri': 304, 'Unnao': 305, 'Mandya': 306, 'Hoshangabad': 307, 'Gomati': 308, 'Mau(Maunathbhanjan)': 309, 'Mahasamund': 310, 'Jhalawar': 311, 'Dakshin Dinajpur': 312, 'Madikeri(Kodagu)': 313, 'Pali': 314, 'Ramanathapuram': 315, 'Barmer': 316, 'Kollam': 317, 'Indore': 318, 'Ahmedabad': 319, 'Kozhikode(Calicut)': 320, 'Darjeeling': 321, 'Chikmagalur': 322, 'Fatehpur': 323, 'West Jaintia Hills': 324, 'Raisen': 325, 'Raichur': 326, 'Faizabad': 327, 'Beed': 328, 'Lalitpur': 329, 'Khargone': 330, 'Siddharth Nagar': 331, 'Karauli': 332, 'Sikar': 333, 'Patan': 334, 'Faridkot': 335, 'Gariyaband': 336, 'Angul': 337, 'Jagatsinghpur': 338, 'South District': 339, 'Kathua': 340, 'Kolkata': 341, 'Ambedkarnagar': 342, 'Barpeta': 343, 'Sangli': 344, 'Chittorgarh': 345, 'Medak': 346, 'Yamuna Nagar': 347, 'Gadag': 348, 'Varanasi': 349, 'Bagalkot': 350, 'West Godavari': 351, 'Sonitpur': 352, 'Chittor': 353, 'Gonda': 354, 'Ferozpur': 355, 'Chitradurga': 356, 'Bulandshahar': 357, 'Kanpur': 358, 'Bijnor': 359, 'Jalana': 360, 'Amritsar': 361, 'Karaikal': 362, 'Surguja': 363, 'Dantewada': 364, 'Dharwad': 365, 'Longleng': 366, 'Sukma': 367, 'Kannuj': 368, 'Kurnool': 369, 'Jorhat': 370, 'North Tripura': 371, 'Kohima': 372, 'Udupi': 373, 'Mohali': 374, 'Mansa': 375, 'Kolhapur': 376, 'Bolangir': 377, 'Saharanpur': 378, 'Haridwar': 379, 'Mehsana': 380, 'Balodabazar': 381, 'Imphal East': 382, 'Bidar': 383, 'Hassan': 384, 'Chhindwara': 385, 'Baran': 386, 'Keonjhar': 387, 'Jamnagar': 388, 'West Garo Hills': 389, 'Khandwa': 390, 'Cuddalore': 391, 'Thanjavur': 392, 'Nagpur': 393, 'Ghaziabad': 394, 'Ernakulam': 395, 'Ranga Reddy': 396, 'Ariyalur': 397, 'Vellore': 398, 'Unokoti': 399, 'Erode': 400, 'Nanded': 401, 'Singroli': 402, 'Amarawati': 403, 'Buldhana': 404, 'Udhampur': 405, 'Una': 406, 'Kandhamal': 407, 'Bastar': 408, 'Salem': 409, 'Raigarh': 410, 'Kottayam': 411, 'Bhadrak': 412, 'Sivaganga': 413, 'Moga': 414, 'Mayurbhanja': 415, 'Ratlam': 416, 'Karnal': 417, 'Ahmednagar': 418, 'Morbi': 419, 'Wokha': 420, 'Farukhabad': 421, 'Hooghly': 422, 'Chamrajnagar': 423, 'Balrampur': 424, 'Kangra': 425, 'Garhwal (Pauri)': 426, 'Nizamabad': 427, 'Ashoknagar': 428, 'Karimganj': 429, 'Anantnag': 430, 'Jalandhar': 431, 'Malda': 432, 'Wardha': 433, 'Sonbhadra': 434, 'Jharsuguda': 435, 'Thirssur': 436, 'Alwar': 437, 'Bhatinda': 438, 'Barnala': 439, 'Muradabad': 440, 'Bellary': 441, 'Raipur': 442, 'Bankura': 443, 'Dhamtari': 444, 'Tonk': 445}\n"
          ]
        }
      ]
    },
    {
      "cell_type": "code",
      "source": [
        "dist=(data2['market'])\n",
        "distset=set(dist)\n",
        "dd=list(distset)\n",
        "dictofwords={dd[i]: i for i in range(0,len(dd))}\n",
        "print(dictofwords)\n",
        "data2['market']=data2['market'].map(dictofwords)"
      ],
      "metadata": {
        "colab": {
          "base_uri": "https://localhost:8080/"
        },
        "id": "nMqFfogZ1ZHJ",
        "outputId": "abc954f7-6b55-4a90-884e-0b39608eeb78"
      },
      "execution_count": null,
      "outputs": [
        {
          "output_type": "stream",
          "name": "stdout",
          "text": [
            "{'Khanapur': 0, 'Kasrawad': 1, 'Goalpara': 2, 'Vadodara(Navapura)': 3, 'Mandvi': 4, 'Shivpuri(F&V)': 5, 'Bhiloda': 6, 'Dharampuri': 7, 'Chhindwara(F&V)': 8, 'Chatta Krushak Bazar': 9, 'Dimapur': 10, 'Harike': 11, 'Wadakkanchery': 12, 'Bassi Pathana': 13, 'S.Mandvi': 14, 'Makhu': 15, 'Fatehabad': 16, 'Malerkotla': 17, 'Palthan': 18, 'Khammam': 19, 'Chhabra': 20, 'Quilandy': 21, 'Barasat': 22, 'Mandsaur(F&V)': 23, 'Nanjangud': 24, 'Savanur': 25, 'Dinhata': 26, 'Palakode': 27, 'Lalru': 28, 'Badwaha': 29, 'Silvani': 30, 'Ibrahimpatnam': 31, 'Pataudi': 32, 'Kapasan': 33, 'Porbandar': 34, 'Bijapur': 35, 'Ghiraur': 36, 'Khariar Road': 37, 'Barwala': 38, 'Vilaspur': 39, 'Chinnasalem': 40, 'Baradwar': 41, 'Gogamba': 42, 'Bahraich': 43, 'Ratia': 44, 'Kothagudem': 45, 'Kunnathur': 46, 'Khanpur': 47, 'Mukerian(Talwara)': 48, 'Panisagar': 49, 'Akola': 50, 'Barhaj': 51, 'Khatauli': 52, 'Goraya': 53, 'Kallakurichi': 54, 'Santir Bazar': 55, 'Bharthna': 56, 'Barabanki': 57, 'Asandh': 58, 'Kullu(Chauri Bihal)': 59, 'Sadulpur': 60, 'Bhawanigarh': 61, 'Nalkehda': 62, 'Turvekere': 63, 'Saunsar': 64, 'Jaitsar': 65, 'Thamarassery': 66, 'Bhulath (Nadala)': 67, 'Badwani': 68, 'Chura': 69, 'Koderma': 70, 'Sainthia': 71, 'Bhokar': 72, 'Kaliaganj': 73, 'Barshi': 74, 'Agar': 75, 'Ratnagiri (Nachane)': 76, 'Ausa': 77, 'Thasara(Dokar)': 78, 'Siwan': 79, 'Savarkundla': 80, 'Bishnupur(Bankura)': 81, 'Banur': 82, 'Newasa(Ghodegaon)': 83, 'Hasanpur': 84, 'Tarapur': 85, 'Kundapura': 86, 'Pudur': 87, 'Kamlaganj': 88, 'Burhanpur': 89, 'Lakhimpur': 90, 'Nimapara': 91, 'Lasalgaon(Niphad)': 92, 'Bathinda': 93, 'Giddarbaha': 94, 'Petlawad': 95, 'Katol': 96, 'Panipat': 97, 'Patharia': 98, 'Charama': 99, 'Kattakada': 100, 'Sadhaura': 101, 'Kendrapara': 102, 'Kota (FV)': 103, 'Kalyan': 104, 'Pamohi(Garchuk)': 105, 'Nadiyad(Piplag)': 106, 'Nalbari': 107, 'Thattanchavady': 108, 'Rahuri(Vambori)': 109, 'Mathabhanga': 110, 'Kekri': 111, 'Kasargod': 112, 'Kulgam': 113, 'Katra': 114, 'Kama': 115, 'Khajuwala': 116, 'Patran': 117, 'Badrisadri': 118, 'Tral': 119, 'Sarayapali': 120, 'Sarangpur': 121, 'Shimla': 122, 'Koppal': 123, 'Ahmedgarh': 124, 'Lucknow': 125, 'Jalpaiguri Sadar': 126, 'Gharaunda': 127, 'Cherthala': 128, 'Umarga': 129, 'Maduranthagam': 130, 'Dhar': 131, 'Mandi(Takoli)': 132, 'Mukkom': 133, 'Valsad': 134, 'Dasuya': 135, 'Susner': 136, 'Ambala Cantt.': 137, 'Nanakmatta': 138, 'Bandrol': 139, 'Attabira': 140, 'Narwal Jammu (F&V)': 141, 'Piriya Pattana': 142, 'Panposh': 143, 'Mahuva(Station Road)': 144, 'Mangal Wedha': 145, 'Pallipattu': 146, 'Rudauli': 147, 'Zira': 148, 'Kanjirappally': 149, 'Teliamura': 150, 'Jayas': 151, 'Rona': 152, 'Dhanura': 153, 'Maksi': 154, 'Safdarganj': 155, 'Kullu(Patli Kuhal)': 156, 'Avalpoonthurai': 157, 'Santhesargur': 158, 'Rapar': 159, 'Sohela': 160, 'Barpathari': 161, 'Maharajganj': 162, 'Godhra(Kakanpur)': 163, 'Malpura': 164, 'Balaghat': 165, 'Azadpur': 166, 'Tanakpur': 167, 'Kadaura': 168, 'Dataganj': 169, 'Parlakhemundi': 170, 'Yellareddy': 171, 'Chickkaballapura': 172, 'Sarsiwan': 173, 'Shrigonda(Gogargaon)': 174, 'Natham': 175, 'Vaijpur': 176, 'Keshoraipatan': 177, 'Halvad': 178, 'Dehgam': 179, 'Hosanagar': 180, 'Sujangarh(Churu)': 181, 'Jalukie': 182, 'Hingoli': 183, 'Dhanotu (Mandi)': 184, 'Umreth': 185, 'Washim': 186, 'Suvasra': 187, 'Jogipet': 188, 'Samsi': 189, 'Basana': 190, 'Habra': 191, 'Sandi': 192, 'Thalayolaparambu': 193, 'Risod': 194, 'Kannauj': 195, 'Mysore (Bandipalya)': 196, 'Rudrapur': 197, 'Satna': 198, 'Udaipura': 199, 'Thasara': 200, 'Gollapally': 201, 'Medchal': 202, 'Adoni': 203, 'Banur (Kheragaju)': 204, 'Kharar': 205, 'Bijolia': 206, 'Garh Shankar': 207, 'Aklera': 208, 'Aligarh': 209, 'Kherli': 210, 'Bargarh': 211, 'Tikabali': 212, 'Chogawan': 213, 'Hailakandi': 214, 'Makthal': 215, 'Shamli': 216, 'Bagalakot': 217, 'Meham': 218, 'Ichhawar': 219, 'Vijaypur': 220, 'Gundlupet': 221, 'Sambhal': 222, 'Raath': 223, 'Amroha': 224, 'Bonai': 225, 'Jalandhar City': 226, 'Chalakudy': 227, 'Muthur': 228, 'Khurai': 229, 'Kangra(Baijnath)': 230, 'Shamshabad': 231, 'Sampla': 232, 'Phillaur(Apra Mandi)': 233, 'Amoda': 234, 'Atarra': 235, 'Sorabha': 236, 'Ajnala (Sudhar)': 237, 'Bhanjanagar': 238, 'Pulpally': 239, 'Kashipur': 240, 'Vayalapadu': 241, 'Moynaguri': 242, 'Palayam': 243, 'Anoop Shahar': 244, 'Madathukulam': 245, 'Mirzapur': 246, 'Kumbakonam': 247, 'Bhesan': 248, 'Nagar': 249, 'Medinipur(West)': 250, 'Sengoan': 251, 'Chamba': 252, 'Unava': 253, 'Badnagar': 254, 'Armori': 255, 'Gauripur': 256, 'Rewa': 257, 'Mandi(Mandi)': 258, 'Rampur': 259, 'Mullanpur': 260, 'Kianthukadavu': 261, 'Giridih': 262, 'Kairana': 263, 'Pune(Pimpri)': 264, 'Pen': 265, 'Jamanian': 266, 'Shillong': 267, 'Bhiwapur': 268, 'Udaipur': 269, 'Pampady': 270, 'Bandikui(Geejgarh)': 271, 'Desur': 272, 'Pandhakawada': 273, 'Anaimalai': 274, 'Lalbagh': 275, 'Hinganghat': 276, 'Damoh(F&V)': 277, 'Gurgaon': 278, 'Siyana': 279, 'Bhavarpur': 280, 'Kilpennathur': 281, 'Kottur': 282, 'Thirurrangadi': 283, 'Haveri': 284, 'Harda': 285, 'Kasinagar': 286, 'Chimur': 287, 'Vijapur(Ladol)': 288, 'Sangarapuram': 289, 'Bankura Sadar': 290, 'Bolpur': 291, 'Kinwat': 292, 'Sawai Madhopur': 293, 'Lalgarh Jatan': 294, 'Kunnathukkal': 295, 'Sangola': 296, 'Ch. Dadri': 297, 'Faridabad': 298, 'Ranaghat': 299, 'Khekda': 300, 'Mau': 301, 'Bodeli': 302, 'Nakodar': 303, 'Jangipur': 304, 'Muradnagar': 305, 'Pandariya': 306, 'Jalgaon': 307, 'Jaithari': 308, 'Narsampet': 309, 'Khair': 310, 'Gangavalli': 311, 'Gurdaspur': 312, 'Damnagar': 313, 'Ganaur': 314, 'Solan': 315, 'Chopada': 316, 'Kalimpong': 317, 'Devarkonda(Dindi)': 318, 'Baxirhat': 319, 'Thiruppananthal': 320, 'Ambejaogai': 321, 'Jabalpur(F&V)': 322, 'Holenarsipura': 323, 'Gopalpatti': 324, 'Kahnuwan': 325, 'Thrippunithura': 326, 'Karjat': 327, 'Nasik': 328, 'Baruwasagar': 329, 'Sriganganagar': 330, 'Sohna': 331, 'Nasvadi(Thalkala)': 332, 'Milak': 333, 'Sathur': 334, 'Senjeri': 335, 'Baripada': 336, 'Ashti(Karanja)': 337, 'Malegaon': 338, 'Bangarmau': 339, 'Loharda': 340, 'Darjeeling': 341, 'Dakala': 342, 'Bilsi': 343, 'Fatehpur': 344, 'Bhuntar': 345, 'Thalavadi': 346, 'Bahadajholla': 347, 'Guna(F&V)': 348, 'Faizabad': 349, 'Dhar(F&V)': 350, 'Durgapur': 351, 'Khairlangi': 352, 'Patan': 353, 'Hargaon (Laharpur)': 354, 'Gevrai': 355, 'Garbeta(Medinipur)': 356, 'Bhatgaon': 357, 'Lamlong Bazaar': 358, 'Shahpur': 359, 'Pathari': 360, 'Bhucho': 361, 'Badnawar(F&V)': 362, 'Katangi': 363, 'Kathua': 364, 'Garjee': 365, 'Chittorgarh': 366, 'Lohandiguda': 367, 'Sheopurkalan': 368, 'Nabha': 369, 'Hoovinahadagali': 370, 'Thiruppur': 371, 'Chail Chowk': 372, 'Modasa': 373, 'Kamalghat': 374, 'Kaliyanchanda': 375, 'Kohima': 376, 'Palus': 377, 'Hindol': 378, 'Kolhapur': 379, 'Saharanpur': 380, 'Boraee': 381, 'Pathardi': 382, 'Bidar': 383, 'Punhana': 384, 'Murtizapur': 385, 'Syopurkalan(F&V)': 386, 'Harappana Halli': 387, 'Madhogarh': 388, 'Chamkaur Sahib': 389, 'Polavaram': 390, 'Mohindergarh': 391, 'Udgir': 392, 'Neeleswaram': 393, 'Dhuri': 394, 'Vijapur(veg)': 395, 'Valod(Buhari)': 396, 'Jasra': 397, 'Aroor': 398, 'Wokha Town': 399, 'Saidpur': 400, 'Padra': 401, 'Suthalia': 402, 'Balasinor': 403, 'Una': 404, 'Manjeri': 405, 'Itawa': 406, 'Rampurmaniharan': 407, 'Hapur': 408, 'Sillod': 409, 'Pongalur': 410, 'Dewas(F&V)': 411, 'Bhogpur': 412, 'Mantha': 413, 'Khed(Chakan)': 414, 'Mangrulpeer': 415, 'Balrampur': 416, 'Vankaner': 417, 'Ramnagar': 418, 'Naila': 419, 'Manmad': 420, 'Miryalaguda': 421, 'Bishalgarh': 422, 'Tusura': 423, 'Lakhanpuri': 424, 'Korar': 425, 'Kheragarh': 426, 'Kalpetta': 427, 'Firozepur City': 428, 'Shahada': 429, 'Hinjilicut': 430, 'Bhatapara': 431, 'Bagpat': 432, 'Morva Hafad': 433, 'Barnala': 434, 'Sasthamkotta': 435, 'Morshi': 436, 'Gandai': 437, 'Bagasara': 438, 'Madhavapuram': 439, 'Bhuj': 440, 'Chitwadagaon': 441, 'Neredcherla': 442, 'Irikkur': 443, 'Siliguri': 444, 'Vijapur(Gojjariya)': 445, 'Sargipali': 446, 'Jhansi': 447, 'Doranpal': 448, 'Ballabhgarh': 449, 'Kalna': 450, 'Dhamngaon-Railway': 451, 'Solan(Nalagarh)': 452, 'Dhilwan': 453, 'Budalada': 454, 'A lot': 455, 'Fatehnagar': 456, 'Dungurapalli': 457, 'Gulavati': 458, 'Rajkot(Ghee Peeth)': 459, 'Sikandraraau': 460, 'Chhatarpur': 461, 'Pathalgaon': 462, 'Tirumalagiri': 463, 'Savner': 464, 'Nasvadi': 465, 'Balurghat': 466, 'Alibagh': 467, 'Amgaon': 468, 'Thara(Shihori)': 469, 'Risia': 470, 'Sonkatch': 471, 'Adampur': 472, 'Mundaragi': 473, 'Anakapally': 474, 'Rampurhat': 475, 'Islampur': 476, 'Jaijaipur': 477, 'Kullu': 478, 'Champaknagar': 479, 'Keezhampara': 480, 'K.Mandvi': 481, 'Lalsot': 482, 'Hoshiarpur': 483, 'Badod': 484, 'Baruipur(Canning)': 485, 'Sirhind': 486, 'Shadora': 487, 'Bilga (Talwan )': 488, 'Begamganj': 489, 'Navapur': 490, 'Pallahara': 491, 'Raiganj': 492, 'Mainpuri': 493, 'Kuthuparambu': 494, 'Channapatana': 495, 'Khandwa(F&V)': 496, 'Jhijhank': 497, 'Lohian Khas': 498, 'Deesa(Bhildi)': 499, 'Balod': 500, 'Tarana': 501, 'Birbhum': 502, 'Chhachrauli': 503, 'Panvel': 504, 'Nihal Singh Wala': 505, 'Telhara': 506, 'Neyyatinkara': 507, 'Choubepur': 508, 'Singampuneri': 509, 'Gurusarai': 510, 'Dahod': 511, 'Kottakkal': 512, 'Vyara(Paati)': 513, 'Tanda(Rampur)': 514, 'Pipli': 515, 'Vedachandur': 516, 'Devbhog': 517, 'Kangra(Jassour)': 518, 'Guna': 519, 'Bhandara': 520, 'Sangat': 521, 'Punchaipuliyampatti': 522, 'Talwandi Bhai': 523, 'Mangrol': 524, 'Sumerpur': 525, 'Jaspur': 526, 'Puranpur': 527, 'Sultanpur': 528, 'Kodad': 529, 'Khilchipur': 530, 'Asansol': 531, 'Tarori': 532, 'Dahod(Veg. Market)': 533, 'Sanawad': 534, 'Botad': 535, 'Kesarisinghpur': 536, 'Gondal': 537, 'Bodeli(Kalediya)': 538, 'Sangareddy': 539, 'Karimpur': 540, 'Siroli': 541, 'Tulsipur': 542, 'Chotila': 543, 'Gudimalkapur': 544, 'Burdwan': 545, 'Thanesar': 546, 'Jabalpur': 547, 'Nowpora': 548, 'Baruch(Vagara)': 549, 'Javer': 550, 'Cuddapah': 551, 'Himatnagar': 552, 'Jalalabad': 553, 'Meghraj': 554, 'Akaltara': 555, 'Lasur Station': 556, 'Jaunpur': 557, 'Bilga': 558, 'Maudaha': 559, 'Panchpedwa': 560, 'Huzzurabad': 561, 'Kudchi': 562, 'Rajura': 563, 'Sattupalli': 564, 'Banda': 565, 'Kotba': 566, 'Charla': 567, 'Kapadvanj': 568, 'Guskara(Burdwan)': 569, 'Bhadrachalam': 570, 'Kalmeshwar': 571, 'Jiaganj': 572, 'Visavadar': 573, 'Shevgaon(Bodhegaon)': 574, 'Mandla': 575, 'Ajmer(F&V)': 576, 'Khambha': 577, 'Mugrabaadshahpur': 578, 'Manjeswaram': 579, 'Konch': 580, 'Junagarh': 581, 'Gingee': 582, 'Takhatpur': 583, 'Chaurai': 584, 'Kuttoor': 585, 'Ettumanoor': 586, 'Munnar': 587, 'Patiala': 588, 'Alipurduar': 589, 'Divai': 590, 'Ateli': 591, 'Namakkal': 592, 'New Market Aizawl': 593, 'Tiphra': 594, 'Shikaripura': 595, 'Khadur Sahib': 596, 'Tarikere': 597, 'Tanduru': 598, 'Bardoli(Madhi)': 599, 'Talalagir': 600, 'Pollachi': 601, 'Ner Parasopant': 602, 'Khategaon': 603, 'Parassala': 604, 'Hardoi': 605, 'Amreli': 606, 'Mehsana(Jornang)': 607, 'Harpalpur': 608, 'Banthara': 609, 'Morena': 610, 'Chelakkara': 611, 'Dhanera': 612, 'Kodungalloor': 613, 'Srinivasapur': 614, 'Bodhan': 615, 'Jagtial': 616, 'Chityal': 617, 'Jairamnagar': 618, 'Cheeka': 619, 'Partur': 620, 'Gadarpur': 621, 'Varipaal': 622, 'Rahuri': 623, 'Parappanangadi': 624, 'Chabhal': 625, 'Balapur': 626, 'Sultanpurchilkana': 627, 'Chittoor': 628, 'Jeypore': 629, 'Dindori': 630, 'Vazhapadi': 631, 'Allahabad': 632, 'Dadengiri': 633, 'Negamam': 634, 'Coochbehar': 635, 'Shahagarh': 636, 'Bareilly': 637, 'Gadhwah': 638, 'Rawla': 639, 'Tasgaon': 640, 'Ramaganj Mandi': 641, 'Chandvad': 642, 'Ambad (Vadigodri)': 643, 'Tenning': 644, 'Chuliaposi': 645, 'Vyra': 646, 'Kumta': 647, 'Gidam': 648, 'Majitha': 649, 'Gonikappal': 650, 'Malout': 651, 'Somvarpet': 652, 'Timarni': 653, 'Manendragarh': 654, 'Halia': 655, 'Isagarh': 656, 'Devariya': 657, 'Mullana(saha)': 658, 'Sitmau': 659, 'Rajasamand': 660, 'Radaur': 661, 'Thodupuzha': 662, 'H.B. Halli': 663, 'Iamailabad': 664, 'Mazhuvannur': 665, 'Chandoli': 666, 'Shorapur': 667, 'Thiryagadurgam': 668, 'Khujner': 669, 'Hindoun': 670, 'Chhibramau(Kannuj)': 671, 'Kapurthala': 672, 'Chandrapur': 673, 'Arasikere': 674, 'Cheyyar': 675, 'Parkal': 676, 'Richha': 677, 'Azamgarh': 678, 'Mawana': 679, 'Shrirampur': 680, 'Nawanshahar': 681, 'Palamaner': 682, 'Sitapur': 683, 'Dudhani': 684, 'Bardewri': 685, 'Maholi': 686, 'Khairagarh': 687, 'Matar': 688, 'Talod': 689, 'Kolar': 690, 'Mehmadabad': 691, 'Pudupalayam': 692, 'Anandnagar': 693, 'Babhulgaon': 694, 'Mathura': 695, 'Khamgaon': 696, 'Thalaivasal': 697, 'Bhehjoi': 698, 'Barikpur': 699, 'Vidisha': 700, 'Voligonda': 701, 'Jalaun': 702, 'Lalganj': 703, 'Pulgaon': 704, 'Villupuram': 705, 'Borsad': 706, 'Kurinchipadi': 707, 'Khaga': 708, 'Daloda': 709, 'Jamkhed': 710, 'Haatpipliya': 711, 'Rahatgarh': 712, 'Anwala': 713, 'Chithode': 714, 'Abhanpur': 715, 'Khunthabandha': 716, 'Kendupatna': 717, 'Jhabua': 718, 'Sirsaganj': 719, 'Khliehriat': 720, 'Nilanga': 721, 'Dudhawa': 722, 'Bijnaur': 723, 'Nongpoh (R-Bhoi)': 724, 'Jetpur-Pavi': 725, 'Latur': 726, 'Raver': 727, 'Ghansour': 728, 'Srirangapattana': 729, 'Madagadipet': 730, 'Mangkolemba': 731, 'Bangalore': 732, 'Ahirora': 733, 'Chathanoor': 734, 'Jowai': 735, 'Buldhana(Dhad)': 736, 'Balarampur': 737, 'Kosikalan': 738, 'Sarankul': 739, 'Karanja': 740, 'Bhurkoni': 741, 'Koratla': 742, 'Rajasingamangalam': 743, 'Rajkot': 744, 'Perumbavoor': 745, 'Ding': 746, 'Udumalpet': 747, 'Toofanganj': 748, 'Nagbhid': 749, 'Hoshangabad': 750, 'Sardhana': 751, 'Gangavathi': 752, 'Dharamkot': 753, 'Holalkere': 754, 'Palakkad': 755, 'Jagadhri': 756, 'Chorichora': 757, 'Orai': 758, 'Sabalgarh': 759, 'Ahmedabad': 760, 'Noida': 761, 'Javad': 762, 'Mansa (Bhamekalan)': 763, 'Ujhani': 764, 'Segaon': 765, 'Thanabhawan': 766, 'Jintur(Bori)': 767, 'Kotma': 768, 'Raichur': 769, 'Gondpimpri': 770, 'Gadarwada': 771, 'Lalitpur': 772, 'Thara': 773, 'Ibrahimputnam': 774, 'Jagatsinghpur': 775, 'Beldanga': 776, 'Praswada': 777, 'Pandua': 778, 'Kurali': 779, 'Radhanpur': 780, 'Kavunthapadi': 781, 'Sindholi': 782, 'Vithinasserri': 783, 'Devband': 784, 'Akbarpur': 785, 'Bhattu Kalan': 786, 'Vagodiya': 787, 'Taal': 788, 'Thrissur': 789, 'Chavakkad': 790, 'Laxmeshwar': 791, 'Merta City': 792, 'Davgadbaria(Piplod)': 793, 'Kandi': 794, 'Kesinga': 795, 'Pune(Hadapsar)': 796, 'Pukhrayan': 797, 'Bargarh(Barapalli)': 798, 'Vallam': 799, 'Bharwari': 800, 'Jaleswar': 801, 'Mehsana': 802, 'Ajmer (Grain)': 803, 'Bhainsa': 804, 'Ariyalur Market': 805, 'Malegaon(Umarane)': 806, 'Chhpara': 807, 'Palampur': 808, 'Konta': 809, 'Satna(F&V)': 810, 'Moolanur': 811, 'Khandwa': 812, 'Bagepalli': 813, 'Sadasivpet': 814, 'Tanda Urmur': 815, 'Mangaon': 816, 'Nagpur': 817, 'Tindivanam': 818, 'Athirampuzha': 819, 'Pehowa': 820, 'Vellore': 821, 'Badarwas': 822, 'Momanbadodiya': 823, 'Erode': 824, 'Singroli': 825, 'Buldhana': 826, 'Adimali': 827, 'Mehatpur': 828, 'Tharad(Rah)': 829, 'Bhadrak': 830, 'Kasipur': 831, 'Ratlam': 832, 'Mehsana(Mehsana Veg)': 833, 'Jawar': 834, 'Samba': 835, 'Ahmednagar': 836, 'Nahan': 837, 'Kangra': 838, 'Pattambi': 839, 'Karimganj': 840, 'Gadaura': 841, 'Tura': 842, 'Khanauri': 843, 'Wardha': 844, 'Samrala': 845, 'Kopargaon': 846, 'Nissing': 847, 'Naushera Pannuan': 848, 'Balwadi': 849, 'Chhapiheda': 850, 'Umarked(Danki)': 851, 'Madhira': 852, 'Shamgarh(F&V)': 853, 'Barad': 854, 'Muradabad': 855, 'Jagnair': 856, 'Maanachar': 857, 'Sahnewal': 858, 'Alur': 859, 'Gandhwani': 860, 'Siddapur': 861, 'Hathur': 862, 'Mekhliganj': 863, 'Perinthalmanna': 864, 'Sheopurbadod': 865, 'Surajgarh': 866, 'Narnaund': 867, 'Athani': 868, 'K.R.Nagar': 869, 'Utraula': 870, 'Gopa': 871, 'Bachaibari': 872, 'Kothamangalam': 873, 'Ambaha': 874, 'Bishramganj': 875, 'Mehekar': 876, 'Sehore': 877, 'Kaij': 878, 'Pune(Khadiki)': 879, 'Ramdurga': 880, 'Charra': 881, 'Haliyala': 882, 'Dasda': 883, 'Shadnagar': 884, 'Khatora': 885, 'Santoshgarh': 886, 'Porsa': 887, 'Vadali': 888, 'Tamluk (Medinipur E)': 889, 'Robertsganj': 890, 'Chirgaon': 891, 'Hiriyur': 892, 'Jaisinagar': 893, 'Dadri': 894, 'Chandausi': 895, 'Dharwar': 896, 'Howly': 897, 'Vessue': 898, 'Purwa': 899, 'Thammampati': 900, 'Godhra(Timbaroad)': 901, 'Melaghar': 902, 'Kasganj': 903, 'Tadkalas': 904, 'Purna': 905, 'Sangamner': 906, 'Chutmalpur': 907, 'Bowenpally': 908, 'Dhamnod': 909, 'Ladwa': 910, 'Muktsar': 911, 'Vilthararoad': 912, 'Vita': 913, 'Karvi': 914, 'Laskein': 915, 'Dhing': 916, 'Ranebennur': 917, 'Lashkar(F&V)': 918, 'Aurad Shahajani': 919, 'Jhumpura': 920, 'Jind': 921, 'Majalgaon': 922, 'Karanjia': 923, 'Deoli': 924, 'Rasipuram': 925, 'Bagru': 926, 'Kuruppanthura': 927, 'Nawabganj': 928, 'Hissar': 929, 'English Bazar': 930, 'Karjan': 931, 'Safidon': 932, 'Rajnandgaon': 933, 'Paonta Sahib': 934, 'Bhanvad': 935, 'Siddhpur': 936, 'Dhari': 937, 'Vettavalam': 938, 'Rajpipla': 939, 'Damoh': 940, 'Shrimushnam': 941, 'Vishalpur': 942, 'Chandur Bazar': 943, 'Bishenpur': 944, 'Rura': 945, 'Tuljapur': 946, 'Kotadwara': 947, 'Golagokarnath': 948, 'Doharighat': 949, 'Alangeyam': 950, 'Badnawar': 951, 'Malkapur': 952, 'Tarantaran': 953, 'Nakrekal': 954, 'Rasda': 955, 'Shajapur(F&V)': 956, 'Yawal': 957, 'Jambusar(Kaavi)': 958, 'Bhavani': 959, 'Kurara': 960, 'Gunpur': 961, 'Kopaganj': 962, 'Bardoli(Katod)': 963, 'Raisingh Nagar': 964, 'Pirda': 965, 'Venkateswarnagar': 966, 'Karad': 967, 'Gorakhpur': 968, 'Kota': 969, 'Pundibari': 970, 'Pitlam': 971, 'Banapura': 972, 'Jhargram': 973, 'ZariZamini': 974, 'Parakkodu': 975, 'Parbhani': 976, 'Koraput(Semilguda)': 977, 'Pachora': 978, 'Botad(Haddad)': 979, 'Bhavnagar': 980, 'Gazipur': 981, 'Nimbahera': 982, 'Bhadson': 983, 'Pharasgaon': 984, 'Annigeri': 985, 'Ulhasnagar': 986, 'Seoni': 987, 'Khemkaran (Amarkot)': 988, 'Batala': 989, 'Taura': 990, 'Vai': 991, 'Belgaum': 992, 'Upleta': 993, 'Dhariwal': 994, 'Modasa(Tintoi)': 995, 'Vikarabad': 996, 'Mehgaon': 997, 'Neem Ka Thana': 998, 'Rajapalayam': 999, 'Kannur': 1000, 'Mullana': 1001, 'Pulwama (F&V)': 1002, 'Aluva': 1003, 'Taliparamba': 1004, 'Mechua': 1005, 'Egra/contai': 1006, 'Muskara': 1007, 'Betnoti': 1008, 'Karhi': 1009, 'Purulia': 1010, 'Mandsaur': 1011, 'Maur': 1012, 'Latur(Murud)': 1013, 'Warangal': 1014, 'Ghansawangi': 1015, 'Panthawada': 1016, 'Mahoba': 1017, 'Falakata': 1018, 'Kila Raipur': 1019, 'Vadgaonpeth': 1020, 'Sikarpur': 1021, 'Arang': 1022, 'Jalgaon(Masawat)': 1023, 'Lateri': 1024, 'Mulabagilu': 1025, 'Karimnagar': 1026, 'Mahboob Manison': 1027, 'Nagari': 1028, 'Ait': 1029, 'Etah': 1030, 'Haldibari': 1031, 'Manathavady': 1032, 'Paithan': 1033, 'Moovattupuzha': 1034, 'Gubbi': 1035, 'Bhanupratappur': 1036, 'Mehmoodabad': 1037, 'Fruit Market': 1038, 'Moth': 1039, 'Karmala': 1040, 'Deesa': 1041, 'Pandhana(F&V)': 1042, 'Sirsa': 1043, 'Dhand': 1044, 'Jalore': 1045, 'Shahjahanpur': 1046, 'Haldwani': 1047, 'Pethappampatti': 1048, 'Sanwer': 1049, 'Dound': 1050, 'Lonar': 1051, 'Kalipur': 1052, 'Nizar': 1053, 'Meerut': 1054, 'Ranniangadi': 1055, 'Memari': 1056, 'Nakud': 1057, 'Najibabad': 1058, 'Thondamuthur': 1059, 'Lalsot(Mandabari)': 1060, 'Rajpura': 1061, 'Sinner': 1062, 'Gulbarga': 1063, 'Chikali': 1064, 'Malkanagiri': 1065, 'Pattamundai': 1066, 'Talwandi Sabo': 1067, 'Karnailganj': 1068, 'Katghora': 1069, 'Sehjanwa': 1070, 'Mohammdi': 1071, 'Nanuta': 1072, 'Chaksu': 1073, 'Nawarangpur': 1074, 'Badepalli': 1075, 'Deoulgaon Raja': 1076, 'Ujjain': 1077, 'Narayanpet': 1078, 'Varanasi(Grain)': 1079, 'Samsabad': 1080, 'Nadiyad(Chaklasi)': 1081, 'Amargarh': 1082, 'Sevur': 1083, 'Kangra(Jaisinghpur)': 1084, 'Nautnava': 1085, 'Vijapur(Kukarvada)': 1086, 'Mandalgarh': 1087, 'Sangrur': 1088, 'Bhivandi': 1089, 'Badayoun': 1090, 'Naanpara': 1091, 'Mul': 1092, 'Niwai': 1093, 'Andimadom': 1094, 'Dindigul': 1095, 'Irityy': 1096, 'Surajpur': 1097, 'Bhilwara': 1098, 'Sahiyapur': 1099, 'Ramanujganj': 1100, 'Soyatkalan': 1101, 'Yadgir': 1102, 'Tamkuhi Road': 1103, 'Jambusar': 1104, 'Kammarpally': 1105, 'Udala': 1106, 'Bhadara': 1107, 'DEI(Bundi)': 1108, 'Nilagiri': 1109, 'Anchal': 1110, 'Sivagiri': 1111, 'Hosadurga': 1112, 'Annur': 1113, 'Maigalganj': 1114, 'Parikshitgarh': 1115, 'Akhnoor': 1116, 'Kolathur': 1117, 'Karatgi': 1118, 'Berachha': 1119, 'Perundurai': 1120, 'Vikasnagar': 1121, 'Parshiwani': 1122, 'Kantabaji': 1123, 'Baberu': 1124, 'Savli': 1125, 'Nagina': 1126, 'Dibiapur': 1127, 'Chengannur': 1128, 'Rayya': 1129, 'Rongram': 1130, 'Angaura': 1131, 'Shimoga': 1132, 'Piplya': 1133, 'Narwana': 1134, 'Ujjain(F&V)': 1135, 'Manalurpet': 1136, 'Bethuadahari': 1137, 'Banki': 1138, 'Coimbatore': 1139, 'Kasimbazar': 1140, 'Harippad': 1141, 'Avalurpet': 1142, 'Sindhanur': 1143, 'Sonpeth': 1144, 'Etawah': 1145, 'Goniana': 1146, 'Biaora': 1147, 'Kurawar': 1148, 'Gowribidanoor': 1149, 'Angamaly': 1150, 'Dhupguri': 1151, 'Kanjangadu': 1152, 'Garhakota': 1153, 'Obedullaganj': 1154, 'Pandkital': 1155, 'Vijapur': 1156, 'Kesli': 1157, 'Palanpur': 1158, 'Bhawanipatna': 1159, 'Hubli (Amaragol)': 1160, 'Burhanpur(F&V)': 1161, 'Misrikh': 1162, 'Shivpuri': 1163, 'Unnao': 1164, 'Beawar': 1165, 'Mandya': 1166, 'Gogamba(Similiya)': 1167, 'Ratanpur': 1168, 'Patti': 1169, 'Thirukovilur': 1170, 'Ghatal': 1171, 'Hirekerur': 1172, 'Papanasam': 1173, 'Jangipura': 1174, 'Bhikangaon': 1175, 'Samana': 1176, 'Bachranwa': 1177, 'Sahidngar': 1178, 'Shahaswan': 1179, 'Malur': 1180, 'Mohamadabad': 1181, 'Barmer': 1182, 'Bachau': 1183, 'Kalapipal': 1184, 'Tundla': 1185, 'Shevgaon': 1186, 'Amalner': 1187, 'Kille Dharur': 1188, 'Sindi': 1189, 'Kalamb(Osmanabad)': 1190, 'Ramanagara': 1191, 'Pabiacherra': 1192, 'Barwala(Hisar)': 1193, 'Dhrol': 1194, 'Malegaon(Vashim)': 1195, 'Beed': 1196, 'Pandharpur': 1197, 'Panchkul(Kalka)': 1198, 'Jaspur(UC)': 1199, 'Manwat': 1200, 'Champa': 1201, 'Gariyaband': 1202, 'Huzurnagar': 1203, 'Bodeli(Modasar)': 1204, 'North Lakhimpur': 1205, 'Sailana': 1206, 'Indapur': 1207, 'Sanad': 1208, 'Anajngaon': 1209, 'Yamuna Nagar': 1210, 'Tilhar': 1211, 'Jaipur (Grain)': 1212, 'Vandiperiyar': 1213, 'Tanda': 1214, 'Dhansura': 1215, 'Bhikhi': 1216, 'Devarakadra': 1217, 'Nasrullaganj': 1218, 'Omalur': 1219, 'Hamirpur(Nadaun)': 1220, 'Chitradurga': 1221, 'Karaikal': 1222, 'Haridwar Union': 1223, 'Bhulath': 1224, 'Devarakonda': 1225, 'Kurnool': 1226, 'Bariwala': 1227, 'Tanuku': 1228, 'Jorhat': 1229, 'Mansa': 1230, 'Udupi': 1231, 'Irinjalakkuda': 1232, 'Pargi': 1233, 'Shirur': 1234, 'Tosham': 1235, 'Samalkha': 1236, 'Chhindwara': 1237, 'Kamuthi': 1238, 'Lakshar': 1239, 'Jamnagar': 1240, 'Karaikudi': 1241, 'Basmat': 1242, 'Cuddalore': 1243, 'Nandyal': 1244, 'Thanjavur': 1245, 'Babrala': 1246, 'Ghaziabad': 1247, 'Sheoraphuly': 1248, 'Katwa': 1249, 'Chikkamagalore': 1250, 'Sikanderabad': 1251, 'Chakdah': 1252, 'Baghapurana': 1253, 'Mhalingapur': 1254, 'Harda(F&V)': 1255, 'Achalda': 1256, 'Ropar': 1257, 'Chikli(Khorgam)': 1258, 'Itarsi': 1259, 'Talcher': 1260, 'Saharpada': 1261, 'Unjha': 1262, 'Umared': 1263, 'Atrauli': 1264, 'Aron': 1265, 'Sindi(Selu)': 1266, 'Arvi': 1267, 'Raigarh': 1268, 'Vaduj': 1269, 'Sidhwan Bet': 1270, 'Kottayam': 1271, 'Becharaji': 1272, 'Moga': 1273, 'Ganjdudwara': 1274, 'Orathanadu': 1275, 'Dhanaula': 1276, 'Jasvantnagar': 1277, 'Harihara': 1278, 'Farukhabad': 1279, 'Vadgam': 1280, 'Melur': 1281, 'Gajsinghpur': 1282, 'Udgir(Devanibud)': 1283, 'Vansda(Limzar)': 1284, 'Kalvan': 1285, 'Nizamabad': 1286, 'Tendukheda': 1287, 'Punalur': 1288, 'Banaganapalli': 1289, 'Buland Shahr': 1290, 'Morena(F&V)': 1291, 'Ramtek': 1292, 'Jharsuguda': 1293, 'Akluj': 1294, 'Jintur': 1295, 'Payyannur': 1296, 'Kicchha': 1297, 'Balugaon': 1298, 'Dera Bassi': 1299, 'Amirgadh': 1300, 'Tonk': 1301, 'Shikohabad': 1302, 'Badda': 1303, 'Sanchor': 1304, 'Chintamani': 1305, 'Kusmee': 1306, 'Shadabad': 1307, 'Bahedi': 1308, 'Multai': 1309, 'Jahanabad': 1310, 'Ballia': 1311, 'Ghoti': 1312, 'Ezhamkulam': 1313, 'Khurja': 1314, 'Phagwara': 1315, 'Thalasserry': 1316, 'Hanumana': 1317, 'Noor Mehal': 1318, 'Narayanpur': 1319, 'Maranelloor': 1320, 'Valia': 1321, 'Suryapeta': 1322, 'Chandur(Mungodu)': 1323, 'Kamakhyanagar': 1324, 'Bhawani Mandi': 1325, 'Kolaras': 1326, 'Alirajpur': 1327, 'Kunjpura': 1328, 'Uluberia': 1329, 'Kayamganj': 1330, 'Rajahmundry': 1331, 'Vankaner(Sub yard)': 1332, 'Manthani': 1333, 'Bareli': 1334, 'Nilokheri': 1335, 'Davangere': 1336, 'Kanker': 1337, 'Sircilla': 1338, 'Awagarh': 1339, 'Dera Baba Nanak': 1340, 'Vellakkoil': 1341, 'Umarkhed': 1342, 'Madhoganj': 1343, 'Dankaur': 1344, 'Auraiya': 1345, 'Balachaur': 1346, 'Akole': 1347, 'Junagadh': 1348, 'Elevancheri': 1349, 'Palam': 1350, 'Sri Har Gobindpur': 1351, 'Chevella': 1352, 'Godhra': 1353, 'Selu': 1354, 'Car Nicobar': 1355, 'Uthiramerur': 1356, 'Durg': 1357, 'Kalawad': 1358, 'Jagraon': 1359, 'Kendupatna(Niali)': 1360, 'Dharapuram': 1361, 'Nedumkandam': 1362, 'Kawardha': 1363, 'Mahidpur': 1364, 'Achnera': 1365, 'Partaval': 1366, 'Rohroo': 1367, 'Mannar': 1368, 'Kamthi': 1369, 'Manvi': 1370, 'Karjat(Raigad)': 1371, 'Kukshi': 1372, 'Digapahandi': 1373, 'Hanagal': 1374, 'Mahbubnagar': 1375, 'Pune': 1376, 'Shakti': 1377, 'Devgadhbaria': 1378, 'Ashta': 1379, 'Narsinghgarh': 1380, 'Surat': 1381, 'Osmanabad': 1382, 'Chandrapur(Ganjwad)': 1383, 'Daryapur': 1384, 'Karsiyang(Matigara)': 1385, 'Burgampadu': 1386, 'Moreh': 1387, 'Dondaicha': 1388, 'Padampur': 1389, 'Ankleshwar': 1390, 'Mihipurwa': 1391, 'Mumbai': 1392, 'Dhandhuka': 1393, 'Naraingarh': 1394, 'Soharatgarh': 1395, 'Shakot (Malsian)': 1396, 'Rajgarh': 1397, 'Sitarganj': 1398, 'Murud': 1399, 'Rayagada': 1400, 'Vengeri(Kozhikode)': 1401, 'Ajnala': 1402, 'Aralamoodu': 1403, 'Channagiri': 1404, 'Narharpur': 1405, 'Aurangabad': 1406, 'Mehrauni': 1407, 'Tharad': 1408, 'Omalloor': 1409, 'Wyra': 1410, 'Dhule': 1411, 'Budalur': 1412, 'Ambikapur': 1413, 'Sohra': 1414, 'Bhiwani': 1415, 'Neemuch': 1416, 'Dasada Patadi': 1417, 'Shajapur': 1418, 'Phillaur': 1419, 'Kustagi': 1420, 'Hamirpur': 1421, 'Varanasi(F&V)': 1422, 'Dhenkanal': 1423, 'Jajpur': 1424, 'Digras': 1425, 'Kayamkulam': 1426, 'Ahmedpur': 1427, 'Kondotty': 1428, 'Pratapgarh': 1429, 'Gharghoda': 1430, 'Tumkur': 1431, 'Wazirganj': 1432, 'Kanpur(Grain)': 1433, 'Manora': 1434, 'Bhadravathi': 1435, 'Perambra': 1436, 'Tikonia': 1437, 'Gangapur': 1438, 'Munguli': 1439, 'Anandapur': 1440, 'Sarona': 1441, 'Mandal': 1442, 'Solapur': 1443, 'Nadia': 1444, 'Angul(Jarapada)': 1445, 'Puwaha': 1446, 'Vansda': 1447, 'Uniyara': 1448, 'Yusufpur': 1449, 'Dudhi': 1450, 'Pandhurna': 1451, 'Murim': 1452, 'Bijay Nagar': 1453, 'Cachar': 1454, 'Sunguvarchatram': 1455, 'Gohana': 1456, 'Aatpadi': 1457, 'Khatra': 1458, 'Nalgonda': 1459, 'Dongargarh': 1460, 'Dehradoon': 1461, 'Kiratpur': 1462, 'Shahganj': 1463, 'Khetia': 1464, 'Vadakkenchery': 1465, 'Madhugiri': 1466, 'Nargunda': 1467, 'Chengalpattu': 1468, 'Anyara(EEC)': 1469, 'Alappuzha': 1470, 'Karwar': 1471, 'Attingal': 1472, 'Jaora': 1473, 'Khalilabad': 1474, 'Vashi New Mumbai': 1475, 'Palera': 1476, 'Haldaur': 1477, 'Rajpur': 1478, 'Jaipur(F&V)': 1479, 'Pattikonda': 1480, 'Varora': 1481, 'Ammoor': 1482, 'Goluwala': 1483, 'Mau(Chitrakut)': 1484, 'Uchana': 1485, 'Degana': 1486, 'vadakarapathy': 1487, 'Pimpalgaon': 1488, 'Koduvayoor': 1489, 'Honnali': 1490, 'Suratgarh': 1491, 'Dausa': 1492, 'Thandla': 1493, 'Bindki': 1494, 'Shahzadpur': 1495, 'Limdi': 1496, 'Bilaspur': 1497, 'Ramannapet': 1498, 'Jumpuijala': 1499, 'Palani': 1500, 'Firozabad': 1501, 'Badami': 1502, 'Kattappana': 1503, 'Kot ise Khan': 1504, 'Sambalpur': 1505, 'Gohad': 1506, 'Bundi': 1507, 'Bodeli(Hadod)': 1508, 'Ruperdeeha': 1509, 'Karamadai': 1510, 'Mohanpur': 1511, 'Jayamkondam': 1512, 'Mehta': 1513, 'Alampur': 1514, 'Piler': 1515, 'Kalyanpur': 1516, 'Kolaghat': 1517, 'Sri Madhopur': 1518, 'Akot': 1519, 'Agra': 1520, 'Oddunchairum': 1521, 'Godabhaga': 1522, 'Chaandpur': 1523, 'Amadula': 1524, 'Hunsur': 1525, 'Ulundurpettai': 1526, 'Raibareilly': 1527, 'Pratappur': 1528, 'Imphal': 1529, 'Kadhle': 1530, 'Gangapur City': 1531, 'Jeypore(Kotpad)': 1532, 'Boudh': 1533, 'Bharuch': 1534, 'Nandura': 1535, 'Jafarganj': 1536, 'Mukerian': 1537, 'Elumathur': 1538, 'Jasdan': 1539, 'Sriganganagar(F&V)': 1540, 'Belargaon': 1541, 'L B Nagar': 1542, 'Mulakalacheruvu': 1543, 'Kalanaur': 1544, 'Shahabad': 1545, 'Sonepat': 1546, 'Dehgam(Rekhiyal)': 1547, 'Kallachi': 1548, 'Vadhvan': 1549, 'Tenali': 1550, 'Nandgaon': 1551, 'Madlauda': 1552, 'Muzzafarnagar': 1553, 'Khem karan': 1554, 'Vikkiravandi': 1555, 'Bewar': 1556, 'Sandila': 1557, 'Belacoba': 1558, 'Anta': 1559, 'Shahkot': 1560, 'Neora': 1561, 'Pothencode': 1562, 'Kasdol': 1563, 'Maksudangarh': 1564, 'Jarar': 1565, 'Aliganj': 1566, 'Jakhal': 1567, 'Guru Har Sahai': 1568, 'Manglaur': 1569, 'Hoskote': 1570, 'Nippani': 1571, 'Batote': 1572, 'Rajula': 1573, 'Naugarh': 1574, 'Viswan': 1575, 'Pilibhit': 1576, 'Dhampur': 1577, 'Khateema': 1578, 'Kishunpur': 1579, 'T. Narasipura': 1580, 'Bharuasumerpur': 1581, 'Sunam': 1582, 'Kunkuri': 1583, 'Pavani': 1584, 'Mhow': 1585, 'Ajaygarh': 1586, 'Enkoor': 1587, 'Matar(Limbasi)': 1588, 'Mamdot': 1589, 'Washim(Ansing)': 1590, 'Thoubal': 1591, 'Devala': 1592, 'Lehra Gaga': 1593, 'Panruti': 1594, 'Betul': 1595, 'Billsadda': 1596, 'Narsinghpur': 1597, 'Roorkee': 1598, 'Choppadandi': 1599, 'Visoli': 1600, 'Saraskana': 1601, 'Satara': 1602, 'Koraput': 1603, 'Dholka(Koth)': 1604, 'Mustafabad': 1605, 'Basti': 1606, 'Sealdah Koley Market': 1607, 'Khachrod': 1608, 'Manavdar': 1609, 'Jhajjar': 1610, 'Rayya(Sathiala)': 1611, 'Attari': 1612, 'Charkhari': 1613, 'Khariar': 1614, 'Bampada': 1615, 'Dammapet': 1616, 'Lakhani': 1617, 'Begu': 1618, 'Indus(Bankura Sadar)': 1619, 'Dhekiajuli': 1620, 'Rishikesh': 1621, 'Udaipur(F&V)': 1622, 'Chala': 1623, 'Indravelly(Utnoor)': 1624, 'Vamanapuram': 1625, 'Doddaballa Pur': 1626, 'Gattasilli': 1627, 'Bariya': 1628, 'Moodigere': 1629, 'Keshopur': 1630, 'Solan(Rajgarh)': 1631, 'Baghry': 1632, 'Jahangirabad': 1633, 'Kollam': 1634, 'Indore': 1635, 'Tiruvennainallur': 1636, 'Unhel': 1637, 'Mungawali': 1638, 'Parner': 1639, 'Vasai': 1640, 'Shopian': 1641, 'Kalyani': 1642, 'Parimpore': 1643, 'Wansi': 1644, 'Nakodar(Sarih)': 1645, 'Lingasugur': 1646, 'Songadh': 1647, 'Khargone': 1648, 'Ajuha': 1649, 'Shujalpur': 1650, 'Sikar': 1651, 'Salon': 1652, 'Faridkot': 1653, 'Kalpi': 1654, 'Ferozepur Cantt.': 1655, 'Kondagoan': 1656, 'Angul': 1657, 'Chowmanu': 1658, 'Karumanturai': 1659, 'Champadanga': 1660, 'Fatehpur Sikri': 1661, 'Jammikunta': 1662, 'Shamgarh': 1663, 'Bahadurgarh': 1664, 'Sangli': 1665, 'Indore(F&V)': 1666, 'Gadag': 1667, 'Chakur': 1668, 'Pendraroad': 1669, 'Atmakur': 1670, 'Kukanar': 1671, 'Payagpur': 1672, 'Kottarakkara': 1673, 'Gonda': 1674, 'Piravam': 1675, 'Bina': 1676, 'Jalana': 1677, 'Amritsar': 1678, 'Paliakala': 1679, 'Songadh(Umrada)': 1680, 'Uttaripura': 1681, 'Mottagaon': 1682, 'Visnagar': 1683, 'Sami': 1684, 'Longleng': 1685, 'Mauranipur': 1686, 'Gadwal': 1687, 'Sukma': 1688, 'Rahata': 1689, 'Abohar': 1690, 'Bilimora': 1691, 'Banga': 1692, 'Junnar(Alephata)': 1693, 'Ghanaur': 1694, 'Bolangir': 1695, 'Wanaparthy town': 1696, 'Sri Vijayanagar': 1697, 'Alirajpur(F&V)': 1698, 'Baran': 1699, 'Haathras': 1700, 'Penugonda': 1701, 'Sojat Road': 1702, 'Dhoraji': 1703, 'Lasalgaon': 1704, 'Kuchinda': 1705, 'Bangarpet': 1706, 'Chalisgaon': 1707, 'Baraut': 1708, 'Gaddiannaram': 1709, 'Kesamudram': 1710, 'Arjuni': 1711, 'Khamano': 1712, 'Ernakulam': 1713, 'Virudhachalam': 1714, 'Shahpura': 1715, 'Manasa': 1716, 'Satana': 1717, 'Niuland': 1718, 'Chethupattu': 1719, 'Boath': 1720, 'Amarawati': 1721, 'Kadi': 1722, 'Anthiyur': 1723, 'F.G.Churian': 1724, 'Shahabad(New Mandi)': 1725, 'Palghar': 1726, 'Kadur': 1727, 'Udhampur': 1728, 'Kurdwadi': 1729, 'Kalikiri': 1730, 'Basava Kalayana': 1731, 'Salem': 1732, 'Kalol': 1733, 'Sendhwa': 1734, 'Pala': 1735, 'Bhagta Bhai Ka': 1736, 'Birmaharajpur': 1737, 'Bazpur': 1738, 'Usilampatty': 1739, 'Murbad': 1740, 'Morbi': 1741, 'Sira': 1742, 'Acharapakkam': 1743, 'Gangoh': 1744, 'Rayagada(Muniguda)': 1745, 'Dabra': 1746, 'Morinda': 1747, 'Dinanagar': 1748, 'Nadwai': 1749, 'Baikunthpur': 1750, 'kalanwali': 1751, 'Sakri': 1752, 'Raikot': 1753, 'Yeola': 1754, 'Malthone': 1755, 'Bellary': 1756, 'Dhamtari': 1757, 'Gajol': 1758, 'Bheenmal(Ranlwada)': 1759}\n"
          ]
        }
      ]
    },
    {
      "cell_type": "code",
      "source": [
        "dist=(data2['month_column'])\n",
        "distset=set(dist)\n",
        "dd=list(distset)\n",
        "dictofwords={dd[i]: i for i in range(0,len(dd))}\n",
        "print(dictofwords)\n",
        "data2['month_column']=data2['month_column'].map(dictofwords)"
      ],
      "metadata": {
        "colab": {
          "base_uri": "https://localhost:8080/"
        },
        "id": "nsLncU0i1cmm",
        "outputId": "9cae8b6b-c6df-4ca9-845e-b468677a2c35"
      },
      "execution_count": null,
      "outputs": [
        {
          "output_type": "stream",
          "name": "stdout",
          "text": [
            "{'May': 0, 'August': 1, 'September': 2, 'June': 3, 'July': 4}\n"
          ]
        }
      ]
    },
    {
      "cell_type": "code",
      "source": [
        "dist=(data2['season_names'])\n",
        "distset=set(dist)\n",
        "dd=list(distset)\n",
        "dictofwords={dd[i]: i for i in range(0,len(dd))}\n",
        "print(dictofwords)\n",
        "data2['season_names']=data2['season_names'].map(dictofwords)"
      ],
      "metadata": {
        "colab": {
          "base_uri": "https://localhost:8080/"
        },
        "id": "lDS69rLs1gyi",
        "outputId": "15c31f6d-6d01-4091-8b6d-844e8ff266e5"
      },
      "execution_count": null,
      "outputs": [
        {
          "output_type": "stream",
          "name": "stdout",
          "text": [
            "{'Jun-Sep': 0, 'Mar-May': 1}\n"
          ]
        }
      ]
    },
    {
      "cell_type": "code",
      "source": [
        "data2.info()"
      ],
      "metadata": {
        "colab": {
          "base_uri": "https://localhost:8080/"
        },
        "id": "tlCP6LPA1kq5",
        "outputId": "0f22aa86-3f6c-4bf7-e47b-e480109c97bc"
      },
      "execution_count": null,
      "outputs": [
        {
          "output_type": "stream",
          "name": "stdout",
          "text": [
            "<class 'pandas.core.frame.DataFrame'>\n",
            "Int64Index: 94494 entries, 6 to 99998\n",
            "Data columns (total 10 columns):\n",
            " #   Column          Non-Null Count  Dtype  \n",
            "---  ------          --------------  -----  \n",
            " 0   commodity_name  94494 non-null  int64  \n",
            " 1   state           94494 non-null  int64  \n",
            " 2   district        94494 non-null  int64  \n",
            " 3   market          94494 non-null  int64  \n",
            " 4   min_price       94494 non-null  float64\n",
            " 5   max_price       94494 non-null  float64\n",
            " 6   modal_price     94494 non-null  float64\n",
            " 7   month_column    94494 non-null  int64  \n",
            " 8   season_names    94494 non-null  int64  \n",
            " 9   day             94494 non-null  int64  \n",
            "dtypes: float64(3), int64(7)\n",
            "memory usage: 9.9 MB\n"
          ]
        }
      ]
    },
    {
      "cell_type": "code",
      "source": [
        "data2.columns"
      ],
      "metadata": {
        "colab": {
          "base_uri": "https://localhost:8080/"
        },
        "id": "EkOh9Cam1mLZ",
        "outputId": "8a525ea0-1711-4ed2-d3c8-b7fb04098b2b"
      },
      "execution_count": null,
      "outputs": [
        {
          "output_type": "execute_result",
          "data": {
            "text/plain": [
              "Index(['commodity_name', 'state', 'district', 'market', 'min_price',\n",
              "       'max_price', 'modal_price', 'month_column', 'season_names', 'day'],\n",
              "      dtype='object')"
            ]
          },
          "metadata": {},
          "execution_count": 75
        }
      ]
    },
    {
      "cell_type": "code",
      "source": [
        "features=data2[['commodity_name', 'state', 'district', 'market', 'month_column', 'season_names', 'day']]\n",
        "labels=data2['modal_price']"
      ],
      "metadata": {
        "id": "b_o95KtF1woM"
      },
      "execution_count": null,
      "outputs": []
    },
    {
      "cell_type": "code",
      "source": [
        "from sklearn.model_selection import train_test_split\n",
        "Xtrain,Xtest,Ytrain,Ytest=train_test_split(features,labels,test_size=0.2,random_state=2)"
      ],
      "metadata": {
        "id": "WG1d1U7o12uc"
      },
      "execution_count": null,
      "outputs": []
    },
    {
      "cell_type": "code",
      "source": [
        "from sklearn.ensemble import RandomForestRegressor\n",
        "from sklearn import metrics\n",
        "from sklearn import tree\n",
        "from sklearn.ensemble import RandomForestRegressor\n",
        "from sklearn.datasets import make_regression"
      ],
      "metadata": {
        "id": "jRtywofR16J2"
      },
      "execution_count": null,
      "outputs": []
    },
    {
      "cell_type": "code",
      "source": [
        "regr=RandomForestRegressor(max_depth=1000,random_state=0)\n",
        "regr.fit(Xtrain,Ytrain)"
      ],
      "metadata": {
        "colab": {
          "base_uri": "https://localhost:8080/"
        },
        "id": "qzuc1n4P2A_f",
        "outputId": "5421e7fc-87d9-4204-cdea-792cc78b608c"
      },
      "execution_count": null,
      "outputs": [
        {
          "output_type": "execute_result",
          "data": {
            "text/plain": [
              "RandomForestRegressor(max_depth=1000, random_state=0)"
            ]
          },
          "metadata": {},
          "execution_count": 79
        }
      ]
    },
    {
      "cell_type": "code",
      "source": [
        "Xtest[0:1]"
      ],
      "metadata": {
        "colab": {
          "base_uri": "https://localhost:8080/",
          "height": 81
        },
        "id": "xJIJ45V52FzM",
        "outputId": "2ac74e2c-c240-4205-8317-62ae8950c114"
      },
      "execution_count": null,
      "outputs": [
        {
          "output_type": "execute_result",
          "data": {
            "text/plain": [
              "      commodity_name  state  district  market  month_column  season_names  day\n",
              "6857              79     21        40     493             0             1    2"
            ],
            "text/html": [
              "\n",
              "  <div id=\"df-34f8c911-d119-488f-a27a-2e3fd912e511\">\n",
              "    <div class=\"colab-df-container\">\n",
              "      <div>\n",
              "<style scoped>\n",
              "    .dataframe tbody tr th:only-of-type {\n",
              "        vertical-align: middle;\n",
              "    }\n",
              "\n",
              "    .dataframe tbody tr th {\n",
              "        vertical-align: top;\n",
              "    }\n",
              "\n",
              "    .dataframe thead th {\n",
              "        text-align: right;\n",
              "    }\n",
              "</style>\n",
              "<table border=\"1\" class=\"dataframe\">\n",
              "  <thead>\n",
              "    <tr style=\"text-align: right;\">\n",
              "      <th></th>\n",
              "      <th>commodity_name</th>\n",
              "      <th>state</th>\n",
              "      <th>district</th>\n",
              "      <th>market</th>\n",
              "      <th>month_column</th>\n",
              "      <th>season_names</th>\n",
              "      <th>day</th>\n",
              "    </tr>\n",
              "  </thead>\n",
              "  <tbody>\n",
              "    <tr>\n",
              "      <th>6857</th>\n",
              "      <td>79</td>\n",
              "      <td>21</td>\n",
              "      <td>40</td>\n",
              "      <td>493</td>\n",
              "      <td>0</td>\n",
              "      <td>1</td>\n",
              "      <td>2</td>\n",
              "    </tr>\n",
              "  </tbody>\n",
              "</table>\n",
              "</div>\n",
              "      <button class=\"colab-df-convert\" onclick=\"convertToInteractive('df-34f8c911-d119-488f-a27a-2e3fd912e511')\"\n",
              "              title=\"Convert this dataframe to an interactive table.\"\n",
              "              style=\"display:none;\">\n",
              "        \n",
              "  <svg xmlns=\"http://www.w3.org/2000/svg\" height=\"24px\"viewBox=\"0 0 24 24\"\n",
              "       width=\"24px\">\n",
              "    <path d=\"M0 0h24v24H0V0z\" fill=\"none\"/>\n",
              "    <path d=\"M18.56 5.44l.94 2.06.94-2.06 2.06-.94-2.06-.94-.94-2.06-.94 2.06-2.06.94zm-11 1L8.5 8.5l.94-2.06 2.06-.94-2.06-.94L8.5 2.5l-.94 2.06-2.06.94zm10 10l.94 2.06.94-2.06 2.06-.94-2.06-.94-.94-2.06-.94 2.06-2.06.94z\"/><path d=\"M17.41 7.96l-1.37-1.37c-.4-.4-.92-.59-1.43-.59-.52 0-1.04.2-1.43.59L10.3 9.45l-7.72 7.72c-.78.78-.78 2.05 0 2.83L4 21.41c.39.39.9.59 1.41.59.51 0 1.02-.2 1.41-.59l7.78-7.78 2.81-2.81c.8-.78.8-2.07 0-2.86zM5.41 20L4 18.59l7.72-7.72 1.47 1.35L5.41 20z\"/>\n",
              "  </svg>\n",
              "      </button>\n",
              "      \n",
              "  <style>\n",
              "    .colab-df-container {\n",
              "      display:flex;\n",
              "      flex-wrap:wrap;\n",
              "      gap: 12px;\n",
              "    }\n",
              "\n",
              "    .colab-df-convert {\n",
              "      background-color: #E8F0FE;\n",
              "      border: none;\n",
              "      border-radius: 50%;\n",
              "      cursor: pointer;\n",
              "      display: none;\n",
              "      fill: #1967D2;\n",
              "      height: 32px;\n",
              "      padding: 0 0 0 0;\n",
              "      width: 32px;\n",
              "    }\n",
              "\n",
              "    .colab-df-convert:hover {\n",
              "      background-color: #E2EBFA;\n",
              "      box-shadow: 0px 1px 2px rgba(60, 64, 67, 0.3), 0px 1px 3px 1px rgba(60, 64, 67, 0.15);\n",
              "      fill: #174EA6;\n",
              "    }\n",
              "\n",
              "    [theme=dark] .colab-df-convert {\n",
              "      background-color: #3B4455;\n",
              "      fill: #D2E3FC;\n",
              "    }\n",
              "\n",
              "    [theme=dark] .colab-df-convert:hover {\n",
              "      background-color: #434B5C;\n",
              "      box-shadow: 0px 1px 3px 1px rgba(0, 0, 0, 0.15);\n",
              "      filter: drop-shadow(0px 1px 2px rgba(0, 0, 0, 0.3));\n",
              "      fill: #FFFFFF;\n",
              "    }\n",
              "  </style>\n",
              "\n",
              "      <script>\n",
              "        const buttonEl =\n",
              "          document.querySelector('#df-34f8c911-d119-488f-a27a-2e3fd912e511 button.colab-df-convert');\n",
              "        buttonEl.style.display =\n",
              "          google.colab.kernel.accessAllowed ? 'block' : 'none';\n",
              "\n",
              "        async function convertToInteractive(key) {\n",
              "          const element = document.querySelector('#df-34f8c911-d119-488f-a27a-2e3fd912e511');\n",
              "          const dataTable =\n",
              "            await google.colab.kernel.invokeFunction('convertToInteractive',\n",
              "                                                     [key], {});\n",
              "          if (!dataTable) return;\n",
              "\n",
              "          const docLinkHtml = 'Like what you see? Visit the ' +\n",
              "            '<a target=\"_blank\" href=https://colab.research.google.com/notebooks/data_table.ipynb>data table notebook</a>'\n",
              "            + ' to learn more about interactive tables.';\n",
              "          element.innerHTML = '';\n",
              "          dataTable['output_type'] = 'display_data';\n",
              "          await google.colab.output.renderOutput(dataTable, element);\n",
              "          const docLink = document.createElement('div');\n",
              "          docLink.innerHTML = docLinkHtml;\n",
              "          element.appendChild(docLink);\n",
              "        }\n",
              "      </script>\n",
              "    </div>\n",
              "  </div>\n",
              "  "
            ]
          },
          "metadata": {},
          "execution_count": 80
        }
      ]
    },
    {
      "cell_type": "code",
      "source": [
        "y_pred = regr.predict(Xtest)"
      ],
      "metadata": {
        "id": "QG2sgS812Qge"
      },
      "execution_count": null,
      "outputs": []
    },
    {
      "cell_type": "code",
      "source": [
        "\n",
        "from sklearn.metrics import r2_score\n",
        "pipppp = r2_score(Ytest,y_pred)\n",
        "pipppp"
      ],
      "metadata": {
        "colab": {
          "base_uri": "https://localhost:8080/"
        },
        "id": "wFCsbkB02WuI",
        "outputId": "be0c1f74-3687-4c1c-c11e-23502c1dca45"
      },
      "execution_count": null,
      "outputs": [
        {
          "output_type": "execute_result",
          "data": {
            "text/plain": [
              "0.9155360792080597"
            ]
          },
          "metadata": {},
          "execution_count": 85
        }
      ]
    },
    {
      "cell_type": "code",
      "source": [
        "import pickle\n",
        "pickle.dump(pipppp, open(\"ppp.pkl\", \"wb\"))"
      ],
      "metadata": {
        "id": "Sux-775d2bu3"
      },
      "execution_count": null,
      "outputs": []
    },
    {
      "cell_type": "code",
      "source": [
        "data2.columns"
      ],
      "metadata": {
        "colab": {
          "base_uri": "https://localhost:8080/"
        },
        "id": "T7qQGJfZ2-pP",
        "outputId": "7e3085d2-3926-4a56-d6bb-7125a38919d7"
      },
      "execution_count": null,
      "outputs": [
        {
          "output_type": "execute_result",
          "data": {
            "text/plain": [
              "Index(['commodity_name', 'state', 'district', 'market', 'min_price',\n",
              "       'max_price', 'modal_price', 'month_column', 'season_names', 'day'],\n",
              "      dtype='object')"
            ]
          },
          "metadata": {},
          "execution_count": 87
        }
      ]
    },
    {
      "cell_type": "code",
      "source": [
        "data2['commodity_name']"
      ],
      "metadata": {
        "colab": {
          "base_uri": "https://localhost:8080/"
        },
        "id": "8esYG8f23-_T",
        "outputId": "49ca9716-0762-457a-838f-186593450e8d"
      },
      "execution_count": null,
      "outputs": [
        {
          "output_type": "execute_result",
          "data": {
            "text/plain": [
              "6        186\n",
              "8        105\n",
              "9        105\n",
              "10       105\n",
              "11       105\n",
              "        ... \n",
              "99994    152\n",
              "99995    148\n",
              "99996    152\n",
              "99997    148\n",
              "99998    148\n",
              "Name: commodity_name, Length: 94494, dtype: int64"
            ]
          },
          "metadata": {},
          "execution_count": 88
        }
      ]
    },
    {
      "cell_type": "code",
      "source": [],
      "metadata": {
        "id": "ePAUUhOv4PBL"
      },
      "execution_count": null,
      "outputs": []
    }
  ]
}